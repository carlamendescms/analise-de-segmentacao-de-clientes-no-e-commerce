{
  "cells": [
    {
      "cell_type": "markdown",
      "metadata": {
        "id": "view-in-github",
        "colab_type": "text"
      },
      "source": [
        "<a href=\"https://colab.research.google.com/github/carlamendescms/analise-de-segmentacao-de-clientes-no-e-commerce/blob/main/An%C3%A1lise_de_Segmenta%C3%A7%C3%A3o_de_Clientes_no_e_commerce.ipynb\" target=\"_parent\"><img src=\"https://colab.research.google.com/assets/colab-badge.svg\" alt=\"Open In Colab\"/></a>"
      ]
    },
    {
      "cell_type": "markdown",
      "metadata": {
        "_cell_guid": "049068e6-de54-44d8-a850-e5e9e7275088",
        "_uuid": "3c614c51-29b3-4021-a7bd-e4774e950cc0",
        "id": "XE5UEgxXkpnk"
      },
      "source": [
        "# <font color=\"#ff009e\">Projeto 3 - Análise de Segmentação de Clientes no e-commerce</font>\n",
        "<hr color=\"#F5F5F5\" size=\"1\">\n",
        "\n",
        "<img align=\"right\" width=\"240\" height=\"240\" src=\"https://v.fastcdn.co/u/cf943cfe/59276032-0-Ilustraciones.png\">\n",
        "\n",
        "Este notebook faz parte da solução que desenvolvi para o Projeto 3 da **[Certificação Analista de Dados](https://www.laboratoria.la/br/certificacao-analise-de-dados)** da Laboratoria em parceria com a IBM.\n",
        "\n",
        "**Por: [Carla Mendes](https://www.linkedin.com/in/carlamendescms/)**\n",
        "\n",
        "## <img align=\"left\"  width=\"240\" height=\"120\" src=\"https://v.fastcdn.co/u/cf943cfe/27418802-0-Laboratoria-Logo-RGB.png\"> \n",
        "\n",
        "<br>\n",
        "<hr color=\"#F5F5F5\" size=\"2\"> \n",
        "\n",
        "A <strong><a href=\"https://laboratoria.la/br\">Laboratoria</a></strong> tem como principal objetivo tornar a economia digital mais diversificada, inclusiva e competitiva que abra oportunidades para que mulheres possam desenvolver o seu potencial e assim transforme o futuro da América Latina.\n",
        "\n",
        "<!--- Criando um sumário permitir acesso rápido aos itens do notebook<!-->\n",
        "<div style=\"display:inline-block;vertical-align:top;\">\n",
        "<h2>Sumário:</h2>\n",
        "<ul>\n",
        "    <li><a href=\"#contexto-projeto\">Sobre o Contexto do Projeto </a></li>\n",
        "    <li><a href=\"#descricao-variaveis\">Descrição das Variáveis do Dataset</a></li>\n",
        "    <li><a href=\"#importar-dataset\">Importar o Dataset</a></li>\n",
        "    <li><a href=\"#limpar-dataset\">Entender e limpar o conjunto de dados</a></li>\n",
        "    <li><a href=\"#analise-metricas\">Análise de Métricas de Vendas </a></li>\n",
        "    <li><a href=\"#analise-coorte\">Análise de Coorte</a></li>\n",
        "    <li><a href=\"#segmentacao\"> Segmentação de Clientes usando RFM </a></li>\n",
        "    <li><a href=\"#recomendacoes\">Recomendações a UK Merch</a></li>\n",
        "    <li><a href=\"#referencias\">Referências</a></li>\n",
        "</ul>\n",
        "</div>\n",
        "\n",
        "<a id='contexto-projeto'></a>\n",
        "# <font color=\"#ff009e\">Sobre o Contexto do Projeto</font>\n",
        "<hr color=\"#F5F5F5\" size=\"1\">\n",
        "\n",
        "### Realizar uma segmentação de clientes aplicando a metodologia RFM para um e-commerce.\n",
        "\n",
        "Neste projeto, deverá ser realizada uma análise descritiva que mostrará ao CEO da <strong>UK Merch</strong>, uma empresa de varejo o quão bem ou mal as vendas estão indo em sua empresa.\n",
        "\n",
        "Trata-se de uma empresa jovem, com apenas 10 meses, que se dedica à venda de vestuário no atacado, ou seja, vende em quantidades relativamente grandes (geralmente 20 peças ou mais) e oferece um preço mais competitivo que o varejo convencional. Seus clientes são empresas menores que abastecem seu estoque comprando da UK Merch.\n",
        "\n",
        "Deverá medir o engajamento do cliente com base em uma <mark><b>análise de coorte</b></mark> e realizar uma <mark><b>segmentação de clientes aplicando a metodologia RFM</b></mark>, para que o negócio possa focar seus esforços e adotar estratégias diferenciadas para cada segmento, além de realizar a limpeza e o tratamento dos dados anteriormente a isso.\n",
        "\n",
        "<div class=\"alert alert-info\"> \n",
        "<strong><div style=\"color: rgb(0, 0, 0);\">📌 Os principais objetivos na aprendizagem deste projeto: </div></strong> <br>\n",
        "<div style=\"color: rgb(0, 0, 0);\">→ Realizar limpeza e tratamento de dados; </div>\n",
        "<div style=\"color: rgb(0, 0, 0);\">→ Realizar uma análise de coorte;</div>\n",
        "<div style=\"color: rgb(0, 0, 0);\">→ Realizar segmentação de clientes usando o modelo RFM; e</div>\n",
        "<div style=\"color: rgb(0, 0, 0);\">→ Desenvolver visualizações.</div>\n",
        "</div>\n",
        "\n",
        "<a id='descricao-variaveis'></a>\n",
        "# <font color=\"#ff009e\"> Descrição das Variáveis do Dataset</font>\n",
        "<hr color=\"#F5F5F5\" size=\"1\">\n",
        "\n",
        "| Variável | Descrição |\n",
        "| --- | --- |\n",
        "| **Nº da fatura** | Um número atribuído exclusivamente a cada transação. Se começar com \"c\", indica uma substituição. |\n",
        "| **Data da fatura** | Data e hora da fatura, dia e hora em que a transação foi gerada. |\n",
        "| **ID Cliente** | Número de clientes. Um número integral de 5 dígitos atribuído exclusivamente a cada cliente. |\n",
        "| **País** | O nome do país onde cada cliente reside. |\n",
        "| **Quantidade** | As quantidades de cada produto (item) por transação. |\n",
        "| **Valor** | Valor da fatura em libras esterlinas. |"
      ]
    },
    {
      "cell_type": "code",
      "source": [
        "%pip install --upgrade squarify"
      ],
      "metadata": {
        "colab": {
          "base_uri": "https://localhost:8080/"
        },
        "id": "A2xyUiqqou_P",
        "outputId": "c039f31d-3215-4bc1-b94d-d63ffc7f71bc"
      },
      "execution_count": null,
      "outputs": [
        {
          "output_type": "stream",
          "name": "stdout",
          "text": [
            "Looking in indexes: https://pypi.org/simple, https://us-python.pkg.dev/colab-wheels/public/simple/\n",
            "Requirement already satisfied: squarify in /usr/local/lib/python3.7/dist-packages (0.4.3)\n"
          ]
        }
      ]
    },
    {
      "cell_type": "code",
      "source": [
        "%pip install plotly"
      ],
      "metadata": {
        "colab": {
          "base_uri": "https://localhost:8080/"
        },
        "id": "v7S8zHn-o280",
        "outputId": "7c3f19d5-3bf3-4dfc-ee51-db3c251ef585"
      },
      "execution_count": null,
      "outputs": [
        {
          "output_type": "stream",
          "name": "stdout",
          "text": [
            "Looking in indexes: https://pypi.org/simple, https://us-python.pkg.dev/colab-wheels/public/simple/\n",
            "Requirement already satisfied: plotly in /usr/local/lib/python3.7/dist-packages (5.5.0)\n",
            "Requirement already satisfied: six in /usr/local/lib/python3.7/dist-packages (from plotly) (1.15.0)\n",
            "Requirement already satisfied: tenacity>=6.2.0 in /usr/local/lib/python3.7/dist-packages (from plotly) (8.0.1)\n"
          ]
        }
      ]
    },
    {
      "cell_type": "code",
      "execution_count": null,
      "metadata": {
        "_cell_guid": "1089fc2e-6b5d-4ac6-9c48-d1c0c4587bd0",
        "_kg_hide-input": false,
        "_uuid": "ea1860b2-8a00-41f8-b8a9-97a78637bf54",
        "execution": {
          "iopub.execute_input": "2022-07-15T19:01:21.580298Z",
          "iopub.status.busy": "2022-07-15T19:01:21.579328Z",
          "iopub.status.idle": "2022-07-15T19:01:24.055400Z",
          "shell.execute_reply": "2022-07-15T19:01:24.054167Z",
          "shell.execute_reply.started": "2022-07-15T19:01:21.580188Z"
        },
        "jupyter": {
          "source_hidden": true
        },
        "id": "88YiBmXEkpnp"
      },
      "outputs": [],
      "source": [
        "import numpy as np # linear algebra\n",
        "import pandas as pd # data processing, CSV file I/O (e.g. pd.read_csv)\n",
        "import seaborn as sns \n",
        "import matplotlib.pyplot as plt\n",
        "import squarify #squarify treemap layout algorithm\n",
        "import plotly.express as px #dash\n",
        "\n",
        "import warnings\n",
        "warnings.simplefilter(action='ignore', category=FutureWarning)"
      ]
    },
    {
      "cell_type": "code",
      "execution_count": null,
      "metadata": {
        "_cell_guid": "42570175-35cc-4942-bfda-6e4d49d339b9",
        "_kg_hide-input": false,
        "_uuid": "71710942-1b55-4628-80af-a3e3971ca7b0",
        "execution": {
          "iopub.execute_input": "2022-07-15T19:01:24.057918Z",
          "iopub.status.busy": "2022-07-15T19:01:24.057549Z",
          "iopub.status.idle": "2022-07-15T19:01:24.064141Z",
          "shell.execute_reply": "2022-07-15T19:01:24.062921Z",
          "shell.execute_reply.started": "2022-07-15T19:01:24.057862Z"
        },
        "jupyter": {
          "source_hidden": true
        },
        "colab": {
          "base_uri": "https://localhost:8080/"
        },
        "id": "GbZVpUBpkpnq",
        "outputId": "3b1e9be6-ca73-4b37-962c-9a3d4ccd78d5"
      },
      "outputs": [
        {
          "output_type": "stream",
          "name": "stdout",
          "text": [
            "Versão do Pandas -> 1.3.5\n",
            "Versão do Numpy -> 1.21.6\n",
            "Versão do Seaborn -> 0.11.2\n"
          ]
        }
      ],
      "source": [
        "# Verificando as versões das bibliotecas utilizadas\n",
        "print('Versão do Pandas -> %s' % pd.__version__)\n",
        "print('Versão do Numpy -> %s' % np.__version__)\n",
        "print('Versão do Seaborn -> %s' % sns.__version__)"
      ]
    },
    {
      "cell_type": "markdown",
      "metadata": {
        "_cell_guid": "ee9ae3b6-6018-4068-8838-5c9b7e6ba5f9",
        "_uuid": "8de8982a-f5c9-4016-bba1-8d6a389a29b8",
        "id": "Y6pQiq7Ikpnr"
      },
      "source": [
        "<div class=\"alert alert-info\"> \n",
        "<strong><div style=\"color: rgb(0, 0, 0);\">✨  Comentário:</div></strong> <br>\n",
        "    <div style=\"color: rgb(0, 0, 0);\">→ A etapa de entendimento, limpeza e tratamento dos dados é um <strong>item obrigatório</strong> e sua entrega será avaliada, sendo assim, os passos desenvolvidos para esta finalidade foram <strong>descritos detalhadamente neste notebook</strong>.</div>\n",
        "</div>"
      ]
    },
    {
      "cell_type": "markdown",
      "metadata": {
        "_cell_guid": "36a93325-9466-4efa-8ae9-1437e3b0d941",
        "_uuid": "7f2e54be-ffed-436f-87f3-d35afd441e2a",
        "id": "dSifuMTvkpnr"
      },
      "source": [
        "<a id='importar-dataset'></a>\n",
        "# <font color=\"#ff009e\"> 1. Importar o dataset </font>\n",
        "<hr color=\"#F5F5F5\" size=\"1\">"
      ]
    },
    {
      "cell_type": "code",
      "execution_count": null,
      "metadata": {
        "_cell_guid": "d4a21fd4-0603-4c2a-829a-3c9342312c94",
        "_uuid": "0fb99af2-708b-40bc-9b6b-4e4435bc322f",
        "execution": {
          "iopub.execute_input": "2022-07-15T19:01:24.065982Z",
          "iopub.status.busy": "2022-07-15T19:01:24.065461Z",
          "iopub.status.idle": "2022-07-15T19:01:24.186159Z",
          "shell.execute_reply": "2022-07-15T19:01:24.184912Z",
          "shell.execute_reply.started": "2022-07-15T19:01:24.065949Z"
        },
        "jupyter": {
          "outputs_hidden": false
        },
        "colab": {
          "base_uri": "https://localhost:8080/",
          "height": 206
        },
        "id": "d8XOrAeykpns",
        "outputId": "f49ec8a7-f79f-488a-e5ff-91080c060757"
      },
      "outputs": [
        {
          "output_type": "execute_result",
          "data": {
            "text/plain": [
              "  N° da fatura       Data da fatura  ID Cliente            País  Quantidade  \\\n",
              "0       548370   3/30/2021 16:14:00     15528.0  United Kingdom         123   \n",
              "1       575767  11/11/2021 11:11:00     17348.0  United Kingdom         163   \n",
              "2      C570727  10/12/2021 11:32:00     12471.0         Germany          -1   \n",
              "3       549106    4/6/2021 12:08:00     17045.0  United Kingdom           1   \n",
              "4       573112  10/27/2021 15:33:00     16416.0  United Kingdom         357   \n",
              "\n",
              "    Valor  \n",
              "0  229,33  \n",
              "1  209,73  \n",
              "2   -1,45  \n",
              "3   39,95  \n",
              "4  344,83  "
            ],
            "text/html": [
              "\n",
              "  <div id=\"df-88c227e0-b3ef-47ca-ae5f-b653cee9daf2\">\n",
              "    <div class=\"colab-df-container\">\n",
              "      <div>\n",
              "<style scoped>\n",
              "    .dataframe tbody tr th:only-of-type {\n",
              "        vertical-align: middle;\n",
              "    }\n",
              "\n",
              "    .dataframe tbody tr th {\n",
              "        vertical-align: top;\n",
              "    }\n",
              "\n",
              "    .dataframe thead th {\n",
              "        text-align: right;\n",
              "    }\n",
              "</style>\n",
              "<table border=\"1\" class=\"dataframe\">\n",
              "  <thead>\n",
              "    <tr style=\"text-align: right;\">\n",
              "      <th></th>\n",
              "      <th>N° da fatura</th>\n",
              "      <th>Data da fatura</th>\n",
              "      <th>ID Cliente</th>\n",
              "      <th>País</th>\n",
              "      <th>Quantidade</th>\n",
              "      <th>Valor</th>\n",
              "    </tr>\n",
              "  </thead>\n",
              "  <tbody>\n",
              "    <tr>\n",
              "      <th>0</th>\n",
              "      <td>548370</td>\n",
              "      <td>3/30/2021 16:14:00</td>\n",
              "      <td>15528.0</td>\n",
              "      <td>United Kingdom</td>\n",
              "      <td>123</td>\n",
              "      <td>229,33</td>\n",
              "    </tr>\n",
              "    <tr>\n",
              "      <th>1</th>\n",
              "      <td>575767</td>\n",
              "      <td>11/11/2021 11:11:00</td>\n",
              "      <td>17348.0</td>\n",
              "      <td>United Kingdom</td>\n",
              "      <td>163</td>\n",
              "      <td>209,73</td>\n",
              "    </tr>\n",
              "    <tr>\n",
              "      <th>2</th>\n",
              "      <td>C570727</td>\n",
              "      <td>10/12/2021 11:32:00</td>\n",
              "      <td>12471.0</td>\n",
              "      <td>Germany</td>\n",
              "      <td>-1</td>\n",
              "      <td>-1,45</td>\n",
              "    </tr>\n",
              "    <tr>\n",
              "      <th>3</th>\n",
              "      <td>549106</td>\n",
              "      <td>4/6/2021 12:08:00</td>\n",
              "      <td>17045.0</td>\n",
              "      <td>United Kingdom</td>\n",
              "      <td>1</td>\n",
              "      <td>39,95</td>\n",
              "    </tr>\n",
              "    <tr>\n",
              "      <th>4</th>\n",
              "      <td>573112</td>\n",
              "      <td>10/27/2021 15:33:00</td>\n",
              "      <td>16416.0</td>\n",
              "      <td>United Kingdom</td>\n",
              "      <td>357</td>\n",
              "      <td>344,83</td>\n",
              "    </tr>\n",
              "  </tbody>\n",
              "</table>\n",
              "</div>\n",
              "      <button class=\"colab-df-convert\" onclick=\"convertToInteractive('df-88c227e0-b3ef-47ca-ae5f-b653cee9daf2')\"\n",
              "              title=\"Convert this dataframe to an interactive table.\"\n",
              "              style=\"display:none;\">\n",
              "        \n",
              "  <svg xmlns=\"http://www.w3.org/2000/svg\" height=\"24px\"viewBox=\"0 0 24 24\"\n",
              "       width=\"24px\">\n",
              "    <path d=\"M0 0h24v24H0V0z\" fill=\"none\"/>\n",
              "    <path d=\"M18.56 5.44l.94 2.06.94-2.06 2.06-.94-2.06-.94-.94-2.06-.94 2.06-2.06.94zm-11 1L8.5 8.5l.94-2.06 2.06-.94-2.06-.94L8.5 2.5l-.94 2.06-2.06.94zm10 10l.94 2.06.94-2.06 2.06-.94-2.06-.94-.94-2.06-.94 2.06-2.06.94z\"/><path d=\"M17.41 7.96l-1.37-1.37c-.4-.4-.92-.59-1.43-.59-.52 0-1.04.2-1.43.59L10.3 9.45l-7.72 7.72c-.78.78-.78 2.05 0 2.83L4 21.41c.39.39.9.59 1.41.59.51 0 1.02-.2 1.41-.59l7.78-7.78 2.81-2.81c.8-.78.8-2.07 0-2.86zM5.41 20L4 18.59l7.72-7.72 1.47 1.35L5.41 20z\"/>\n",
              "  </svg>\n",
              "      </button>\n",
              "      \n",
              "  <style>\n",
              "    .colab-df-container {\n",
              "      display:flex;\n",
              "      flex-wrap:wrap;\n",
              "      gap: 12px;\n",
              "    }\n",
              "\n",
              "    .colab-df-convert {\n",
              "      background-color: #E8F0FE;\n",
              "      border: none;\n",
              "      border-radius: 50%;\n",
              "      cursor: pointer;\n",
              "      display: none;\n",
              "      fill: #1967D2;\n",
              "      height: 32px;\n",
              "      padding: 0 0 0 0;\n",
              "      width: 32px;\n",
              "    }\n",
              "\n",
              "    .colab-df-convert:hover {\n",
              "      background-color: #E2EBFA;\n",
              "      box-shadow: 0px 1px 2px rgba(60, 64, 67, 0.3), 0px 1px 3px 1px rgba(60, 64, 67, 0.15);\n",
              "      fill: #174EA6;\n",
              "    }\n",
              "\n",
              "    [theme=dark] .colab-df-convert {\n",
              "      background-color: #3B4455;\n",
              "      fill: #D2E3FC;\n",
              "    }\n",
              "\n",
              "    [theme=dark] .colab-df-convert:hover {\n",
              "      background-color: #434B5C;\n",
              "      box-shadow: 0px 1px 3px 1px rgba(0, 0, 0, 0.15);\n",
              "      filter: drop-shadow(0px 1px 2px rgba(0, 0, 0, 0.3));\n",
              "      fill: #FFFFFF;\n",
              "    }\n",
              "  </style>\n",
              "\n",
              "      <script>\n",
              "        const buttonEl =\n",
              "          document.querySelector('#df-88c227e0-b3ef-47ca-ae5f-b653cee9daf2 button.colab-df-convert');\n",
              "        buttonEl.style.display =\n",
              "          google.colab.kernel.accessAllowed ? 'block' : 'none';\n",
              "\n",
              "        async function convertToInteractive(key) {\n",
              "          const element = document.querySelector('#df-88c227e0-b3ef-47ca-ae5f-b653cee9daf2');\n",
              "          const dataTable =\n",
              "            await google.colab.kernel.invokeFunction('convertToInteractive',\n",
              "                                                     [key], {});\n",
              "          if (!dataTable) return;\n",
              "\n",
              "          const docLinkHtml = 'Like what you see? Visit the ' +\n",
              "            '<a target=\"_blank\" href=https://colab.research.google.com/notebooks/data_table.ipynb>data table notebook</a>'\n",
              "            + ' to learn more about interactive tables.';\n",
              "          element.innerHTML = '';\n",
              "          dataTable['output_type'] = 'display_data';\n",
              "          await google.colab.output.renderOutput(dataTable, element);\n",
              "          const docLink = document.createElement('div');\n",
              "          docLink.innerHTML = docLinkHtml;\n",
              "          element.appendChild(docLink);\n",
              "        }\n",
              "      </script>\n",
              "    </div>\n",
              "  </div>\n",
              "  "
            ]
          },
          "metadata": {},
          "execution_count": 126
        }
      ],
      "source": [
        "# importando o dataset que está no formato csv com o nome 'vendas-por-fatura.csv'\n",
        "# pode ser encontrado em: https://www.kaggle.com/datasets/datacertlaboratoria/projeto-3-segmentao-de-clientes-no-ecommerce\n",
        "# ou no meu repositório https://github.com/carlamendescms/analise-de-segmentacao-de-clientes-no-e-commerce \n",
        "\n",
        "df_ecommerce = pd.read_csv(\"./vendas-por-fatura.csv\")\n",
        "\n",
        "# visualizando a importação\n",
        "df_ecommerce.head()"
      ]
    },
    {
      "cell_type": "code",
      "execution_count": null,
      "metadata": {
        "_cell_guid": "9727798c-0fd0-4516-99c1-920fdbbd8255",
        "_uuid": "9003b0e0-8557-4675-adc9-4863ae710190",
        "execution": {
          "iopub.execute_input": "2022-07-15T19:01:24.191242Z",
          "iopub.status.busy": "2022-07-15T19:01:24.189868Z",
          "iopub.status.idle": "2022-07-15T19:01:24.200484Z",
          "shell.execute_reply": "2022-07-15T19:01:24.199000Z",
          "shell.execute_reply.started": "2022-07-15T19:01:24.191188Z"
        },
        "jupyter": {
          "outputs_hidden": false
        },
        "colab": {
          "base_uri": "https://localhost:8080/"
        },
        "id": "b29K4y-rkpns",
        "outputId": "31423ac0-c2b0-4241-adf6-e542e60b0c59"
      },
      "outputs": [
        {
          "output_type": "execute_result",
          "data": {
            "text/plain": [
              "Index(['N° da fatura', 'Data da fatura', 'ID Cliente', 'País', 'Quantidade',\n",
              "       'Valor'],\n",
              "      dtype='object')"
            ]
          },
          "metadata": {},
          "execution_count": 127
        }
      ],
      "source": [
        "df_ecommerce.columns"
      ]
    },
    {
      "cell_type": "markdown",
      "metadata": {
        "_cell_guid": "bc44bdae-6a43-4f4a-83a9-8da6165308c5",
        "_uuid": "83640fc0-4b07-421d-9e1b-571f1e6bd7b9",
        "id": "dwMHwTVlkpnt"
      },
      "source": [
        "Confirmando as colunas importadas no dataset que já sabemos que deveriam ser 6 e quais são. Aqui estão todas as colunas: 'N° da fatura', 'Data da fatura', 'ID Cliente', 'País', 'Quantidade' e 'Valor'."
      ]
    },
    {
      "cell_type": "code",
      "execution_count": null,
      "metadata": {
        "_cell_guid": "10475cc6-e116-4feb-a082-50b1059e4e9d",
        "_uuid": "5ae61541-56c3-4629-977a-49981b680162",
        "execution": {
          "iopub.execute_input": "2022-07-15T19:01:24.204119Z",
          "iopub.status.busy": "2022-07-15T19:01:24.203581Z",
          "iopub.status.idle": "2022-07-15T19:01:24.211364Z",
          "shell.execute_reply": "2022-07-15T19:01:24.210144Z",
          "shell.execute_reply.started": "2022-07-15T19:01:24.204070Z"
        },
        "jupyter": {
          "outputs_hidden": false
        },
        "id": "a2RS1CGpkpnt"
      },
      "outputs": [],
      "source": [
        "# Adicionando _ no nome das colunas para facilitar a manipulação\n",
        "df_ecommerce.columns = df_ecommerce.columns.str.replace(\" \", \"_\")"
      ]
    },
    {
      "cell_type": "markdown",
      "metadata": {
        "_cell_guid": "7eff1439-17b9-4f4a-b576-2e702bf4b4c1",
        "_uuid": "7fae4261-d240-49de-9dfa-39f7ffb725f5",
        "id": "u7PtJ1nLkpnu"
      },
      "source": [
        "<a id='limpar-dataset'></a>\n",
        "# <font color=\"#ff009e\"> 2. Entender e limpar o conjunto de dados </font>\n",
        "<hr color=\"#F5F5F5\" size=\"1\">"
      ]
    },
    {
      "cell_type": "code",
      "execution_count": null,
      "metadata": {
        "_cell_guid": "2e1c7e53-2144-4c49-a8a1-4ab5ce102d58",
        "_uuid": "c2f06231-afb8-4488-b08e-a6cf3e674049",
        "execution": {
          "iopub.execute_input": "2022-07-15T19:01:24.215653Z",
          "iopub.status.busy": "2022-07-15T19:01:24.214686Z",
          "iopub.status.idle": "2022-07-15T19:01:24.257213Z",
          "shell.execute_reply": "2022-07-15T19:01:24.256061Z",
          "shell.execute_reply.started": "2022-07-15T19:01:24.215607Z"
        },
        "jupyter": {
          "outputs_hidden": false
        },
        "colab": {
          "base_uri": "https://localhost:8080/"
        },
        "id": "ODV2mHSvkpnu",
        "outputId": "57ad2cd3-ef1c-4e2a-a48c-5fd129a84fa6"
      },
      "outputs": [
        {
          "output_type": "stream",
          "name": "stdout",
          "text": [
            "<class 'pandas.core.frame.DataFrame'>\n",
            "RangeIndex: 25953 entries, 0 to 25952\n",
            "Data columns (total 6 columns):\n",
            " #   Column          Non-Null Count  Dtype  \n",
            "---  ------          --------------  -----  \n",
            " 0   N°_da_fatura    25953 non-null  object \n",
            " 1   Data_da_fatura  25953 non-null  object \n",
            " 2   ID_Cliente      22229 non-null  float64\n",
            " 3   País            25953 non-null  object \n",
            " 4   Quantidade      25953 non-null  int64  \n",
            " 5   Valor           25953 non-null  object \n",
            "dtypes: float64(1), int64(1), object(4)\n",
            "memory usage: 1.2+ MB\n"
          ]
        }
      ],
      "source": [
        "df_ecommerce.info()"
      ]
    },
    {
      "cell_type": "markdown",
      "metadata": {
        "_cell_guid": "408b76a5-231f-4334-9610-e1de0a5aecb4",
        "_uuid": "e865c3f7-617d-4290-af78-3166622e5fa8",
        "id": "dCFBZ0Kkkpnu"
      },
      "source": [
        "<a id='detectar-nulo'></a>\n",
        "## <font color=\"#ff009e\"> 2.1 Detecção de nulos ou vazios </font>\n",
        "<hr color=\"#F5F5F5\" size=\"1\">\n",
        "\n",
        "Existem 22229 linhas com dados sobre 'ID_Cliente' enquanto há 25953 linhas preenchidas referente as outras colunas. Ou seja, temos que <mark><strong> existem 3.724 registros que não conseguimos identificar quem é o cliente</strong></mark>.\n",
        "\n",
        "<div class=\"alert alert-warning\"> \n",
        "<strong><div style=\"color: rgb(0, 0, 0);\">☠️  Importante:</div></strong> <br>\n",
        "    <div style=\"color: rgb(0, 0, 0);\">Na análise de coorte de clientes, utilizamos como critério para cálculo da retenção de clientes uma data de coorte. Para evitar criar cenários falsos de retenção, como não conseguimos afirmar que os clientes com ID nulo são ou não os mesmos que já contabilizados em alguma data de coorte, então iremos <strong>remover os registros que tenham 'ID_Cliente' nulos</strong> e evitar esse equívoco. </div>\n",
        "</div>"
      ]
    },
    {
      "cell_type": "code",
      "execution_count": null,
      "metadata": {
        "_cell_guid": "cdab7226-67eb-4edd-afb9-67d516db1438",
        "_uuid": "b5b7b344-b2aa-43d3-96b0-6ebbc7afb699",
        "execution": {
          "iopub.execute_input": "2022-07-15T19:01:24.259123Z",
          "iopub.status.busy": "2022-07-15T19:01:24.258475Z",
          "iopub.status.idle": "2022-07-15T19:01:24.272621Z",
          "shell.execute_reply": "2022-07-15T19:01:24.270944Z",
          "shell.execute_reply.started": "2022-07-15T19:01:24.259085Z"
        },
        "jupyter": {
          "outputs_hidden": false
        },
        "id": "ykHZjmfekpnv"
      },
      "outputs": [],
      "source": [
        "# Removendo linhas com registro nulo na coluna 'ID_Cliente'\n",
        "df_ecommerce = df_ecommerce.dropna(subset=[\"ID_Cliente\"])"
      ]
    },
    {
      "cell_type": "code",
      "execution_count": null,
      "metadata": {
        "_cell_guid": "326846dd-2205-4afa-8f7d-fc1200c97872",
        "_uuid": "aeb02b45-4f36-4bcd-b124-02f98beaec76",
        "execution": {
          "iopub.execute_input": "2022-07-15T19:01:24.275357Z",
          "iopub.status.busy": "2022-07-15T19:01:24.274578Z",
          "iopub.status.idle": "2022-07-15T19:01:24.296639Z",
          "shell.execute_reply": "2022-07-15T19:01:24.295258Z",
          "shell.execute_reply.started": "2022-07-15T19:01:24.275310Z"
        },
        "jupyter": {
          "outputs_hidden": false
        },
        "colab": {
          "base_uri": "https://localhost:8080/"
        },
        "id": "N6DuQIqtkpnv",
        "outputId": "b598d72b-a5e2-46b6-ecf4-4274f797c6be"
      },
      "outputs": [
        {
          "output_type": "execute_result",
          "data": {
            "text/plain": [
              "False"
            ]
          },
          "metadata": {},
          "execution_count": 131
        }
      ],
      "source": [
        "# verificando se existem valores nulos em qualquer uma das colunas\n",
        "df_ecommerce.isnull().values.any()"
      ]
    },
    {
      "cell_type": "markdown",
      "metadata": {
        "_cell_guid": "a7cca60d-b92a-455b-a660-eb110d1dbeae",
        "_uuid": "91d22362-ddb9-4455-b20a-cefaf07c9498",
        "id": "o_dVXcqHkpnv"
      },
      "source": [
        "Após isso foi possível validar que não há mais campos nulos em nenhuma das colunas existentes."
      ]
    },
    {
      "cell_type": "markdown",
      "metadata": {
        "_cell_guid": "8ffcc875-f941-4869-a740-6c95237a9087",
        "_uuid": "895e408d-109e-4a1c-a43f-8d6bbb4fc9b9",
        "id": "zlYNszb8kpnv"
      },
      "source": [
        "<a id='detectar-dupliacados'></a>\n",
        "## <font color=\"#ff009e\">  2.2 Detecção e remoção de dados duplicados </font>\n",
        "<hr color=\"#F5F5F5\" size=\"1\">"
      ]
    },
    {
      "cell_type": "code",
      "execution_count": null,
      "metadata": {
        "_cell_guid": "f53366e6-e086-4e91-8a47-c6b4057e8d77",
        "_uuid": "558b76df-fb2d-45be-a8fe-01943ca189e6",
        "execution": {
          "iopub.execute_input": "2022-07-15T19:01:24.301384Z",
          "iopub.status.busy": "2022-07-15T19:01:24.300131Z",
          "iopub.status.idle": "2022-07-15T19:01:24.334394Z",
          "shell.execute_reply": "2022-07-15T19:01:24.333172Z",
          "shell.execute_reply.started": "2022-07-15T19:01:24.301330Z"
        },
        "jupyter": {
          "outputs_hidden": false
        },
        "colab": {
          "base_uri": "https://localhost:8080/"
        },
        "id": "3V86QzNTkpnw",
        "outputId": "c2dbeb3b-b9fb-45f2-8083-c9b733c17e9b"
      },
      "outputs": [
        {
          "output_type": "execute_result",
          "data": {
            "text/plain": [
              "(22221, 6)"
            ]
          },
          "metadata": {},
          "execution_count": 132
        }
      ],
      "source": [
        "# Removendo os dados duplicados do dataset, se houver\n",
        "df_ecommerce.drop_duplicates(inplace=True)\n",
        "\n",
        "# apresentando quantidade de linhas e colunas\n",
        "df_ecommerce.shape"
      ]
    },
    {
      "cell_type": "markdown",
      "metadata": {
        "_cell_guid": "7fb2a594-112f-419a-88c7-e7e22069e216",
        "_uuid": "7056ba5e-d5af-4349-99e2-e1af7e883690",
        "id": "2w42gbi9kpnw"
      },
      "source": [
        "Para evitar contabilizar a mesma venda duas ou mais vezes, iremos remover as vendas que foram duplicadas, deixando apeas 1 venda para cada uma. Agora temos 22221 registros, ou seja, foram identificadas e <mark><strong>removidas 8 linhas duplicadas</strong></mark>."
      ]
    },
    {
      "cell_type": "markdown",
      "metadata": {
        "_cell_guid": "5c2915fe-4ebc-4207-b2eb-b803e58f9871",
        "_uuid": "9ee0a0d4-8278-42b2-91f0-bb88b7dde019",
        "id": "x6wipz4wkpnw"
      },
      "source": [
        "<a id='eliminar-negativos'></a>\n",
        "##  <font color=\"#ff009e\">  2.3 Detecção e eliminação de quantidades negativas </font>\n",
        "<hr color=\"#F5F5F5\" size=\"1\">\n",
        "\n",
        "Como as faturas que iniciam com a letra 'C' correspondem a devolução e desejamos analisar as vendas do negócio e não os estornos realizados, então iremos identificar e remover esses valores do nosso dataset."
      ]
    },
    {
      "cell_type": "code",
      "execution_count": null,
      "metadata": {
        "_cell_guid": "e761464d-86cb-4307-8d35-94c8b0aabff7",
        "_uuid": "fd7318e1-d29a-4272-b2ab-6f0e9b446da9",
        "execution": {
          "iopub.execute_input": "2022-07-15T19:01:24.340215Z",
          "iopub.status.busy": "2022-07-15T19:01:24.339527Z",
          "iopub.status.idle": "2022-07-15T19:01:24.365618Z",
          "shell.execute_reply": "2022-07-15T19:01:24.364422Z",
          "shell.execute_reply.started": "2022-07-15T19:01:24.340167Z"
        },
        "jupyter": {
          "outputs_hidden": false
        },
        "colab": {
          "base_uri": "https://localhost:8080/"
        },
        "id": "KLiRqMnokpnw",
        "outputId": "b6399780-a446-4ebd-b326-e8b5e2e683f0"
      },
      "outputs": [
        {
          "output_type": "execute_result",
          "data": {
            "text/plain": [
              "(3655, 6)"
            ]
          },
          "metadata": {},
          "execution_count": 133
        }
      ],
      "source": [
        "# filtrando todas as faturas que começam com 'C'\n",
        "devolucao = df_ecommerce['N°_da_fatura'].str.startswith('C')\n",
        "\n",
        "# verificando a quantidade de linhas identificadas\n",
        "df_ecommerce[devolucao].shape"
      ]
    },
    {
      "cell_type": "markdown",
      "metadata": {
        "_cell_guid": "f5d0178b-8316-46cf-a83c-b936dad68cca",
        "_uuid": "3dcc49f5-3438-473d-b046-6b09c71e356b",
        "id": "MSqLNJdlkpnw"
      },
      "source": [
        "Foram identificadas <mark><strong>3655 compras que tiveram devolução</strong></mark> e elas <strong>serão removidas do dataset</strong>."
      ]
    },
    {
      "cell_type": "code",
      "execution_count": null,
      "metadata": {
        "_cell_guid": "345b2309-1604-4962-a68e-75df72a32514",
        "_uuid": "4e47c6de-30c4-4ece-b949-ebc9963231d7",
        "execution": {
          "iopub.execute_input": "2022-07-15T19:01:24.369787Z",
          "iopub.status.busy": "2022-07-15T19:01:24.368734Z",
          "iopub.status.idle": "2022-07-15T19:01:24.382606Z",
          "shell.execute_reply": "2022-07-15T19:01:24.381236Z",
          "shell.execute_reply.started": "2022-07-15T19:01:24.369750Z"
        },
        "jupyter": {
          "outputs_hidden": false
        },
        "id": "YwCheNi-kpnx"
      },
      "outputs": [],
      "source": [
        "df_ecommerce.drop(df_ecommerce[devolucao].index, inplace=True)"
      ]
    },
    {
      "cell_type": "markdown",
      "metadata": {
        "_cell_guid": "a23ee24f-7440-4e4e-84d3-f4eb318054b4",
        "_uuid": "d1d121c9-fd9d-4b3d-89a3-08d3dc884c58",
        "id": "xpoTL2ddkpnx"
      },
      "source": [
        "<div class=\"alert alert-info\"> \n",
        "<strong><div style=\"color: rgb(0, 0, 0);\">✔️ Resultado:</div></strong> <br>\n",
        "    <div style=\"color: rgb(0, 0, 0);\">→ Como resultado da limpeza realizada temos 18566 registros após aplicar a limpeza nos dados. </div>\n",
        "</div>\n",
        "\n",
        "\n",
        "Mas antes, para permitir a manipulação dos dados, iremos aplicar alguns tratamentos necessários para as análises.\n",
        "\n",
        "<a id='tratamento-dados'></a>\n",
        "## <font color=\"#ff009e\"> 2.4 Tratamento de Dados </font>\n",
        "<hr color=\"#F5F5F5\" size=\"1\">"
      ]
    },
    {
      "cell_type": "code",
      "execution_count": null,
      "metadata": {
        "_cell_guid": "71668e67-dc5a-4046-8480-27b36ea4b6c5",
        "_uuid": "33b49acf-210a-4310-838b-289e23d24f7a",
        "execution": {
          "iopub.execute_input": "2022-07-15T19:01:24.384820Z",
          "iopub.status.busy": "2022-07-15T19:01:24.384469Z",
          "iopub.status.idle": "2022-07-15T19:01:26.613912Z",
          "shell.execute_reply": "2022-07-15T19:01:26.612686Z",
          "shell.execute_reply.started": "2022-07-15T19:01:24.384787Z"
        },
        "jupyter": {
          "outputs_hidden": false
        },
        "colab": {
          "base_uri": "https://localhost:8080/",
          "height": 269
        },
        "id": "XHloBjIgkpnx",
        "outputId": "9e4bbbc1-b171-4238-d736-3a627f8f9003"
      },
      "outputs": [
        {
          "output_type": "execute_result",
          "data": {
            "text/plain": [
              "      N°_da_fatura      Data_da_fatura  ID_Cliente            País  \\\n",
              "9367        536365 2020-12-01 08:26:00     17850.0  United Kingdom   \n",
              "18259       536366 2020-12-01 08:28:00     17850.0  United Kingdom   \n",
              "11185       536368 2020-12-01 08:34:00     13047.0  United Kingdom   \n",
              "6876        536367 2020-12-01 08:34:00     13047.0  United Kingdom   \n",
              "8195        536369 2020-12-01 08:35:00     13047.0  United Kingdom   \n",
              "505         536370 2020-12-01 08:45:00     12583.0          France   \n",
              "12932       536371 2020-12-01 09:00:00     13748.0  United Kingdom   \n",
              "\n",
              "       Quantidade   Valor  Ano_mes  \n",
              "9367           40  139.12  2020-12  \n",
              "18259          12   22.20  2020-12  \n",
              "11185          15   70.05  2020-12  \n",
              "6876           83  278.73  2020-12  \n",
              "8195            3   17.85  2020-12  \n",
              "505           449  855.86  2020-12  \n",
              "12932          80  204.00  2020-12  "
            ],
            "text/html": [
              "\n",
              "  <div id=\"df-e8f914f5-38a6-4e76-8571-6dd82dddf2ee\">\n",
              "    <div class=\"colab-df-container\">\n",
              "      <div>\n",
              "<style scoped>\n",
              "    .dataframe tbody tr th:only-of-type {\n",
              "        vertical-align: middle;\n",
              "    }\n",
              "\n",
              "    .dataframe tbody tr th {\n",
              "        vertical-align: top;\n",
              "    }\n",
              "\n",
              "    .dataframe thead th {\n",
              "        text-align: right;\n",
              "    }\n",
              "</style>\n",
              "<table border=\"1\" class=\"dataframe\">\n",
              "  <thead>\n",
              "    <tr style=\"text-align: right;\">\n",
              "      <th></th>\n",
              "      <th>N°_da_fatura</th>\n",
              "      <th>Data_da_fatura</th>\n",
              "      <th>ID_Cliente</th>\n",
              "      <th>País</th>\n",
              "      <th>Quantidade</th>\n",
              "      <th>Valor</th>\n",
              "      <th>Ano_mes</th>\n",
              "    </tr>\n",
              "  </thead>\n",
              "  <tbody>\n",
              "    <tr>\n",
              "      <th>9367</th>\n",
              "      <td>536365</td>\n",
              "      <td>2020-12-01 08:26:00</td>\n",
              "      <td>17850.0</td>\n",
              "      <td>United Kingdom</td>\n",
              "      <td>40</td>\n",
              "      <td>139.12</td>\n",
              "      <td>2020-12</td>\n",
              "    </tr>\n",
              "    <tr>\n",
              "      <th>18259</th>\n",
              "      <td>536366</td>\n",
              "      <td>2020-12-01 08:28:00</td>\n",
              "      <td>17850.0</td>\n",
              "      <td>United Kingdom</td>\n",
              "      <td>12</td>\n",
              "      <td>22.20</td>\n",
              "      <td>2020-12</td>\n",
              "    </tr>\n",
              "    <tr>\n",
              "      <th>11185</th>\n",
              "      <td>536368</td>\n",
              "      <td>2020-12-01 08:34:00</td>\n",
              "      <td>13047.0</td>\n",
              "      <td>United Kingdom</td>\n",
              "      <td>15</td>\n",
              "      <td>70.05</td>\n",
              "      <td>2020-12</td>\n",
              "    </tr>\n",
              "    <tr>\n",
              "      <th>6876</th>\n",
              "      <td>536367</td>\n",
              "      <td>2020-12-01 08:34:00</td>\n",
              "      <td>13047.0</td>\n",
              "      <td>United Kingdom</td>\n",
              "      <td>83</td>\n",
              "      <td>278.73</td>\n",
              "      <td>2020-12</td>\n",
              "    </tr>\n",
              "    <tr>\n",
              "      <th>8195</th>\n",
              "      <td>536369</td>\n",
              "      <td>2020-12-01 08:35:00</td>\n",
              "      <td>13047.0</td>\n",
              "      <td>United Kingdom</td>\n",
              "      <td>3</td>\n",
              "      <td>17.85</td>\n",
              "      <td>2020-12</td>\n",
              "    </tr>\n",
              "    <tr>\n",
              "      <th>505</th>\n",
              "      <td>536370</td>\n",
              "      <td>2020-12-01 08:45:00</td>\n",
              "      <td>12583.0</td>\n",
              "      <td>France</td>\n",
              "      <td>449</td>\n",
              "      <td>855.86</td>\n",
              "      <td>2020-12</td>\n",
              "    </tr>\n",
              "    <tr>\n",
              "      <th>12932</th>\n",
              "      <td>536371</td>\n",
              "      <td>2020-12-01 09:00:00</td>\n",
              "      <td>13748.0</td>\n",
              "      <td>United Kingdom</td>\n",
              "      <td>80</td>\n",
              "      <td>204.00</td>\n",
              "      <td>2020-12</td>\n",
              "    </tr>\n",
              "  </tbody>\n",
              "</table>\n",
              "</div>\n",
              "      <button class=\"colab-df-convert\" onclick=\"convertToInteractive('df-e8f914f5-38a6-4e76-8571-6dd82dddf2ee')\"\n",
              "              title=\"Convert this dataframe to an interactive table.\"\n",
              "              style=\"display:none;\">\n",
              "        \n",
              "  <svg xmlns=\"http://www.w3.org/2000/svg\" height=\"24px\"viewBox=\"0 0 24 24\"\n",
              "       width=\"24px\">\n",
              "    <path d=\"M0 0h24v24H0V0z\" fill=\"none\"/>\n",
              "    <path d=\"M18.56 5.44l.94 2.06.94-2.06 2.06-.94-2.06-.94-.94-2.06-.94 2.06-2.06.94zm-11 1L8.5 8.5l.94-2.06 2.06-.94-2.06-.94L8.5 2.5l-.94 2.06-2.06.94zm10 10l.94 2.06.94-2.06 2.06-.94-2.06-.94-.94-2.06-.94 2.06-2.06.94z\"/><path d=\"M17.41 7.96l-1.37-1.37c-.4-.4-.92-.59-1.43-.59-.52 0-1.04.2-1.43.59L10.3 9.45l-7.72 7.72c-.78.78-.78 2.05 0 2.83L4 21.41c.39.39.9.59 1.41.59.51 0 1.02-.2 1.41-.59l7.78-7.78 2.81-2.81c.8-.78.8-2.07 0-2.86zM5.41 20L4 18.59l7.72-7.72 1.47 1.35L5.41 20z\"/>\n",
              "  </svg>\n",
              "      </button>\n",
              "      \n",
              "  <style>\n",
              "    .colab-df-container {\n",
              "      display:flex;\n",
              "      flex-wrap:wrap;\n",
              "      gap: 12px;\n",
              "    }\n",
              "\n",
              "    .colab-df-convert {\n",
              "      background-color: #E8F0FE;\n",
              "      border: none;\n",
              "      border-radius: 50%;\n",
              "      cursor: pointer;\n",
              "      display: none;\n",
              "      fill: #1967D2;\n",
              "      height: 32px;\n",
              "      padding: 0 0 0 0;\n",
              "      width: 32px;\n",
              "    }\n",
              "\n",
              "    .colab-df-convert:hover {\n",
              "      background-color: #E2EBFA;\n",
              "      box-shadow: 0px 1px 2px rgba(60, 64, 67, 0.3), 0px 1px 3px 1px rgba(60, 64, 67, 0.15);\n",
              "      fill: #174EA6;\n",
              "    }\n",
              "\n",
              "    [theme=dark] .colab-df-convert {\n",
              "      background-color: #3B4455;\n",
              "      fill: #D2E3FC;\n",
              "    }\n",
              "\n",
              "    [theme=dark] .colab-df-convert:hover {\n",
              "      background-color: #434B5C;\n",
              "      box-shadow: 0px 1px 3px 1px rgba(0, 0, 0, 0.15);\n",
              "      filter: drop-shadow(0px 1px 2px rgba(0, 0, 0, 0.3));\n",
              "      fill: #FFFFFF;\n",
              "    }\n",
              "  </style>\n",
              "\n",
              "      <script>\n",
              "        const buttonEl =\n",
              "          document.querySelector('#df-e8f914f5-38a6-4e76-8571-6dd82dddf2ee button.colab-df-convert');\n",
              "        buttonEl.style.display =\n",
              "          google.colab.kernel.accessAllowed ? 'block' : 'none';\n",
              "\n",
              "        async function convertToInteractive(key) {\n",
              "          const element = document.querySelector('#df-e8f914f5-38a6-4e76-8571-6dd82dddf2ee');\n",
              "          const dataTable =\n",
              "            await google.colab.kernel.invokeFunction('convertToInteractive',\n",
              "                                                     [key], {});\n",
              "          if (!dataTable) return;\n",
              "\n",
              "          const docLinkHtml = 'Like what you see? Visit the ' +\n",
              "            '<a target=\"_blank\" href=https://colab.research.google.com/notebooks/data_table.ipynb>data table notebook</a>'\n",
              "            + ' to learn more about interactive tables.';\n",
              "          element.innerHTML = '';\n",
              "          dataTable['output_type'] = 'display_data';\n",
              "          await google.colab.output.renderOutput(dataTable, element);\n",
              "          const docLink = document.createElement('div');\n",
              "          docLink.innerHTML = docLinkHtml;\n",
              "          element.appendChild(docLink);\n",
              "        }\n",
              "      </script>\n",
              "    </div>\n",
              "  </div>\n",
              "  "
            ]
          },
          "metadata": {},
          "execution_count": 135
        }
      ],
      "source": [
        "# Convertendo tipo da 'Data da Fatura' para data\n",
        "df_ecommerce[\"Data_da_fatura\"] = pd.to_datetime(df_ecommerce[\"Data_da_fatura\"])\n",
        "\n",
        "# alterando a separação dos valores de ',' para '.' na coluna Valor\n",
        "df_ecommerce['Valor'] = df_ecommerce['Valor'].str.replace(\",\", \".\")\n",
        "\n",
        "# alterando o tipo da coluna 'Valor' para float\n",
        "df_ecommerce['Valor'] = pd.to_numeric(df_ecommerce['Valor'])\n",
        "\n",
        "# Obtendo Ano e Mês da data \n",
        "df_ecommerce['Ano_mes'] = df_ecommerce['Data_da_fatura'].dt.to_period('M')\n",
        "\n",
        "# Ordenando pela Data da Fatura de maneira ascendente para facilitar nossas análises\n",
        "df_ecommerce.sort_values(by=['Data_da_fatura'], inplace=True)\n",
        "\n",
        "df_ecommerce.head(7)"
      ]
    },
    {
      "cell_type": "code",
      "execution_count": null,
      "metadata": {
        "_cell_guid": "989cfd1f-f2a2-4f99-b64f-81d6eac12418",
        "_uuid": "1596ce28-9271-48b1-abc9-590be738de9c",
        "execution": {
          "iopub.execute_input": "2022-07-15T19:01:26.617266Z",
          "iopub.status.busy": "2022-07-15T19:01:26.615636Z",
          "iopub.status.idle": "2022-07-15T19:01:26.627101Z",
          "shell.execute_reply": "2022-07-15T19:01:26.625955Z",
          "shell.execute_reply.started": "2022-07-15T19:01:26.617210Z"
        },
        "jupyter": {
          "outputs_hidden": false
        },
        "colab": {
          "base_uri": "https://localhost:8080/"
        },
        "id": "wj9nleW6kpnx",
        "outputId": "a8053e1e-0b7e-48e0-fb47-35ca26c951e9"
      },
      "outputs": [
        {
          "output_type": "execute_result",
          "data": {
            "text/plain": [
              "N°_da_fatura              object\n",
              "Data_da_fatura    datetime64[ns]\n",
              "ID_Cliente               float64\n",
              "País                      object\n",
              "Quantidade                 int64\n",
              "Valor                    float64\n",
              "Ano_mes                period[M]\n",
              "dtype: object"
            ]
          },
          "metadata": {},
          "execution_count": 136
        }
      ],
      "source": [
        "df_ecommerce.dtypes"
      ]
    },
    {
      "cell_type": "markdown",
      "metadata": {
        "_cell_guid": "c8a742ff-f10a-4519-8058-c4dd9409e362",
        "_uuid": "5a27eabc-ca01-4c4b-95ff-fa099810c789",
        "id": "bx0F2G73kpny"
      },
      "source": [
        "<div class=\"alert alert-success\"> \n",
        "    <strong><div style=\"color: rgb(0, 0, 0);\"><strong>Resumindo as etapas de limpeza e tratamento realizadas:</strong></div></strong> <br>\n",
        "     <div style=\"color: rgb(0, 0, 0);\">→ ✔️ Remoção de 3.724 registros que não conseguimos identificar quem é o cliente, pois ID estava nulo. </div>\n",
        "    <div style=\"color: rgb(0, 0, 0);\">→ ✔️ Remoção de 8 faturas duplicadas. </div>\n",
        "    <div style=\"color: rgb(0, 0, 0);\">→ ✔️ Remoção de 3655 faturas que tiveram devolução. </div>     \n",
        "    <div style=\"color: rgb(0, 0, 0);\">→ ✔️ Utilizaremos <strong><font color=\"#ff009e\">18566 faturas para as nossas análises.</font></strong></div>\n",
        "    <div style=\"color: rgb(0, 0, 0);\">→ ✔️ Conversão de tipos dados de algumas colunas. </div>\n",
        "    <div style=\"color: rgb(0, 0, 0);\">→ ✔️ Criação de coluna Ano e Mês para facilitar análises. </div>\n",
        "    <div style=\"color: rgb(0, 0, 0);\">→ ✔️ Dataset pronto. Vamos começar! 💪 </div>\n",
        "</div>"
      ]
    },
    {
      "cell_type": "markdown",
      "metadata": {
        "_cell_guid": "af515981-cbda-41a0-a966-2d4bc2ac069e",
        "_uuid": "db5d31e9-36ac-48d1-bc0b-45605b2e9d33",
        "id": "eXCuZviNkpny"
      },
      "source": [
        "<a id='analise-metricas'></a>\n",
        "# <font color=\"#ff009e\">  3 - Análise de Métricas de Vendas </font>\n",
        "<hr color=\"#F5F5F5\" size=\"1\">\n",
        "\n",
        "<br>\n",
        "<div class=\"alert alert-info\"> \n",
        "<strong><div style=\"color: rgb(0, 0, 0);\">💡 O que queremos responder:</div></strong> <br>\n",
        "    <div style=\"color: rgb(0, 0, 0);\">→ Quanto é a venda em média por mês? </div>\n",
        "    <div style=\"color: rgb(0, 0, 0);\">→ Quantas vendas há em cada mês? </div>\n",
        "    <div style=\"color: rgb(0, 0, 0);\">→ Qual é o mês em que mais há vendas? </div>\n",
        "    <div style=\"color: rgb(0, 0, 0);\">→ Quais são os clientes mais importantes? </div>\n",
        "    <div style=\"color: rgb(0, 0, 0);\">→ Qual porcentagem de seus clientes voltou a comprar? </div>\n",
        "     <div style=\"color: rgb(0, 0, 0);\">→ Qual é o valor médio que os clientes gastam? </div>\n",
        "     <div style=\"color: rgb(0, 0, 0);\">→ Como as informações são desagregadas de acordo com os países onde há vendas? </div>\n",
        "</div>\n",
        "\n",
        "\n",
        "<a id='analise-faturas'></a>\n",
        "## <font color=\"#ff009e\"> 3.1 Análise do número de faturas por país </font>\n",
        "<hr color=\"#F5F5F5\" size=\"1\">\n",
        "\n",
        "Agora iremos analisar a quantidade total de faturas emitidas por país e a porcentagem de faturas representada por país e encontrar o **5 maiores países compradores da UK Merch**."
      ]
    },
    {
      "cell_type": "code",
      "execution_count": null,
      "metadata": {
        "_cell_guid": "279bdeea-7c47-49ad-9821-55ef2cbeb684",
        "_uuid": "12d41d14-c2cd-45d0-9f0e-63422bb0ecaf",
        "execution": {
          "iopub.execute_input": "2022-07-15T19:01:26.629917Z",
          "iopub.status.busy": "2022-07-15T19:01:26.629123Z",
          "iopub.status.idle": "2022-07-15T19:01:26.659678Z",
          "shell.execute_reply": "2022-07-15T19:01:26.658394Z",
          "shell.execute_reply.started": "2022-07-15T19:01:26.629853Z"
        },
        "jupyter": {
          "source_hidden": true
        },
        "colab": {
          "base_uri": "https://localhost:8080/",
          "height": 206
        },
        "id": "xyytx4CHkpny",
        "outputId": "56a511dc-7bd6-45c3-cca5-603e8835dfcd"
      },
      "outputs": [
        {
          "output_type": "execute_result",
          "data": {
            "text/plain": [
              "              País  N°_de_faturas\n",
              "35  United Kingdom          16676\n",
              "14         Germany            457\n",
              "13          France            390\n",
              "10            EIRE            261\n",
              "3          Belgium             98"
            ],
            "text/html": [
              "\n",
              "  <div id=\"df-418e9b9f-f7af-4fbc-b926-24a029d7c336\">\n",
              "    <div class=\"colab-df-container\">\n",
              "      <div>\n",
              "<style scoped>\n",
              "    .dataframe tbody tr th:only-of-type {\n",
              "        vertical-align: middle;\n",
              "    }\n",
              "\n",
              "    .dataframe tbody tr th {\n",
              "        vertical-align: top;\n",
              "    }\n",
              "\n",
              "    .dataframe thead th {\n",
              "        text-align: right;\n",
              "    }\n",
              "</style>\n",
              "<table border=\"1\" class=\"dataframe\">\n",
              "  <thead>\n",
              "    <tr style=\"text-align: right;\">\n",
              "      <th></th>\n",
              "      <th>País</th>\n",
              "      <th>N°_de_faturas</th>\n",
              "    </tr>\n",
              "  </thead>\n",
              "  <tbody>\n",
              "    <tr>\n",
              "      <th>35</th>\n",
              "      <td>United Kingdom</td>\n",
              "      <td>16676</td>\n",
              "    </tr>\n",
              "    <tr>\n",
              "      <th>14</th>\n",
              "      <td>Germany</td>\n",
              "      <td>457</td>\n",
              "    </tr>\n",
              "    <tr>\n",
              "      <th>13</th>\n",
              "      <td>France</td>\n",
              "      <td>390</td>\n",
              "    </tr>\n",
              "    <tr>\n",
              "      <th>10</th>\n",
              "      <td>EIRE</td>\n",
              "      <td>261</td>\n",
              "    </tr>\n",
              "    <tr>\n",
              "      <th>3</th>\n",
              "      <td>Belgium</td>\n",
              "      <td>98</td>\n",
              "    </tr>\n",
              "  </tbody>\n",
              "</table>\n",
              "</div>\n",
              "      <button class=\"colab-df-convert\" onclick=\"convertToInteractive('df-418e9b9f-f7af-4fbc-b926-24a029d7c336')\"\n",
              "              title=\"Convert this dataframe to an interactive table.\"\n",
              "              style=\"display:none;\">\n",
              "        \n",
              "  <svg xmlns=\"http://www.w3.org/2000/svg\" height=\"24px\"viewBox=\"0 0 24 24\"\n",
              "       width=\"24px\">\n",
              "    <path d=\"M0 0h24v24H0V0z\" fill=\"none\"/>\n",
              "    <path d=\"M18.56 5.44l.94 2.06.94-2.06 2.06-.94-2.06-.94-.94-2.06-.94 2.06-2.06.94zm-11 1L8.5 8.5l.94-2.06 2.06-.94-2.06-.94L8.5 2.5l-.94 2.06-2.06.94zm10 10l.94 2.06.94-2.06 2.06-.94-2.06-.94-.94-2.06-.94 2.06-2.06.94z\"/><path d=\"M17.41 7.96l-1.37-1.37c-.4-.4-.92-.59-1.43-.59-.52 0-1.04.2-1.43.59L10.3 9.45l-7.72 7.72c-.78.78-.78 2.05 0 2.83L4 21.41c.39.39.9.59 1.41.59.51 0 1.02-.2 1.41-.59l7.78-7.78 2.81-2.81c.8-.78.8-2.07 0-2.86zM5.41 20L4 18.59l7.72-7.72 1.47 1.35L5.41 20z\"/>\n",
              "  </svg>\n",
              "      </button>\n",
              "      \n",
              "  <style>\n",
              "    .colab-df-container {\n",
              "      display:flex;\n",
              "      flex-wrap:wrap;\n",
              "      gap: 12px;\n",
              "    }\n",
              "\n",
              "    .colab-df-convert {\n",
              "      background-color: #E8F0FE;\n",
              "      border: none;\n",
              "      border-radius: 50%;\n",
              "      cursor: pointer;\n",
              "      display: none;\n",
              "      fill: #1967D2;\n",
              "      height: 32px;\n",
              "      padding: 0 0 0 0;\n",
              "      width: 32px;\n",
              "    }\n",
              "\n",
              "    .colab-df-convert:hover {\n",
              "      background-color: #E2EBFA;\n",
              "      box-shadow: 0px 1px 2px rgba(60, 64, 67, 0.3), 0px 1px 3px 1px rgba(60, 64, 67, 0.15);\n",
              "      fill: #174EA6;\n",
              "    }\n",
              "\n",
              "    [theme=dark] .colab-df-convert {\n",
              "      background-color: #3B4455;\n",
              "      fill: #D2E3FC;\n",
              "    }\n",
              "\n",
              "    [theme=dark] .colab-df-convert:hover {\n",
              "      background-color: #434B5C;\n",
              "      box-shadow: 0px 1px 3px 1px rgba(0, 0, 0, 0.15);\n",
              "      filter: drop-shadow(0px 1px 2px rgba(0, 0, 0, 0.3));\n",
              "      fill: #FFFFFF;\n",
              "    }\n",
              "  </style>\n",
              "\n",
              "      <script>\n",
              "        const buttonEl =\n",
              "          document.querySelector('#df-418e9b9f-f7af-4fbc-b926-24a029d7c336 button.colab-df-convert');\n",
              "        buttonEl.style.display =\n",
              "          google.colab.kernel.accessAllowed ? 'block' : 'none';\n",
              "\n",
              "        async function convertToInteractive(key) {\n",
              "          const element = document.querySelector('#df-418e9b9f-f7af-4fbc-b926-24a029d7c336');\n",
              "          const dataTable =\n",
              "            await google.colab.kernel.invokeFunction('convertToInteractive',\n",
              "                                                     [key], {});\n",
              "          if (!dataTable) return;\n",
              "\n",
              "          const docLinkHtml = 'Like what you see? Visit the ' +\n",
              "            '<a target=\"_blank\" href=https://colab.research.google.com/notebooks/data_table.ipynb>data table notebook</a>'\n",
              "            + ' to learn more about interactive tables.';\n",
              "          element.innerHTML = '';\n",
              "          dataTable['output_type'] = 'display_data';\n",
              "          await google.colab.output.renderOutput(dataTable, element);\n",
              "          const docLink = document.createElement('div');\n",
              "          docLink.innerHTML = docLinkHtml;\n",
              "          element.appendChild(docLink);\n",
              "        }\n",
              "      </script>\n",
              "    </div>\n",
              "  </div>\n",
              "  "
            ]
          },
          "metadata": {},
          "execution_count": 137
        }
      ],
      "source": [
        "# Quantidade de Fatura por país\n",
        "df_fatura_pais = pd.DataFrame(df_ecommerce.groupby(['País'])\n",
        "                              ['N°_da_fatura'].count()).reset_index()\n",
        "df_fatura_pais.columns = ['País', 'N°_de_faturas']\n",
        "df_fatura_pais.sort_values('N°_de_faturas', ascending=False, inplace=True)\n",
        "df_fatura_pais.head(5)"
      ]
    },
    {
      "cell_type": "code",
      "execution_count": null,
      "metadata": {
        "_cell_guid": "485c24a7-5e3c-4250-bceb-3a2de1fa6ac6",
        "_uuid": "7895793f-13f7-490c-9419-529037d26055",
        "execution": {
          "iopub.execute_input": "2022-07-15T19:01:26.662673Z",
          "iopub.status.busy": "2022-07-15T19:01:26.661792Z",
          "iopub.status.idle": "2022-07-15T19:01:26.681969Z",
          "shell.execute_reply": "2022-07-15T19:01:26.680808Z",
          "shell.execute_reply.started": "2022-07-15T19:01:26.662620Z"
        },
        "jupyter": {
          "source_hidden": true
        },
        "colab": {
          "base_uri": "https://localhost:8080/",
          "height": 206
        },
        "id": "m_7ERCTNkpny",
        "outputId": "4a30f4ba-c58a-4ef5-8f4b-451e5afcd499"
      },
      "outputs": [
        {
          "output_type": "execute_result",
          "data": {
            "text/plain": [
              "              País  N°_de_faturas  Percentual_de_faturas_%\n",
              "35  United Kingdom          16676                    89.82\n",
              "14         Germany            457                     2.46\n",
              "13          France            390                     2.10\n",
              "10            EIRE            261                     1.41\n",
              "3          Belgium             98                     0.53"
            ],
            "text/html": [
              "\n",
              "  <div id=\"df-000478c4-4c3d-4750-81ec-00d33c6c8a5a\">\n",
              "    <div class=\"colab-df-container\">\n",
              "      <div>\n",
              "<style scoped>\n",
              "    .dataframe tbody tr th:only-of-type {\n",
              "        vertical-align: middle;\n",
              "    }\n",
              "\n",
              "    .dataframe tbody tr th {\n",
              "        vertical-align: top;\n",
              "    }\n",
              "\n",
              "    .dataframe thead th {\n",
              "        text-align: right;\n",
              "    }\n",
              "</style>\n",
              "<table border=\"1\" class=\"dataframe\">\n",
              "  <thead>\n",
              "    <tr style=\"text-align: right;\">\n",
              "      <th></th>\n",
              "      <th>País</th>\n",
              "      <th>N°_de_faturas</th>\n",
              "      <th>Percentual_de_faturas_%</th>\n",
              "    </tr>\n",
              "  </thead>\n",
              "  <tbody>\n",
              "    <tr>\n",
              "      <th>35</th>\n",
              "      <td>United Kingdom</td>\n",
              "      <td>16676</td>\n",
              "      <td>89.82</td>\n",
              "    </tr>\n",
              "    <tr>\n",
              "      <th>14</th>\n",
              "      <td>Germany</td>\n",
              "      <td>457</td>\n",
              "      <td>2.46</td>\n",
              "    </tr>\n",
              "    <tr>\n",
              "      <th>13</th>\n",
              "      <td>France</td>\n",
              "      <td>390</td>\n",
              "      <td>2.10</td>\n",
              "    </tr>\n",
              "    <tr>\n",
              "      <th>10</th>\n",
              "      <td>EIRE</td>\n",
              "      <td>261</td>\n",
              "      <td>1.41</td>\n",
              "    </tr>\n",
              "    <tr>\n",
              "      <th>3</th>\n",
              "      <td>Belgium</td>\n",
              "      <td>98</td>\n",
              "      <td>0.53</td>\n",
              "    </tr>\n",
              "  </tbody>\n",
              "</table>\n",
              "</div>\n",
              "      <button class=\"colab-df-convert\" onclick=\"convertToInteractive('df-000478c4-4c3d-4750-81ec-00d33c6c8a5a')\"\n",
              "              title=\"Convert this dataframe to an interactive table.\"\n",
              "              style=\"display:none;\">\n",
              "        \n",
              "  <svg xmlns=\"http://www.w3.org/2000/svg\" height=\"24px\"viewBox=\"0 0 24 24\"\n",
              "       width=\"24px\">\n",
              "    <path d=\"M0 0h24v24H0V0z\" fill=\"none\"/>\n",
              "    <path d=\"M18.56 5.44l.94 2.06.94-2.06 2.06-.94-2.06-.94-.94-2.06-.94 2.06-2.06.94zm-11 1L8.5 8.5l.94-2.06 2.06-.94-2.06-.94L8.5 2.5l-.94 2.06-2.06.94zm10 10l.94 2.06.94-2.06 2.06-.94-2.06-.94-.94-2.06-.94 2.06-2.06.94z\"/><path d=\"M17.41 7.96l-1.37-1.37c-.4-.4-.92-.59-1.43-.59-.52 0-1.04.2-1.43.59L10.3 9.45l-7.72 7.72c-.78.78-.78 2.05 0 2.83L4 21.41c.39.39.9.59 1.41.59.51 0 1.02-.2 1.41-.59l7.78-7.78 2.81-2.81c.8-.78.8-2.07 0-2.86zM5.41 20L4 18.59l7.72-7.72 1.47 1.35L5.41 20z\"/>\n",
              "  </svg>\n",
              "      </button>\n",
              "      \n",
              "  <style>\n",
              "    .colab-df-container {\n",
              "      display:flex;\n",
              "      flex-wrap:wrap;\n",
              "      gap: 12px;\n",
              "    }\n",
              "\n",
              "    .colab-df-convert {\n",
              "      background-color: #E8F0FE;\n",
              "      border: none;\n",
              "      border-radius: 50%;\n",
              "      cursor: pointer;\n",
              "      display: none;\n",
              "      fill: #1967D2;\n",
              "      height: 32px;\n",
              "      padding: 0 0 0 0;\n",
              "      width: 32px;\n",
              "    }\n",
              "\n",
              "    .colab-df-convert:hover {\n",
              "      background-color: #E2EBFA;\n",
              "      box-shadow: 0px 1px 2px rgba(60, 64, 67, 0.3), 0px 1px 3px 1px rgba(60, 64, 67, 0.15);\n",
              "      fill: #174EA6;\n",
              "    }\n",
              "\n",
              "    [theme=dark] .colab-df-convert {\n",
              "      background-color: #3B4455;\n",
              "      fill: #D2E3FC;\n",
              "    }\n",
              "\n",
              "    [theme=dark] .colab-df-convert:hover {\n",
              "      background-color: #434B5C;\n",
              "      box-shadow: 0px 1px 3px 1px rgba(0, 0, 0, 0.15);\n",
              "      filter: drop-shadow(0px 1px 2px rgba(0, 0, 0, 0.3));\n",
              "      fill: #FFFFFF;\n",
              "    }\n",
              "  </style>\n",
              "\n",
              "      <script>\n",
              "        const buttonEl =\n",
              "          document.querySelector('#df-000478c4-4c3d-4750-81ec-00d33c6c8a5a button.colab-df-convert');\n",
              "        buttonEl.style.display =\n",
              "          google.colab.kernel.accessAllowed ? 'block' : 'none';\n",
              "\n",
              "        async function convertToInteractive(key) {\n",
              "          const element = document.querySelector('#df-000478c4-4c3d-4750-81ec-00d33c6c8a5a');\n",
              "          const dataTable =\n",
              "            await google.colab.kernel.invokeFunction('convertToInteractive',\n",
              "                                                     [key], {});\n",
              "          if (!dataTable) return;\n",
              "\n",
              "          const docLinkHtml = 'Like what you see? Visit the ' +\n",
              "            '<a target=\"_blank\" href=https://colab.research.google.com/notebooks/data_table.ipynb>data table notebook</a>'\n",
              "            + ' to learn more about interactive tables.';\n",
              "          element.innerHTML = '';\n",
              "          dataTable['output_type'] = 'display_data';\n",
              "          await google.colab.output.renderOutput(dataTable, element);\n",
              "          const docLink = document.createElement('div');\n",
              "          docLink.innerHTML = docLinkHtml;\n",
              "          element.appendChild(docLink);\n",
              "        }\n",
              "      </script>\n",
              "    </div>\n",
              "  </div>\n",
              "  "
            ]
          },
          "metadata": {},
          "execution_count": 138
        }
      ],
      "source": [
        "#calculando percentual de faturas por país\n",
        "df_fatura_pais['Percentual_de_faturas_%'] = (df_fatura_pais['N°_de_faturas']/\n",
        "                                             df_fatura_pais['N°_de_faturas'].sum()) * 100\n",
        "df_fatura_pais['Percentual_de_faturas_%'] = df_fatura_pais['Percentual_de_faturas_%'].round(2)\n",
        "df_fatura_pais.head(5)"
      ]
    },
    {
      "cell_type": "markdown",
      "metadata": {
        "_cell_guid": "7d290cec-df7d-4a3a-8308-6d322ef4a2d0",
        "_uuid": "10cbf7c3-419b-4ccf-86c8-1d4e3ee550e9",
        "id": "AiFU_frekpnz"
      },
      "source": [
        "O **Reino Unido** é o campeão em compras na UK Merch e **representa quase 90% da quantidade de vendas totais**. Como a empresa nasceu lá, é bem provável que isso explique o por quê dele estar em primeiro lugar. \n",
        "\n",
        "Os próximos 4 países com maior quantidade de compras ficam na <strong>todos ficam na Europa, ou seja, relativamente próximos ao Reino Unido</strong>. Eles são:\n",
        "- Alemanha, \n",
        "- França, \n",
        "- Irlanda e \n",
        "- Bélgica, respectivamente."
      ]
    },
    {
      "cell_type": "markdown",
      "metadata": {
        "_cell_guid": "94d3d191-4188-4c96-a84f-eaa406ba46ba",
        "_uuid": "24686239-dce8-413d-aa91-67843259b735",
        "id": "WlhZ56krkpnz"
      },
      "source": [
        "<a id='analise-total-pais'></a>\n",
        "## <font color=\"#ff009e\">  3.2 Análise de valor total por país </font>\n",
        "<hr color=\"#F5F5F5\" size=\"1\"> \n",
        "\n",
        "\n",
        "Agora iremos incluir o valor médio, o valor mínimo e o valor máximo por país."
      ]
    },
    {
      "cell_type": "code",
      "execution_count": null,
      "metadata": {
        "_cell_guid": "b371b6a9-7c24-4313-9afb-020ef3e20f71",
        "_uuid": "3512ed81-8ac7-4d07-8ba7-eaabbd7e21c8",
        "execution": {
          "iopub.execute_input": "2022-07-15T19:01:26.684139Z",
          "iopub.status.busy": "2022-07-15T19:01:26.683656Z",
          "iopub.status.idle": "2022-07-15T19:01:26.743748Z",
          "shell.execute_reply": "2022-07-15T19:01:26.742494Z",
          "shell.execute_reply.started": "2022-07-15T19:01:26.684094Z"
        },
        "jupyter": {
          "source_hidden": true
        },
        "colab": {
          "base_uri": "https://localhost:8080/",
          "height": 206
        },
        "id": "ciZddIf0kpnz",
        "outputId": "8c05c91e-daa8-4efd-8d13-c1b80f612689"
      },
      "outputs": [
        {
          "output_type": "execute_result",
          "data": {
            "text/plain": [
              "           País  N°_de_faturas  Percentual_de_faturas_%  Valor_médio  \\\n",
              "22    Singapore              7                     0.04      3039.90   \n",
              "5   Netherlands             95                     0.51      3004.70   \n",
              "7     Australia             57                     0.31      2430.20   \n",
              "15        Japan             20                     0.11      1870.82   \n",
              "33      Lebanon              1                     0.01      1693.88   \n",
              "\n",
              "    Valor_mínimo  Valor_máximo  \n",
              "22        999.26       6068.06  \n",
              "5           0.00      20277.92  \n",
              "7          61.20      22775.93  \n",
              "15         15.30       5735.24  \n",
              "33       1693.88       1693.88  "
            ],
            "text/html": [
              "\n",
              "  <div id=\"df-c5941205-f731-4019-8a54-cd39f23210bd\">\n",
              "    <div class=\"colab-df-container\">\n",
              "      <div>\n",
              "<style scoped>\n",
              "    .dataframe tbody tr th:only-of-type {\n",
              "        vertical-align: middle;\n",
              "    }\n",
              "\n",
              "    .dataframe tbody tr th {\n",
              "        vertical-align: top;\n",
              "    }\n",
              "\n",
              "    .dataframe thead th {\n",
              "        text-align: right;\n",
              "    }\n",
              "</style>\n",
              "<table border=\"1\" class=\"dataframe\">\n",
              "  <thead>\n",
              "    <tr style=\"text-align: right;\">\n",
              "      <th></th>\n",
              "      <th>País</th>\n",
              "      <th>N°_de_faturas</th>\n",
              "      <th>Percentual_de_faturas_%</th>\n",
              "      <th>Valor_médio</th>\n",
              "      <th>Valor_mínimo</th>\n",
              "      <th>Valor_máximo</th>\n",
              "    </tr>\n",
              "  </thead>\n",
              "  <tbody>\n",
              "    <tr>\n",
              "      <th>22</th>\n",
              "      <td>Singapore</td>\n",
              "      <td>7</td>\n",
              "      <td>0.04</td>\n",
              "      <td>3039.90</td>\n",
              "      <td>999.26</td>\n",
              "      <td>6068.06</td>\n",
              "    </tr>\n",
              "    <tr>\n",
              "      <th>5</th>\n",
              "      <td>Netherlands</td>\n",
              "      <td>95</td>\n",
              "      <td>0.51</td>\n",
              "      <td>3004.70</td>\n",
              "      <td>0.00</td>\n",
              "      <td>20277.92</td>\n",
              "    </tr>\n",
              "    <tr>\n",
              "      <th>7</th>\n",
              "      <td>Australia</td>\n",
              "      <td>57</td>\n",
              "      <td>0.31</td>\n",
              "      <td>2430.20</td>\n",
              "      <td>61.20</td>\n",
              "      <td>22775.93</td>\n",
              "    </tr>\n",
              "    <tr>\n",
              "      <th>15</th>\n",
              "      <td>Japan</td>\n",
              "      <td>20</td>\n",
              "      <td>0.11</td>\n",
              "      <td>1870.82</td>\n",
              "      <td>15.30</td>\n",
              "      <td>5735.24</td>\n",
              "    </tr>\n",
              "    <tr>\n",
              "      <th>33</th>\n",
              "      <td>Lebanon</td>\n",
              "      <td>1</td>\n",
              "      <td>0.01</td>\n",
              "      <td>1693.88</td>\n",
              "      <td>1693.88</td>\n",
              "      <td>1693.88</td>\n",
              "    </tr>\n",
              "  </tbody>\n",
              "</table>\n",
              "</div>\n",
              "      <button class=\"colab-df-convert\" onclick=\"convertToInteractive('df-c5941205-f731-4019-8a54-cd39f23210bd')\"\n",
              "              title=\"Convert this dataframe to an interactive table.\"\n",
              "              style=\"display:none;\">\n",
              "        \n",
              "  <svg xmlns=\"http://www.w3.org/2000/svg\" height=\"24px\"viewBox=\"0 0 24 24\"\n",
              "       width=\"24px\">\n",
              "    <path d=\"M0 0h24v24H0V0z\" fill=\"none\"/>\n",
              "    <path d=\"M18.56 5.44l.94 2.06.94-2.06 2.06-.94-2.06-.94-.94-2.06-.94 2.06-2.06.94zm-11 1L8.5 8.5l.94-2.06 2.06-.94-2.06-.94L8.5 2.5l-.94 2.06-2.06.94zm10 10l.94 2.06.94-2.06 2.06-.94-2.06-.94-.94-2.06-.94 2.06-2.06.94z\"/><path d=\"M17.41 7.96l-1.37-1.37c-.4-.4-.92-.59-1.43-.59-.52 0-1.04.2-1.43.59L10.3 9.45l-7.72 7.72c-.78.78-.78 2.05 0 2.83L4 21.41c.39.39.9.59 1.41.59.51 0 1.02-.2 1.41-.59l7.78-7.78 2.81-2.81c.8-.78.8-2.07 0-2.86zM5.41 20L4 18.59l7.72-7.72 1.47 1.35L5.41 20z\"/>\n",
              "  </svg>\n",
              "      </button>\n",
              "      \n",
              "  <style>\n",
              "    .colab-df-container {\n",
              "      display:flex;\n",
              "      flex-wrap:wrap;\n",
              "      gap: 12px;\n",
              "    }\n",
              "\n",
              "    .colab-df-convert {\n",
              "      background-color: #E8F0FE;\n",
              "      border: none;\n",
              "      border-radius: 50%;\n",
              "      cursor: pointer;\n",
              "      display: none;\n",
              "      fill: #1967D2;\n",
              "      height: 32px;\n",
              "      padding: 0 0 0 0;\n",
              "      width: 32px;\n",
              "    }\n",
              "\n",
              "    .colab-df-convert:hover {\n",
              "      background-color: #E2EBFA;\n",
              "      box-shadow: 0px 1px 2px rgba(60, 64, 67, 0.3), 0px 1px 3px 1px rgba(60, 64, 67, 0.15);\n",
              "      fill: #174EA6;\n",
              "    }\n",
              "\n",
              "    [theme=dark] .colab-df-convert {\n",
              "      background-color: #3B4455;\n",
              "      fill: #D2E3FC;\n",
              "    }\n",
              "\n",
              "    [theme=dark] .colab-df-convert:hover {\n",
              "      background-color: #434B5C;\n",
              "      box-shadow: 0px 1px 3px 1px rgba(0, 0, 0, 0.15);\n",
              "      filter: drop-shadow(0px 1px 2px rgba(0, 0, 0, 0.3));\n",
              "      fill: #FFFFFF;\n",
              "    }\n",
              "  </style>\n",
              "\n",
              "      <script>\n",
              "        const buttonEl =\n",
              "          document.querySelector('#df-c5941205-f731-4019-8a54-cd39f23210bd button.colab-df-convert');\n",
              "        buttonEl.style.display =\n",
              "          google.colab.kernel.accessAllowed ? 'block' : 'none';\n",
              "\n",
              "        async function convertToInteractive(key) {\n",
              "          const element = document.querySelector('#df-c5941205-f731-4019-8a54-cd39f23210bd');\n",
              "          const dataTable =\n",
              "            await google.colab.kernel.invokeFunction('convertToInteractive',\n",
              "                                                     [key], {});\n",
              "          if (!dataTable) return;\n",
              "\n",
              "          const docLinkHtml = 'Like what you see? Visit the ' +\n",
              "            '<a target=\"_blank\" href=https://colab.research.google.com/notebooks/data_table.ipynb>data table notebook</a>'\n",
              "            + ' to learn more about interactive tables.';\n",
              "          element.innerHTML = '';\n",
              "          dataTable['output_type'] = 'display_data';\n",
              "          await google.colab.output.renderOutput(dataTable, element);\n",
              "          const docLink = document.createElement('div');\n",
              "          docLink.innerHTML = docLinkHtml;\n",
              "          element.appendChild(docLink);\n",
              "        }\n",
              "      </script>\n",
              "    </div>\n",
              "  </div>\n",
              "  "
            ]
          },
          "metadata": {},
          "execution_count": 139
        }
      ],
      "source": [
        "# calculando o valor médio, máximo e mínimo das faturas por país\n",
        "df_valor_medio = pd.DataFrame(df_ecommerce.groupby(['País'])\n",
        "                              ['Valor'].mean()).round(2).reset_index()\n",
        "df_valor_max = pd.DataFrame(df_ecommerce.groupby(['País'])\n",
        "                            ['Valor'].max()).reset_index()\n",
        "df_valor_min = pd.DataFrame(df_ecommerce.groupby(['País'])\n",
        "                            ['Valor'].min()).reset_index()\n",
        "\n",
        "# criando dataframe com a união dos valores médio, máximo e mínimo encontrados\n",
        "df_valor_pais = pd.merge(df_valor_medio,df_valor_min, on=\"País\")\n",
        "df_valor_pais = pd.merge(df_valor_pais,df_valor_max, on=\"País\")\n",
        "df_valor_pais.rename(columns={\"Valor_x\":\"Valor_médio\", \n",
        "                              \"Valor_y\":\"Valor_mínimo\", \n",
        "                              \"Valor\":\"Valor_máximo\"}, inplace=True)\n",
        "\n",
        "# criando dataframe para juntar os valores médios, mínimos e máximos\n",
        "df_analise_pais = pd.merge(df_fatura_pais,\n",
        "                           df_valor_pais, on=\"País\")\n",
        "\n",
        "# ordenando pelo valor médio de modo decrescente\n",
        "df_analise_pais.sort_values('Valor_médio',\n",
        "                            ascending=False, inplace=True)\n",
        "df_analise_pais.head(5)"
      ]
    },
    {
      "cell_type": "markdown",
      "metadata": {
        "_cell_guid": "07763461-a567-4e73-8aa0-494c5429e96a",
        "_uuid": "d2eba6ca-3f36-4246-a007-fc80859b54bd",
        "id": "h-cD0hfukpnz"
      },
      "source": [
        "Os <strong>países com maior valor médio por fatura</strong> são:\n",
        "- Cingapura, \n",
        "- Holanda, \n",
        "- Austrália, \n",
        "- Japão e \n",
        "- Líbano. \n",
        "\n",
        "Podemos perceber que exceto pela Holanda, todos os outros <strong>ficam na Ásia ou Oceania, ou seja, longe do Reino Unido</strong>. \n",
        "\n",
        "<div class=\"alert alert-info\"> \n",
        "<strong><div style=\"color: rgb(0, 0, 0);\">✨  Comentário:</div></strong> <br>\n",
        "    <div style=\"color: rgb(0, 0, 0);\"> → Será que o valor médio de compra mais alto para esses países seja por causa do valor do frete internacional? 🤔</div>\n",
        "</div>"
      ]
    },
    {
      "cell_type": "code",
      "execution_count": null,
      "metadata": {
        "_cell_guid": "10218d56-0f6e-425b-9f28-739e47b06f22",
        "_uuid": "11da80d1-5e11-4d29-b518-55eacab011fa",
        "execution": {
          "iopub.execute_input": "2022-07-15T19:01:26.747004Z",
          "iopub.status.busy": "2022-07-15T19:01:26.746480Z",
          "iopub.status.idle": "2022-07-15T19:01:26.763854Z",
          "shell.execute_reply": "2022-07-15T19:01:26.762751Z",
          "shell.execute_reply.started": "2022-07-15T19:01:26.746955Z"
        },
        "jupyter": {
          "outputs_hidden": false
        },
        "colab": {
          "base_uri": "https://localhost:8080/",
          "height": 206
        },
        "id": "csBwxma2kpnz",
        "outputId": "5e726eb0-dd08-46d4-d039-6d33c50e077c"
      },
      "outputs": [
        {
          "output_type": "execute_result",
          "data": {
            "text/plain": [
              "             País  N°_de_faturas  Percentual_de_faturas_%  Valor_médio  \\\n",
              "0  United Kingdom          16676                    89.82       438.26   \n",
              "1         Germany            457                     2.46       500.80   \n",
              "2          France            390                     2.10       535.96   \n",
              "3            EIRE            261                     1.41      1017.42   \n",
              "4         Belgium             98                     0.53       420.37   \n",
              "\n",
              "   Valor_mínimo  Valor_máximo  \n",
              "0          0.00     168469.60  \n",
              "1          3.00       9341.26  \n",
              "2          4.63       8895.76  \n",
              "3          1.45      16774.72  \n",
              "4         34.00       1491.59  "
            ],
            "text/html": [
              "\n",
              "  <div id=\"df-ce85d298-7080-44cd-a69d-fd13f29c616f\">\n",
              "    <div class=\"colab-df-container\">\n",
              "      <div>\n",
              "<style scoped>\n",
              "    .dataframe tbody tr th:only-of-type {\n",
              "        vertical-align: middle;\n",
              "    }\n",
              "\n",
              "    .dataframe tbody tr th {\n",
              "        vertical-align: top;\n",
              "    }\n",
              "\n",
              "    .dataframe thead th {\n",
              "        text-align: right;\n",
              "    }\n",
              "</style>\n",
              "<table border=\"1\" class=\"dataframe\">\n",
              "  <thead>\n",
              "    <tr style=\"text-align: right;\">\n",
              "      <th></th>\n",
              "      <th>País</th>\n",
              "      <th>N°_de_faturas</th>\n",
              "      <th>Percentual_de_faturas_%</th>\n",
              "      <th>Valor_médio</th>\n",
              "      <th>Valor_mínimo</th>\n",
              "      <th>Valor_máximo</th>\n",
              "    </tr>\n",
              "  </thead>\n",
              "  <tbody>\n",
              "    <tr>\n",
              "      <th>0</th>\n",
              "      <td>United Kingdom</td>\n",
              "      <td>16676</td>\n",
              "      <td>89.82</td>\n",
              "      <td>438.26</td>\n",
              "      <td>0.00</td>\n",
              "      <td>168469.60</td>\n",
              "    </tr>\n",
              "    <tr>\n",
              "      <th>1</th>\n",
              "      <td>Germany</td>\n",
              "      <td>457</td>\n",
              "      <td>2.46</td>\n",
              "      <td>500.80</td>\n",
              "      <td>3.00</td>\n",
              "      <td>9341.26</td>\n",
              "    </tr>\n",
              "    <tr>\n",
              "      <th>2</th>\n",
              "      <td>France</td>\n",
              "      <td>390</td>\n",
              "      <td>2.10</td>\n",
              "      <td>535.96</td>\n",
              "      <td>4.63</td>\n",
              "      <td>8895.76</td>\n",
              "    </tr>\n",
              "    <tr>\n",
              "      <th>3</th>\n",
              "      <td>EIRE</td>\n",
              "      <td>261</td>\n",
              "      <td>1.41</td>\n",
              "      <td>1017.42</td>\n",
              "      <td>1.45</td>\n",
              "      <td>16774.72</td>\n",
              "    </tr>\n",
              "    <tr>\n",
              "      <th>4</th>\n",
              "      <td>Belgium</td>\n",
              "      <td>98</td>\n",
              "      <td>0.53</td>\n",
              "      <td>420.37</td>\n",
              "      <td>34.00</td>\n",
              "      <td>1491.59</td>\n",
              "    </tr>\n",
              "  </tbody>\n",
              "</table>\n",
              "</div>\n",
              "      <button class=\"colab-df-convert\" onclick=\"convertToInteractive('df-ce85d298-7080-44cd-a69d-fd13f29c616f')\"\n",
              "              title=\"Convert this dataframe to an interactive table.\"\n",
              "              style=\"display:none;\">\n",
              "        \n",
              "  <svg xmlns=\"http://www.w3.org/2000/svg\" height=\"24px\"viewBox=\"0 0 24 24\"\n",
              "       width=\"24px\">\n",
              "    <path d=\"M0 0h24v24H0V0z\" fill=\"none\"/>\n",
              "    <path d=\"M18.56 5.44l.94 2.06.94-2.06 2.06-.94-2.06-.94-.94-2.06-.94 2.06-2.06.94zm-11 1L8.5 8.5l.94-2.06 2.06-.94-2.06-.94L8.5 2.5l-.94 2.06-2.06.94zm10 10l.94 2.06.94-2.06 2.06-.94-2.06-.94-.94-2.06-.94 2.06-2.06.94z\"/><path d=\"M17.41 7.96l-1.37-1.37c-.4-.4-.92-.59-1.43-.59-.52 0-1.04.2-1.43.59L10.3 9.45l-7.72 7.72c-.78.78-.78 2.05 0 2.83L4 21.41c.39.39.9.59 1.41.59.51 0 1.02-.2 1.41-.59l7.78-7.78 2.81-2.81c.8-.78.8-2.07 0-2.86zM5.41 20L4 18.59l7.72-7.72 1.47 1.35L5.41 20z\"/>\n",
              "  </svg>\n",
              "      </button>\n",
              "      \n",
              "  <style>\n",
              "    .colab-df-container {\n",
              "      display:flex;\n",
              "      flex-wrap:wrap;\n",
              "      gap: 12px;\n",
              "    }\n",
              "\n",
              "    .colab-df-convert {\n",
              "      background-color: #E8F0FE;\n",
              "      border: none;\n",
              "      border-radius: 50%;\n",
              "      cursor: pointer;\n",
              "      display: none;\n",
              "      fill: #1967D2;\n",
              "      height: 32px;\n",
              "      padding: 0 0 0 0;\n",
              "      width: 32px;\n",
              "    }\n",
              "\n",
              "    .colab-df-convert:hover {\n",
              "      background-color: #E2EBFA;\n",
              "      box-shadow: 0px 1px 2px rgba(60, 64, 67, 0.3), 0px 1px 3px 1px rgba(60, 64, 67, 0.15);\n",
              "      fill: #174EA6;\n",
              "    }\n",
              "\n",
              "    [theme=dark] .colab-df-convert {\n",
              "      background-color: #3B4455;\n",
              "      fill: #D2E3FC;\n",
              "    }\n",
              "\n",
              "    [theme=dark] .colab-df-convert:hover {\n",
              "      background-color: #434B5C;\n",
              "      box-shadow: 0px 1px 3px 1px rgba(0, 0, 0, 0.15);\n",
              "      filter: drop-shadow(0px 1px 2px rgba(0, 0, 0, 0.3));\n",
              "      fill: #FFFFFF;\n",
              "    }\n",
              "  </style>\n",
              "\n",
              "      <script>\n",
              "        const buttonEl =\n",
              "          document.querySelector('#df-ce85d298-7080-44cd-a69d-fd13f29c616f button.colab-df-convert');\n",
              "        buttonEl.style.display =\n",
              "          google.colab.kernel.accessAllowed ? 'block' : 'none';\n",
              "\n",
              "        async function convertToInteractive(key) {\n",
              "          const element = document.querySelector('#df-ce85d298-7080-44cd-a69d-fd13f29c616f');\n",
              "          const dataTable =\n",
              "            await google.colab.kernel.invokeFunction('convertToInteractive',\n",
              "                                                     [key], {});\n",
              "          if (!dataTable) return;\n",
              "\n",
              "          const docLinkHtml = 'Like what you see? Visit the ' +\n",
              "            '<a target=\"_blank\" href=https://colab.research.google.com/notebooks/data_table.ipynb>data table notebook</a>'\n",
              "            + ' to learn more about interactive tables.';\n",
              "          element.innerHTML = '';\n",
              "          dataTable['output_type'] = 'display_data';\n",
              "          await google.colab.output.renderOutput(dataTable, element);\n",
              "          const docLink = document.createElement('div');\n",
              "          docLink.innerHTML = docLinkHtml;\n",
              "          element.appendChild(docLink);\n",
              "        }\n",
              "      </script>\n",
              "    </div>\n",
              "  </div>\n",
              "  "
            ]
          },
          "metadata": {},
          "execution_count": 140
        }
      ],
      "source": [
        "# ordendando pelo percentual de modo decrescente\n",
        "df_analise_pais.sort_values('Percentual_de_faturas_%',\n",
        "                            ascending=False, inplace=True)\n",
        "df_analise_pais.head(5)"
      ]
    },
    {
      "cell_type": "markdown",
      "metadata": {
        "_cell_guid": "db6d2e37-c0b3-467f-89da-955e5798c2f7",
        "_uuid": "9d261a12-5b07-48a9-b2d0-6f9fa661dc13",
        "id": "8gBd8t69kpn0"
      },
      "source": [
        "O Reino Unido possui um **valor médio de £438,26** por fatura. Esse valor pode ser considerado baixo quando analisamos os 5 maiores valores médios. \n",
        "\n",
        "<div class=\"alert alert-warning\"> \n",
        "<strong><div style=\"color: rgb(0, 0, 0);\">💭  Importante:</div></strong> <br>\n",
        "    <div style=\"color: rgb(0, 0, 0);\"> → Um ponto importante que percebemos que existem <strong>faturas que apresentam valores £0,00</strong>. \n",
        "        <div style=\"color: rgb(0, 0, 0);\"> → Isso seria <strong>erro de lançamento de dados?</strong>. 🤔\n",
        "        <div style=\"color: rgb(0, 0, 0);\"> → Ou seriam <strong>doações</strong> que foram realizadas? 🤔\n",
        "</div>"
      ]
    },
    {
      "cell_type": "markdown",
      "metadata": {
        "_cell_guid": "3285142f-edfd-467b-a16c-8d31061cb510",
        "_uuid": "81ce6cde-f8f7-497e-a08a-d0942da64530",
        "id": "u67ilTc7kpn0"
      },
      "source": [
        "<a id='faturas-por-mes'></a>\n",
        "## <font color=\"#ff009e\">  3.3 Faturas geradas por mês </font>\n",
        "<hr color=\"#F5F5F5\" size=\"1\">  \n",
        "\n",
        "Vamos visualizar qual a quantidade de faturas geradas por mês ao longo do período."
      ]
    },
    {
      "cell_type": "code",
      "execution_count": null,
      "metadata": {
        "_cell_guid": "c49dfec5-c6c7-4a3c-b061-1aaa211a56e2",
        "_uuid": "e3d832e5-fa46-47d4-96f8-e77bf1027e64",
        "execution": {
          "iopub.execute_input": "2022-07-15T19:01:26.767052Z",
          "iopub.status.busy": "2022-07-15T19:01:26.765614Z",
          "iopub.status.idle": "2022-07-15T19:01:27.143346Z",
          "shell.execute_reply": "2022-07-15T19:01:27.141795Z",
          "shell.execute_reply.started": "2022-07-15T19:01:26.767004Z"
        },
        "jupyter": {
          "source_hidden": true
        },
        "colab": {
          "base_uri": "https://localhost:8080/",
          "height": 535
        },
        "id": "4xRTMqjykpn0",
        "outputId": "01fdd7a9-69a4-4e61-b2b7-3255ca2b93fe"
      },
      "outputs": [
        {
          "output_type": "execute_result",
          "data": {
            "text/plain": [
              "Text(0.5, 1.0, 'Total de faturas por mês')"
            ]
          },
          "metadata": {},
          "execution_count": 141
        },
        {
          "output_type": "display_data",
          "data": {
            "text/plain": [
              "<Figure size 1080x576 with 1 Axes>"
            ],
            "image/png": "[encoded data removed]"
          },
          "metadata": {}
        }
      ],
      "source": [
        "# agrupando a quantidade de fatura por Mês e Ano.\n",
        "df_fatura_mes = pd.DataFrame(df_ecommerce.groupby(['Ano_mes'])\n",
        "                             ['N°_da_fatura'].count()).reset_index()\n",
        "df_fatura_mes.rename(columns={\"N°_da_fatura\": \"Quantidade_de_faturas\"},\n",
        "                             inplace=True)\n",
        "\n",
        "# convertendo tipo do dado da coluna \"Ano_mes\" para string\n",
        "df_fatura_mes['Ano_mes'] = df_fatura_mes['Ano_mes'].astype(str)\n",
        "\n",
        "# plotando o gráfico\n",
        "sns.set_theme(style=\"white\", palette=None)\n",
        "plt.figure(figsize = (15,8))\n",
        "\n",
        "ax = sns.lineplot(data=df_fatura_mes,\n",
        "                  x=\"Ano_mes\",\n",
        "                  y=\"Quantidade_de_faturas\",\n",
        "                  color=\"magenta\",\n",
        "                  linewidth=2.5,\n",
        "                  marker=\"o\")\n",
        "ax.set_xlabel('Período')\n",
        "ax.set_ylabel('Quantidade de Faturas')\n",
        "ax.set_title('Total de faturas por mês')"
      ]
    },
    {
      "cell_type": "markdown",
      "metadata": {
        "_cell_guid": "22b1739f-9cdf-4b96-8557-c08b2d2388f5",
        "_uuid": "481c100c-72b5-4a01-81e1-1f7bb11d9ac9",
        "id": "X8HUqGinkpn0"
      },
      "source": [
        "<a id='fatuas-por-mes'></a>\n",
        "## <font color=\"#ff009e\">  3.4 Número de faturas do Reino Unido <i>versus</i> estrangeiras por mês </font>\n",
        "<hr color=\"#F5F5F5\" size=\"1\">  \n",
        "\n",
        "\n",
        "Após segmentar os clientes da UK Merch em dois grupos: os que <strong>pertencem ao Reino Unido</strong> e os que <strong>não pertencem ao Reino Unido</strong>, agora iremos verificar a quantidade desses dois grupos.\n",
        "\n",
        "Primeiro iremos verificar quais são os países dos clientes."
      ]
    },
    {
      "cell_type": "code",
      "execution_count": null,
      "metadata": {
        "_cell_guid": "7f726416-9327-431c-99c7-34cee18a38bf",
        "_uuid": "a7eacf88-e613-4332-82c9-74fd09131549",
        "execution": {
          "iopub.execute_input": "2022-07-15T19:01:27.145938Z",
          "iopub.status.busy": "2022-07-15T19:01:27.145547Z",
          "iopub.status.idle": "2022-07-15T19:01:27.156983Z",
          "shell.execute_reply": "2022-07-15T19:01:27.156124Z",
          "shell.execute_reply.started": "2022-07-15T19:01:27.145896Z"
        },
        "jupyter": {
          "source_hidden": true
        },
        "colab": {
          "base_uri": "https://localhost:8080/"
        },
        "id": "d-mAf1ttkpn0",
        "outputId": "04603d61-e925-4244-c1d6-2bad0521d649"
      },
      "outputs": [
        {
          "output_type": "execute_result",
          "data": {
            "text/plain": [
              "array(['United Kingdom', 'France', 'Australia', 'Netherlands', 'Germany',\n",
              "       'Norway', 'EIRE', 'Switzerland', 'Spain', 'Poland', 'Portugal',\n",
              "       'Italy', 'Belgium', 'Lithuania', 'Japan', 'Iceland',\n",
              "       'Channel Islands', 'Denmark', 'Cyprus', 'Sweden', 'Finland',\n",
              "       'Austria', 'Greece', 'Singapore', 'Lebanon',\n",
              "       'United Arab Emirates', 'Israel', 'Saudi Arabia', 'Czech Republic',\n",
              "       'Canada', 'Unspecified', 'Brazil', 'USA', 'European Community',\n",
              "       'Bahrain', 'Malta', 'RSA'], dtype=object)"
            ]
          },
          "metadata": {},
          "execution_count": 142
        }
      ],
      "source": [
        "df_ecommerce['País'].unique()"
      ]
    },
    {
      "cell_type": "code",
      "execution_count": null,
      "metadata": {
        "_cell_guid": "146752be-4f5a-4d3e-92be-516564fdc838",
        "_uuid": "f8ce3b36-78f4-4b30-946b-3b01bd668332",
        "execution": {
          "iopub.execute_input": "2022-07-15T19:01:27.162267Z",
          "iopub.status.busy": "2022-07-15T19:01:27.158198Z",
          "iopub.status.idle": "2022-07-15T19:01:27.177573Z",
          "shell.execute_reply": "2022-07-15T19:01:27.175951Z",
          "shell.execute_reply.started": "2022-07-15T19:01:27.162208Z"
        },
        "jupyter": {
          "source_hidden": true
        },
        "colab": {
          "base_uri": "https://localhost:8080/"
        },
        "id": "N7V0OEsYkpn0",
        "outputId": "0098906b-bc44-429b-e3b7-2f28a1904f51"
      },
      "outputs": [
        {
          "output_type": "stream",
          "name": "stdout",
          "text": [
            "Média de faturas sem país especificado:  333.38375\n",
            "Soma de faturas sem país especificado:  2667.07\n"
          ]
        }
      ],
      "source": [
        "# contando quantidade de faturas sem país especificado\n",
        "nao_especificado = df_ecommerce[df_ecommerce['País']=='Unspecified']\n",
        "nao_especificado.shape\n",
        "print('Média de faturas sem país especificado: ', nao_especificado['Valor'].mean())\n",
        "print('Soma de faturas sem país especificado: ', nao_especificado['Valor'].sum())"
      ]
    },
    {
      "cell_type": "markdown",
      "metadata": {
        "_cell_guid": "2409c524-b5d2-4d50-96b6-2bc171f26c83",
        "_uuid": "f1a93324-550c-400b-aeac-4099af188260",
        "id": "BHJm5IEckpn1"
      },
      "source": [
        "Percebe-se que existem <strong>8 faturas que não possuem o país de origem definidos</strong> e não conseguidos garantir que estas faturas sejam ou não do Reino Unido. \n",
        "\n",
        "Porém como a soma e a média dos valores das faturas não apresentam tando impacto aos resultados finais quando comparados aos valores totais das faturas do dataset, então iremos realizar a análise contabilizando-os, deixando como <strong>não pertencentes ao Reino Unido nas somas gerais.</strong>"
      ]
    },
    {
      "cell_type": "code",
      "execution_count": null,
      "metadata": {
        "_cell_guid": "0fbad79a-aa40-4966-b6d3-c4ef9fea586a",
        "_uuid": "76373dfd-07ea-442a-9de5-c574819c980f",
        "execution": {
          "iopub.execute_input": "2022-07-15T19:01:27.180407Z",
          "iopub.status.busy": "2022-07-15T19:01:27.179208Z",
          "iopub.status.idle": "2022-07-15T19:01:27.210952Z",
          "shell.execute_reply": "2022-07-15T19:01:27.210051Z",
          "shell.execute_reply.started": "2022-07-15T19:01:27.180369Z"
        },
        "jupyter": {
          "source_hidden": true
        },
        "id": "j-Z76ppMkpn1"
      },
      "outputs": [],
      "source": [
        "# Criando coluna para classificar se o cliente pertence ou não ao Reino Unido\n",
        "df_ecommerce.loc[df_ecommerce['País']==\"United Kingdom\", 'Pertence_UK'] = \"SIM\"\n",
        "df_ecommerce.loc[df_ecommerce['País']!=\"United Kingdom\", 'Pertence_UK'] = \"NÃO\"\n",
        "\n",
        "# agrupando a quantidade de faturas por ano e se pertence ou não ao Reino Unido\n",
        "df_fatura_mes_pais = pd.DataFrame(df_ecommerce.groupby(['Ano_mes', \n",
        "                                              'Pertence_UK'])\n",
        "                                  ['N°_da_fatura'].count()).reset_index()\n",
        "\n",
        "# renomeando a coluna N°_da_fatura\n",
        "df_fatura_mes_pais.rename(columns={\"N°_da_fatura\":\"Quantidade_de_faturas\"},inplace=True)\n",
        "\n",
        "# convertendo tipo do dado da coluna \"Ano_mes\" para string \n",
        "df_fatura_mes_pais['Ano_mes'] = df_fatura_mes_pais['Ano_mes'].astype(str)"
      ]
    },
    {
      "cell_type": "markdown",
      "metadata": {
        "_cell_guid": "c45bc8b0-291f-4db2-9ae0-968d307a559b",
        "_uuid": "a968860e-ca20-4d98-ab34-44e5b7d2c394",
        "id": "3QQmd47pkpn1"
      },
      "source": [
        "Visualizando o gráfico de **Total de Faturas por Mês** por faturas do Reino Unido X Estrangeiras"
      ]
    },
    {
      "cell_type": "code",
      "execution_count": null,
      "metadata": {
        "_cell_guid": "ddd06d85-8abf-4960-a204-b381b8d89caa",
        "_uuid": "63072068-bc17-4a4f-8118-72417e2ec267",
        "execution": {
          "iopub.execute_input": "2022-07-15T19:01:27.213401Z",
          "iopub.status.busy": "2022-07-15T19:01:27.212431Z",
          "iopub.status.idle": "2022-07-15T19:01:27.548911Z",
          "shell.execute_reply": "2022-07-15T19:01:27.547469Z",
          "shell.execute_reply.started": "2022-07-15T19:01:27.213352Z"
        },
        "jupyter": {
          "source_hidden": true
        },
        "colab": {
          "base_uri": "https://localhost:8080/",
          "height": 535
        },
        "id": "l1FcQ7Kukpn1",
        "outputId": "93fa016c-711e-4f04-aaad-20227560a01b"
      },
      "outputs": [
        {
          "output_type": "execute_result",
          "data": {
            "text/plain": [
              "<matplotlib.legend.Legend at 0x7f0e2c1cec90>"
            ]
          },
          "metadata": {},
          "execution_count": 145
        },
        {
          "output_type": "display_data",
          "data": {
            "text/plain": [
              "<Figure size 1080x576 with 1 Axes>"
            ],
            "image/png": "[encoded data removed]"
          },
          "metadata": {}
        }
      ],
      "source": [
        "# plotando o gráfico\n",
        "sns.set_theme(style=\"white\", palette=None)\n",
        "plt.figure(figsize = (15,8))\n",
        "ax = sns.lineplot(data=df_fatura_mes_pais,\n",
        "                          x=\"Ano_mes\",\n",
        "                          y=\"Quantidade_de_faturas\",\n",
        "                          hue=\"Pertence_UK\",\n",
        "                          legend=False,\n",
        "                          palette=\"tab10\",\n",
        "                          linewidth=2.5,\n",
        "                          marker=\"o\")\n",
        "ax.set_xlabel('Período')\n",
        "ax.set_ylabel('Quantidade de Faturas')\n",
        "ax.set_title('Total de faturas por mês')\n",
        "\n",
        "# alterando posição e nome dos dados da legenda\n",
        "plt.legend(labels = ['Não Pertence a UK','Pertence a UK'],loc = 2, bbox_to_anchor = (1,1))"
      ]
    },
    {
      "cell_type": "markdown",
      "metadata": {
        "_cell_guid": "b5299fde-d189-4541-8066-e610445d7892",
        "_uuid": "e528a46a-487f-402a-a9e9-b7d0a5c55175",
        "id": "zqE2-kczkpn1"
      },
      "source": [
        "Percebe-se que, sem levar em conta o mês atípico de dezembro de 2021, ambos os segmentos estão crescendo, porém os clientes pertecentes ao Reino Unido de maneira mais acentuada. \n",
        "\n",
        "<a id='clientes-por-mes'></a>\n",
        "## <font color=\"#ff009e\">  3.5 Número de novos clientes por mês </font>\n",
        "<hr color=\"#F5F5F5\" size=\"1\">  \n",
        "\n",
        "Agora iremos analisar a quantidade de clientes únicos a cada mês"
      ]
    },
    {
      "cell_type": "code",
      "execution_count": null,
      "metadata": {
        "_cell_guid": "18998e21-258d-40f9-b3da-3866dc8cc5e8",
        "_uuid": "8a3ea90f-07ca-4f7d-acae-09ee15b926bd",
        "execution": {
          "iopub.execute_input": "2022-07-15T19:01:27.551613Z",
          "iopub.status.busy": "2022-07-15T19:01:27.551172Z",
          "iopub.status.idle": "2022-07-15T19:01:27.571349Z",
          "shell.execute_reply": "2022-07-15T19:01:27.570483Z",
          "shell.execute_reply.started": "2022-07-15T19:01:27.551569Z"
        },
        "jupyter": {
          "source_hidden": true
        },
        "colab": {
          "base_uri": "https://localhost:8080/",
          "height": 457
        },
        "id": "_Rm5Pzrukpn1",
        "outputId": "8f1dc7eb-4224-40ad-b752-dfef2f83a80d"
      },
      "outputs": [
        {
          "output_type": "execute_result",
          "data": {
            "text/plain": [
              "    Ano_mes  Quantidade_clientes_unicos\n",
              "0   2020-12                         885\n",
              "1   2021-01                         741\n",
              "2   2021-02                         758\n",
              "3   2021-03                         974\n",
              "4   2021-04                         856\n",
              "5   2021-05                        1056\n",
              "6   2021-06                         991\n",
              "7   2021-07                         949\n",
              "8   2021-08                         935\n",
              "9   2021-09                        1266\n",
              "10  2021-10                        1364\n",
              "11  2021-11                        1665\n",
              "12  2021-12                         615"
            ],
            "text/html": [
              "\n",
              "  <div id=\"df-e6e443ad-2682-435f-85f6-d0cbe36ff73c\">\n",
              "    <div class=\"colab-df-container\">\n",
              "      <div>\n",
              "<style scoped>\n",
              "    .dataframe tbody tr th:only-of-type {\n",
              "        vertical-align: middle;\n",
              "    }\n",
              "\n",
              "    .dataframe tbody tr th {\n",
              "        vertical-align: top;\n",
              "    }\n",
              "\n",
              "    .dataframe thead th {\n",
              "        text-align: right;\n",
              "    }\n",
              "</style>\n",
              "<table border=\"1\" class=\"dataframe\">\n",
              "  <thead>\n",
              "    <tr style=\"text-align: right;\">\n",
              "      <th></th>\n",
              "      <th>Ano_mes</th>\n",
              "      <th>Quantidade_clientes_unicos</th>\n",
              "    </tr>\n",
              "  </thead>\n",
              "  <tbody>\n",
              "    <tr>\n",
              "      <th>0</th>\n",
              "      <td>2020-12</td>\n",
              "      <td>885</td>\n",
              "    </tr>\n",
              "    <tr>\n",
              "      <th>1</th>\n",
              "      <td>2021-01</td>\n",
              "      <td>741</td>\n",
              "    </tr>\n",
              "    <tr>\n",
              "      <th>2</th>\n",
              "      <td>2021-02</td>\n",
              "      <td>758</td>\n",
              "    </tr>\n",
              "    <tr>\n",
              "      <th>3</th>\n",
              "      <td>2021-03</td>\n",
              "      <td>974</td>\n",
              "    </tr>\n",
              "    <tr>\n",
              "      <th>4</th>\n",
              "      <td>2021-04</td>\n",
              "      <td>856</td>\n",
              "    </tr>\n",
              "    <tr>\n",
              "      <th>5</th>\n",
              "      <td>2021-05</td>\n",
              "      <td>1056</td>\n",
              "    </tr>\n",
              "    <tr>\n",
              "      <th>6</th>\n",
              "      <td>2021-06</td>\n",
              "      <td>991</td>\n",
              "    </tr>\n",
              "    <tr>\n",
              "      <th>7</th>\n",
              "      <td>2021-07</td>\n",
              "      <td>949</td>\n",
              "    </tr>\n",
              "    <tr>\n",
              "      <th>8</th>\n",
              "      <td>2021-08</td>\n",
              "      <td>935</td>\n",
              "    </tr>\n",
              "    <tr>\n",
              "      <th>9</th>\n",
              "      <td>2021-09</td>\n",
              "      <td>1266</td>\n",
              "    </tr>\n",
              "    <tr>\n",
              "      <th>10</th>\n",
              "      <td>2021-10</td>\n",
              "      <td>1364</td>\n",
              "    </tr>\n",
              "    <tr>\n",
              "      <th>11</th>\n",
              "      <td>2021-11</td>\n",
              "      <td>1665</td>\n",
              "    </tr>\n",
              "    <tr>\n",
              "      <th>12</th>\n",
              "      <td>2021-12</td>\n",
              "      <td>615</td>\n",
              "    </tr>\n",
              "  </tbody>\n",
              "</table>\n",
              "</div>\n",
              "      <button class=\"colab-df-convert\" onclick=\"convertToInteractive('df-e6e443ad-2682-435f-85f6-d0cbe36ff73c')\"\n",
              "              title=\"Convert this dataframe to an interactive table.\"\n",
              "              style=\"display:none;\">\n",
              "        \n",
              "  <svg xmlns=\"http://www.w3.org/2000/svg\" height=\"24px\"viewBox=\"0 0 24 24\"\n",
              "       width=\"24px\">\n",
              "    <path d=\"M0 0h24v24H0V0z\" fill=\"none\"/>\n",
              "    <path d=\"M18.56 5.44l.94 2.06.94-2.06 2.06-.94-2.06-.94-.94-2.06-.94 2.06-2.06.94zm-11 1L8.5 8.5l.94-2.06 2.06-.94-2.06-.94L8.5 2.5l-.94 2.06-2.06.94zm10 10l.94 2.06.94-2.06 2.06-.94-2.06-.94-.94-2.06-.94 2.06-2.06.94z\"/><path d=\"M17.41 7.96l-1.37-1.37c-.4-.4-.92-.59-1.43-.59-.52 0-1.04.2-1.43.59L10.3 9.45l-7.72 7.72c-.78.78-.78 2.05 0 2.83L4 21.41c.39.39.9.59 1.41.59.51 0 1.02-.2 1.41-.59l7.78-7.78 2.81-2.81c.8-.78.8-2.07 0-2.86zM5.41 20L4 18.59l7.72-7.72 1.47 1.35L5.41 20z\"/>\n",
              "  </svg>\n",
              "      </button>\n",
              "      \n",
              "  <style>\n",
              "    .colab-df-container {\n",
              "      display:flex;\n",
              "      flex-wrap:wrap;\n",
              "      gap: 12px;\n",
              "    }\n",
              "\n",
              "    .colab-df-convert {\n",
              "      background-color: #E8F0FE;\n",
              "      border: none;\n",
              "      border-radius: 50%;\n",
              "      cursor: pointer;\n",
              "      display: none;\n",
              "      fill: #1967D2;\n",
              "      height: 32px;\n",
              "      padding: 0 0 0 0;\n",
              "      width: 32px;\n",
              "    }\n",
              "\n",
              "    .colab-df-convert:hover {\n",
              "      background-color: #E2EBFA;\n",
              "      box-shadow: 0px 1px 2px rgba(60, 64, 67, 0.3), 0px 1px 3px 1px rgba(60, 64, 67, 0.15);\n",
              "      fill: #174EA6;\n",
              "    }\n",
              "\n",
              "    [theme=dark] .colab-df-convert {\n",
              "      background-color: #3B4455;\n",
              "      fill: #D2E3FC;\n",
              "    }\n",
              "\n",
              "    [theme=dark] .colab-df-convert:hover {\n",
              "      background-color: #434B5C;\n",
              "      box-shadow: 0px 1px 3px 1px rgba(0, 0, 0, 0.15);\n",
              "      filter: drop-shadow(0px 1px 2px rgba(0, 0, 0, 0.3));\n",
              "      fill: #FFFFFF;\n",
              "    }\n",
              "  </style>\n",
              "\n",
              "      <script>\n",
              "        const buttonEl =\n",
              "          document.querySelector('#df-e6e443ad-2682-435f-85f6-d0cbe36ff73c button.colab-df-convert');\n",
              "        buttonEl.style.display =\n",
              "          google.colab.kernel.accessAllowed ? 'block' : 'none';\n",
              "\n",
              "        async function convertToInteractive(key) {\n",
              "          const element = document.querySelector('#df-e6e443ad-2682-435f-85f6-d0cbe36ff73c');\n",
              "          const dataTable =\n",
              "            await google.colab.kernel.invokeFunction('convertToInteractive',\n",
              "                                                     [key], {});\n",
              "          if (!dataTable) return;\n",
              "\n",
              "          const docLinkHtml = 'Like what you see? Visit the ' +\n",
              "            '<a target=\"_blank\" href=https://colab.research.google.com/notebooks/data_table.ipynb>data table notebook</a>'\n",
              "            + ' to learn more about interactive tables.';\n",
              "          element.innerHTML = '';\n",
              "          dataTable['output_type'] = 'display_data';\n",
              "          await google.colab.output.renderOutput(dataTable, element);\n",
              "          const docLink = document.createElement('div');\n",
              "          docLink.innerHTML = docLinkHtml;\n",
              "          element.appendChild(docLink);\n",
              "        }\n",
              "      </script>\n",
              "    </div>\n",
              "  </div>\n",
              "  "
            ]
          },
          "metadata": {},
          "execution_count": 146
        }
      ],
      "source": [
        "# Quantidade de clientes únicos por mês e ano\n",
        "df_clientes_novos = pd.DataFrame(df_ecommerce.groupby(['Ano_mes'])\n",
        "                                 ['ID_Cliente'].nunique()).reset_index()\n",
        "df_clientes_novos.columns = ['Ano_mes', 'Quantidade_clientes_unicos']\n",
        "df_clientes_novos"
      ]
    },
    {
      "cell_type": "code",
      "execution_count": null,
      "metadata": {
        "_cell_guid": "09392c11-01b8-4326-82f4-b114c0b1664e",
        "_uuid": "cbc553fb-7d2e-473c-80d0-0d3356ce50dc",
        "execution": {
          "iopub.execute_input": "2022-07-15T19:01:27.573473Z",
          "iopub.status.busy": "2022-07-15T19:01:27.572602Z",
          "iopub.status.idle": "2022-07-15T19:01:27.967396Z",
          "shell.execute_reply": "2022-07-15T19:01:27.966142Z",
          "shell.execute_reply.started": "2022-07-15T19:01:27.573435Z"
        },
        "jupyter": {
          "source_hidden": true
        },
        "colab": {
          "base_uri": "https://localhost:8080/",
          "height": 501
        },
        "id": "PnuAJDIakpn1",
        "outputId": "69cf0e9c-9f83-41f9-8e9d-8cb01acb4906"
      },
      "outputs": [
        {
          "output_type": "display_data",
          "data": {
            "text/plain": [
              "<Figure size 1080x576 with 1 Axes>"
            ],
            "image/png": "[encoded data removed]"
          },
          "metadata": {}
        }
      ],
      "source": [
        "# convertendo tipo do dado da coluna \"Ano_mes\" para string \n",
        "df_clientes_novos['Ano_mes'] = df_clientes_novos['Ano_mes'].astype(str)\n",
        "\n",
        "sns.set_theme(style=\"white\", palette=None)\n",
        "plt.figure(figsize = (15,8))\n",
        "\n",
        "ax = sns.lineplot(data=df_clientes_novos,\n",
        "                  x=\"Ano_mes\",\n",
        "                  y=\"Quantidade_clientes_unicos\",\n",
        "                  color=\"magenta\",\n",
        "                  linewidth=2.5,\n",
        "                  marker=\"o\")\n",
        "\n",
        "ax.set_xlabel('', fontsize=14, labelpad=10)\n",
        "ax.set_ylabel('Quantidade de clientes únicos', fontsize=14, labelpad=10)\n",
        "ax.set_title('Clientes únicos por mês')\n",
        "\n",
        "# incluindo rótulos nos pontos do gráfico\n",
        "for x, y in zip(df_clientes_novos['Ano_mes'], \n",
        "                df_clientes_novos['Quantidade_clientes_unicos']):\n",
        "     plt.text(x = x, # posição x\n",
        "               y = y+30, # posição y + 30 na coordenada\n",
        "               s = '{:.0f}'.format(y), # formato \n",
        "               color = 'white').set_backgroundcolor('#965786') # cor da fonte e do background"
      ]
    },
    {
      "cell_type": "markdown",
      "metadata": {
        "_cell_guid": "95c573fd-1add-4596-876f-0b9236c43523",
        "_uuid": "ea857afe-cab4-474c-9ddb-a8f38639739c",
        "id": "Dbs5yoHVkpn2"
      },
      "source": [
        "<div class=\"alert alert-info\"> \n",
        "<strong><div style=\"color: rgb(0, 0, 0);\">✨  Comentário:</div></strong> <br>\n",
        "    <div style=\"color: rgb(0, 0, 0);\">  → O mês de Novembro/2021 teve o maior pico de clientes únicos realizando compras. Isso provavelmente se deu por causa de eventos que estimulam as compras como <strong>Black Friday</strong>? 🤔 </div>\n",
        "</div>"
      ]
    },
    {
      "cell_type": "markdown",
      "metadata": {
        "_cell_guid": "64b3600f-afcd-40c4-a0e3-356d9f264f0a",
        "_uuid": "5a2c12cd-ebfa-42eb-8aeb-ad12d7d8ef3f",
        "id": "Qg2vzEK8kpn2"
      },
      "source": [
        "<a id='outras-analises'></a>\n",
        "## <font color=\"#ff009e\"> 3.6 Outras análises relevantes para o dataset </font>\n",
        "<hr color=\"#F5F5F5\" size=\"1\"> \n",
        "\n",
        "- Montante total de vendas por mês"
      ]
    },
    {
      "cell_type": "code",
      "execution_count": null,
      "metadata": {
        "_cell_guid": "be64f77a-4199-4508-8dd9-320af5c15740",
        "_uuid": "2d66dd9e-b813-40fc-a1b9-dc30f39bf4ca",
        "execution": {
          "iopub.execute_input": "2022-07-15T19:01:27.969134Z",
          "iopub.status.busy": "2022-07-15T19:01:27.968805Z",
          "iopub.status.idle": "2022-07-15T19:01:28.296573Z",
          "shell.execute_reply": "2022-07-15T19:01:28.295777Z",
          "shell.execute_reply.started": "2022-07-15T19:01:27.969105Z"
        },
        "jupyter": {
          "source_hidden": true
        },
        "colab": {
          "base_uri": "https://localhost:8080/",
          "height": 518
        },
        "id": "hntKoKZqkpn2",
        "outputId": "b317ba99-9d6a-4c92-fc15-f315a04a734b"
      },
      "outputs": [
        {
          "output_type": "execute_result",
          "data": {
            "text/plain": [
              "Text(0, 0.5, 'Valor em Libras (k)')"
            ]
          },
          "metadata": {},
          "execution_count": 148
        },
        {
          "output_type": "display_data",
          "data": {
            "text/plain": [
              "<Figure size 1080x576 with 1 Axes>"
            ],
            "image/png": "[encoded data removed]"
          },
          "metadata": {}
        }
      ],
      "source": [
        "# realizando o cálculo total de vendas por mês\n",
        "df_montante_mes = pd.DataFrame(df_ecommerce.groupby(['Ano_mes'])\n",
        "                               ['Valor'].sum()).reset_index()\n",
        "df_montante_mes.columns = ['Ano_mes', 'Montante Total de Vendas']\n",
        "\n",
        "# transformando o valor em múltiplo de 1.000 ou K.\n",
        "df_montante_mes['Montante Total de Vendas (K)'] = (df_montante_mes['Montante Total de Vendas']\n",
        "                                                   /1000).round(2)\n",
        "\n",
        "# convertendo tipo do dado da coluna \"Ano_mes\" para string\n",
        "df_montante_mes['Ano_mes'] = df_montante_mes['Ano_mes'].astype(str)\n",
        "\n",
        "# selecionando o valor mínimo dos 3 maiores Montantes totais de vendas\n",
        "minimo = min(df_montante_mes['Montante Total de Vendas (K)'].nlargest(n=3))\n",
        "\n",
        "# colorindo de azul os 3 maiores e colorindo de cinza o restante\n",
        "clrs = ['grey' if (x < minimo) else 'blue' \n",
        "        for x in df_montante_mes['Montante Total de Vendas (K)']]\n",
        "\n",
        "# criando o gráfico de barras\n",
        "sns.set_theme(style=\"white\", palette=None)\n",
        "plt.figure(figsize = (15,8))\n",
        "ax = sns.barplot(x=\"Ano_mes\",\n",
        "                 y=\"Montante Total de Vendas (K)\",\n",
        "                 data=df_montante_mes,\n",
        "                 ci=False,\n",
        "                 palette=clrs)\n",
        "\n",
        "ax.set_title('Montante Total de Vendas por Mês')\n",
        "ax.set_xlabel('', fontsize=14, labelpad=10)\n",
        "ax.set_ylabel('Valor em Libras (k)', fontsize=14, labelpad=10)"
      ]
    },
    {
      "cell_type": "markdown",
      "metadata": {
        "_cell_guid": "27b01e83-6eda-496c-a78c-55993398fcc2",
        "_uuid": "8fd2abf3-dca7-4154-b523-8d448a47f744",
        "id": "6eIHR3Ynkpn2"
      },
      "source": [
        "Podemos observar que os meses de _Setembro_, _Outubro_ e _Novembro de 2021_ tiveram o maior montante total, com os valores £952.84K, £1039.32K e £1161.82K, respectivamente.\n",
        "\n",
        "- Montante de vendas dentro e fora do Reino Unido, por mês"
      ]
    },
    {
      "cell_type": "code",
      "execution_count": null,
      "metadata": {
        "_cell_guid": "31dbc6ae-d182-4f46-a9e1-28bc7b48b37f",
        "_uuid": "c5ec204d-30b4-4237-96de-363619f2f66a",
        "execution": {
          "iopub.execute_input": "2022-07-15T19:01:28.298738Z",
          "iopub.status.busy": "2022-07-15T19:01:28.297790Z",
          "iopub.status.idle": "2022-07-15T19:01:29.139481Z",
          "shell.execute_reply": "2022-07-15T19:01:29.138254Z",
          "shell.execute_reply.started": "2022-07-15T19:01:28.298701Z"
        },
        "jupyter": {
          "source_hidden": true
        },
        "colab": {
          "base_uri": "https://localhost:8080/",
          "height": 518
        },
        "id": "DVOeG9iRkpn2",
        "outputId": "4eac57bf-d2ce-4523-bf86-ebe274fac948"
      },
      "outputs": [
        {
          "output_type": "execute_result",
          "data": {
            "text/plain": [
              "Text(0, 0.5, 'Valor em Libras (k)')"
            ]
          },
          "metadata": {},
          "execution_count": 149
        },
        {
          "output_type": "display_data",
          "data": {
            "text/plain": [
              "<Figure size 1440x576 with 1 Axes>"
            ],
            "image/png": "[encoded data removed]"
          },
          "metadata": {}
        }
      ],
      "source": [
        "df_mes= pd.DataFrame(df_ecommerce.groupby(by=['Ano_mes',\n",
        "                                    'Pertence_UK'])['Valor'].sum()).reset_index()\n",
        "df_mes.columns = ['Ano_mes','Pertence UK', 'Montante Total de Vendas']\n",
        "\n",
        "# transformando o valor em múltiplo de 1.000 ou K.\n",
        "df_mes['Montante Total de Vendas (K)'] = (df_mes['Montante Total de Vendas']/1000).round(2)\n",
        "\n",
        "# convertendo tipo do dado da coluna \"Ano_mes\" para string para ser utilizando no gráfico que será gerado\n",
        "df_mes['Ano_mes'] = df_mes['Ano_mes'].astype(str)\n",
        "\n",
        "\n",
        "sns.set_theme(style=\"white\", palette=None)\n",
        "plt.figure(figsize = (20,8))\n",
        "ax = sns.barplot(x=\"Ano_mes\",\n",
        "                 y=\"Montante Total de Vendas (K)\",\n",
        "                 data=df_mes,\n",
        "                 order=df_mes['Ano_mes'],\n",
        "                 hue='Pertence UK',\n",
        "                 ci=False)\n",
        "\n",
        "ax.set_title('Montante Total de Vendas dentro e fora do Reino Unido, por mês')\n",
        "ax.set_xlabel('', fontsize=14, labelpad=10)\n",
        "ax.set_ylabel('Valor em Libras (k)', fontsize=14, labelpad=10)"
      ]
    },
    {
      "cell_type": "markdown",
      "metadata": {
        "_cell_guid": "620ac039-3f5b-4f31-b974-7da533e21218",
        "_uuid": "efef3301-f164-4d64-b42b-462db5b5f81f",
        "id": "hn5Edq1Akpn2"
      },
      "source": [
        "Observando o gráfico de barras é possível perceber que a grande diferença nos valores de montantes das vendas para o Reino Unido que são bem maiores do que as vendas para fora do Reino Unido.\n",
        "\n",
        "- 10 Maiores clientes que fizeram mais compras dentro e fora do Reino Unido, dentro de um mesmo mês"
      ]
    },
    {
      "cell_type": "code",
      "execution_count": null,
      "metadata": {
        "_cell_guid": "d2ada94f-3ae9-4beb-aff3-3606088deb87",
        "_uuid": "7fdb7ed0-c7e1-4884-96b4-5edaa568d301",
        "execution": {
          "iopub.execute_input": "2022-07-15T19:01:29.142100Z",
          "iopub.status.busy": "2022-07-15T19:01:29.141187Z",
          "iopub.status.idle": "2022-07-15T19:01:29.533398Z",
          "shell.execute_reply": "2022-07-15T19:01:29.532302Z",
          "shell.execute_reply.started": "2022-07-15T19:01:29.142052Z"
        },
        "jupyter": {
          "source_hidden": true
        },
        "colab": {
          "base_uri": "https://localhost:8080/",
          "height": 518
        },
        "id": "b4mUlN7Ukpn3",
        "outputId": "7b2c68df-67e8-433a-8755-b8c92a82cd18"
      },
      "outputs": [
        {
          "output_type": "execute_result",
          "data": {
            "text/plain": [
              "Text(0, 0.5, 'Valor em Libras')"
            ]
          },
          "metadata": {},
          "execution_count": 150
        },
        {
          "output_type": "display_data",
          "data": {
            "text/plain": [
              "<Figure size 1296x576 with 1 Axes>"
            ],
            "image/png": "[encoded data removed]"
          },
          "metadata": {}
        }
      ],
      "source": [
        "# calculando os 10 maiores clientes e determinando se eles são ou não do Reino Unido\n",
        "df_cliente_mes= pd.DataFrame(df_ecommerce.groupby(by=['ID_Cliente',\n",
        "                                                      'Pertence_UK'])\n",
        "                             ['Valor'].sum()).reset_index()\n",
        "df_cliente_mes.columns = ['Cliente', 'Pertence_UK', 'Montante Total de Vendas']\n",
        "df_cliente_mes.sort_values('Montante Total de Vendas', ascending=False, inplace=True)\n",
        "df_cliente_mes = df_cliente_mes.head(10)\n",
        "\n",
        "# visualização\n",
        "sns.set_theme(style=\"white\", palette=None)\n",
        "plt.figure(figsize = (18,8))\n",
        "ax = sns.barplot(x=\"Cliente\",\n",
        "                 y=\"Montante Total de Vendas\",\n",
        "                 data=df_cliente_mes,\n",
        "                 hue='Pertence_UK',\n",
        "                 order=df_cliente_mes['Cliente'],\n",
        "                 ci=False)\n",
        "ax.set_title('Valores de vendas para os 10 principais clientes')\n",
        "ax.set_xlabel('', fontsize=14, labelpad=10)\n",
        "ax.set_ylabel('Valor em Libras', fontsize=14, labelpad=10)"
      ]
    },
    {
      "cell_type": "markdown",
      "metadata": {
        "_cell_guid": "378ff93e-c1ee-4265-8926-57db9766f5ad",
        "_uuid": "8d940a27-c9b8-47c1-a7c6-2823e284acf1",
        "id": "9RYnIEFzkpn3"
      },
      "source": [
        "- Quantidade mensal de produtos vendidos"
      ]
    },
    {
      "cell_type": "code",
      "execution_count": null,
      "metadata": {
        "_cell_guid": "8b913cf1-43a9-449c-a685-b2e69e3be96e",
        "_uuid": "18318141-f13d-4764-a935-029fd7d762f4",
        "execution": {
          "iopub.execute_input": "2022-07-15T19:01:29.540099Z",
          "iopub.status.busy": "2022-07-15T19:01:29.539721Z",
          "iopub.status.idle": "2022-07-15T19:01:29.850571Z",
          "shell.execute_reply": "2022-07-15T19:01:29.849633Z",
          "shell.execute_reply.started": "2022-07-15T19:01:29.540068Z"
        },
        "jupyter": {
          "source_hidden": true
        },
        "colab": {
          "base_uri": "https://localhost:8080/",
          "height": 518
        },
        "id": "T2LhUSuqkpn3",
        "outputId": "06383e03-c0c7-48dc-c1b7-38b9f8259d96"
      },
      "outputs": [
        {
          "output_type": "execute_result",
          "data": {
            "text/plain": [
              "Text(0, 0.5, 'Quantidade')"
            ]
          },
          "metadata": {},
          "execution_count": 151
        },
        {
          "output_type": "display_data",
          "data": {
            "text/plain": [
              "<Figure size 1080x576 with 1 Axes>"
            ],
            "image/png": "[encoded data removed]"
          },
          "metadata": {}
        }
      ],
      "source": [
        "# Calculando a quantidade mensal de produtos vendos\n",
        "df_produtos = pd.DataFrame(df_ecommerce.groupby(['Ano_mes'])\n",
        "                           ['Quantidade'].sum()).reset_index()\n",
        "df_produtos.columns = ['Ano_mes', 'Quantidade de Produtos Vendidos']\n",
        "\n",
        "# convertendo tipo do dado da coluna \"Ano_mes\" para string\n",
        "df_produtos['Ano_mes'] = df_produtos['Ano_mes'].astype(str)\n",
        "\n",
        "# selecionando o valor mínimo dos 3 maiores Montantes totais de vendas\n",
        "minimo = min(df_produtos['Quantidade de Produtos Vendidos'].nlargest(n=3))\n",
        "\n",
        "# colorindo de azul os 3 maiores e colorindo de cinza o restante\n",
        "clrs = ['grey' if (x < minimo) else 'blue' \n",
        "        for x in df_produtos['Quantidade de Produtos Vendidos']]\n",
        "\n",
        "# criando o gráfico de barras\n",
        "sns.set_theme(style=\"white\", palette=None)\n",
        "plt.figure(figsize = (15,8))\n",
        "ax = sns.barplot(x=\"Ano_mes\",\n",
        "                 y=\"Quantidade de Produtos Vendidos\",\n",
        "                 data=df_produtos,\n",
        "                 ci=False,\n",
        "                 palette=clrs)\n",
        "\n",
        "ax.set_title('Total de Produtos Vendidos por mês')\n",
        "ax.set_xlabel('', fontsize=14, labelpad=10)\n",
        "ax.set_ylabel('Quantidade', fontsize=14, labelpad=10)"
      ]
    },
    {
      "cell_type": "markdown",
      "metadata": {
        "_cell_guid": "da3911b0-f797-4daa-9219-c740be488259",
        "_uuid": "3a102ff7-0c2e-483f-89a0-a218713058e4",
        "id": "u16hLxizkpn5"
      },
      "source": [
        "- Ticket Médio do Período"
      ]
    },
    {
      "cell_type": "code",
      "execution_count": null,
      "metadata": {
        "_cell_guid": "57bac8a4-9f0f-48b1-bf6a-b7687c859d81",
        "_uuid": "1d086c0c-97ba-403c-b5fe-5621450cd124",
        "execution": {
          "iopub.execute_input": "2022-07-15T19:01:29.852938Z",
          "iopub.status.busy": "2022-07-15T19:01:29.851819Z",
          "iopub.status.idle": "2022-07-15T19:01:29.861276Z",
          "shell.execute_reply": "2022-07-15T19:01:29.860227Z",
          "shell.execute_reply.started": "2022-07-15T19:01:29.852898Z"
        },
        "jupyter": {
          "source_hidden": true
        },
        "colab": {
          "base_uri": "https://localhost:8080/"
        },
        "id": "d5gtFeM6kpn5",
        "outputId": "9d814b2e-ba0a-4607-e839-b67e41a63d4e"
      },
      "outputs": [
        {
          "output_type": "execute_result",
          "data": {
            "text/plain": [
              "479.99"
            ]
          },
          "metadata": {},
          "execution_count": 152
        }
      ],
      "source": [
        "ticket = (df_ecommerce['Valor'].sum() / \n",
        "          df_ecommerce['ID_Cliente'].count()).round(2)\n",
        "ticket"
      ]
    },
    {
      "cell_type": "markdown",
      "metadata": {
        "_cell_guid": "932e336b-bc26-4a69-be6a-8c063ac6dc40",
        "_uuid": "7cc8d098-d174-42f4-91d0-0f6953d7dec9",
        "id": "2hhxq4DBkpn6"
      },
      "source": [
        "O Ticket Médio é de **£479.99**."
      ]
    },
    {
      "cell_type": "markdown",
      "metadata": {
        "_cell_guid": "9e05c3d2-83c2-40fb-8329-da21ae7a450d",
        "_uuid": "2db6b572-bccd-4acb-8090-19a468606a2b",
        "id": "UwJalSi7kpn6"
      },
      "source": [
        "- Ticket Médio Mensal"
      ]
    },
    {
      "cell_type": "code",
      "execution_count": null,
      "metadata": {
        "_cell_guid": "1afcaaf4-69ca-4f91-b3d3-3cd86e4f33bc",
        "_uuid": "f515cbb4-9b06-4357-a0e3-a9c0179db6fe",
        "execution": {
          "iopub.execute_input": "2022-07-15T19:01:29.864111Z",
          "iopub.status.busy": "2022-07-15T19:01:29.863076Z",
          "iopub.status.idle": "2022-07-15T19:01:30.289267Z",
          "shell.execute_reply": "2022-07-15T19:01:30.288141Z",
          "shell.execute_reply.started": "2022-07-15T19:01:29.864072Z"
        },
        "jupyter": {
          "source_hidden": true
        },
        "colab": {
          "base_uri": "https://localhost:8080/",
          "height": 501
        },
        "id": "MHq2v5tOkpn6",
        "outputId": "1b252f95-a7a0-4897-ea81-bc553b98ef89"
      },
      "outputs": [
        {
          "output_type": "display_data",
          "data": {
            "text/plain": [
              "<Figure size 1440x576 with 1 Axes>"
            ],
            "image/png": "[encoded data removed]"
          },
          "metadata": {}
        }
      ],
      "source": [
        "# Calculando o valor das vendas mensal\n",
        "ticket = pd.DataFrame(df_ecommerce.groupby(by=['Ano_mes'])\n",
        "                      ['Valor'].sum()).reset_index()\n",
        "\n",
        "# Calculando a quantidade de clientes mensais\n",
        "ticket2 = pd.DataFrame(df_ecommerce.groupby(by=['Ano_mes'])\n",
        "                       ['ID_Cliente'].count()).reset_index()\n",
        "\n",
        "# Unindo os dois dataframes criados \n",
        "ticket_mensal =  pd.merge(ticket,\n",
        "                          ticket2, on=\"Ano_mes\")\n",
        "\n",
        "# Calculando o valor do ticket médio mensal\n",
        "for i in range(12):\n",
        "    ticket_mensal['Ticket Médio Mensal'] = (ticket['Valor'] \n",
        "                                            / ticket2['ID_Cliente']).round(2)\n",
        "\n",
        "# convertendo tipo do dado da coluna \"Ano_mes\" para string\n",
        "ticket_mensal['Ano_mes'] = ticket_mensal['Ano_mes'].astype(str)\n",
        "\n",
        "sns.set_theme(style=\"white\", palette=None)\n",
        "plt.figure(figsize = (20,8))\n",
        "\n",
        "ax = sns.lineplot(data=ticket_mensal,\n",
        "                  x=\"Ano_mes\",\n",
        "                  y=\"Ticket Médio Mensal\",\n",
        "                  color=\"magenta\",\n",
        "                  linewidth=2.5,\n",
        "                  marker=\"o\")\n",
        "\n",
        "ax.set_xlabel('', fontsize=14, labelpad=10)\n",
        "ax.set_ylabel('Valor em Libras (£)', fontsize=14, labelpad=10)\n",
        "ax.set_title('Ticket Médio Mensal')\n",
        "\n",
        "# incluindo rótulos nos pontos do gráfico\n",
        "for x, y in zip(ticket_mensal['Ano_mes'],\n",
        "                ticket_mensal['Ticket Médio Mensal']):\n",
        "     plt.text(x = x, # posição x\n",
        "               y = y+10, # posição y + 30 na coordenada\n",
        "               s = '{:.2f}'.format(y), # formato \n",
        "               color = 'white').set_backgroundcolor('#965786') # cor da fonte e do background"
      ]
    },
    {
      "cell_type": "markdown",
      "metadata": {
        "_cell_guid": "dd707650-7a67-4db1-adad-21219d213878",
        "_uuid": "fce281db-687c-476b-b984-439449019f10",
        "id": "pGlHo0jpkpn6"
      },
      "source": [
        "<a id='analise-coorte'></a>\n",
        "# <font color=\"#ff009e\"> 4. Análise de Coorte </font>\n",
        "<hr color=\"#F5F5F5\" size=\"1\">\n",
        "\n",
        "Agora, iremos construir uma função que calcula o coorte e retorna o dataframe gerado.\n",
        "\n",
        "## O que é Análise de Coorte?\n",
        "\n",
        "Em Estatística, coorte é um **conjunto de pessoas** que têm em comum um **evento que se deu no mesmo período**.\n",
        "\n",
        "A análise do comportamento e o desempenho de grupos de clientes que possuam atributos em comum auxilia nas estratégias que deverão ser adotadas. Por exemplo, todos os clientes com a mesma data de aquisição pertencem ao mesmo coorte. \n",
        "\n",
        "Para este estudo iremos organizar **os clientes em grupos de data de aquisição** e iremos analisar o comportamento desses grupos de acordo com métricas como **retenção de clientes**, exclusivamente."
      ]
    },
    {
      "cell_type": "code",
      "execution_count": null,
      "metadata": {
        "_cell_guid": "032f3828-2faa-45ad-99c4-28ae9b7eec9c",
        "_uuid": "0b0616c3-9bd5-4a4b-b75c-639577f382cf",
        "execution": {
          "iopub.execute_input": "2022-07-15T19:01:30.292054Z",
          "iopub.status.busy": "2022-07-15T19:01:30.291563Z",
          "iopub.status.idle": "2022-07-15T19:01:31.103355Z",
          "shell.execute_reply": "2022-07-15T19:01:31.102242Z",
          "shell.execute_reply.started": "2022-07-15T19:01:30.292004Z"
        },
        "jupyter": {
          "source_hidden": true
        },
        "colab": {
          "base_uri": "https://localhost:8080/",
          "height": 535
        },
        "id": "W1sXI_wTkpn6",
        "outputId": "99674c89-037a-40bd-933a-6d26ce309a6a"
      },
      "outputs": [
        {
          "output_type": "execute_result",
          "data": {
            "text/plain": [
              "<matplotlib.axes._subplots.AxesSubplot at 0x7f0e2b8dc510>"
            ]
          },
          "metadata": {},
          "execution_count": 154
        },
        {
          "output_type": "display_data",
          "data": {
            "text/plain": [
              "<Figure size 1080x576 with 2 Axes>"
            ],
            "image/png": "[encoded data removed]"
          },
          "metadata": {}
        }
      ],
      "source": [
        "# Definindo uma função para atribuuir os períodos existentes\n",
        "def coorte_periodo(df_coorte):\n",
        "    df_coorte['Periodo'] = np.arange(len(df_coorte)) + 1\n",
        "    return df_coorte\n",
        "\n",
        "def criando_coorte(df_coorte):\n",
        "    # usando os ID's dos clientes como índice\n",
        "    df_coorte.set_index('ID_Cliente', inplace=True)\n",
        "\n",
        "    # criando o coorte de cada cliente\n",
        "    df_coorte[\"Coorte\"] = df_coorte.groupby(level=0)['Ano_mes'].min()\n",
        "\n",
        "    # resetando os índices\n",
        "    df_coorte.reset_index(inplace=True)\n",
        "\n",
        "    # Agrupando por Coorte e Ano_Mes das faturas\n",
        "    coorte = df_coorte.groupby(['Coorte', 'Ano_mes'])\n",
        "    cohorts = coorte.agg({'ID_Cliente': pd.Series.nunique,\n",
        "                          'N°_da_fatura' : pd.Series.nunique,\n",
        "                          'Valor': np.sum})\n",
        "    cohorts.rename(columns={'ID_Cliente':'Total_clientes',\n",
        "                            'N°_da_fatura':'Total_faturas'}, inplace=True)\n",
        "\n",
        "    cohorts = cohorts.groupby(level=0).apply(coorte_periodo)\n",
        "\n",
        "    # reindexando o dataframe\n",
        "    cohorts.reset_index(inplace=True)\n",
        "    cohorts.set_index(['Coorte', 'Periodo'], inplace=True)\n",
        "\n",
        "    # criando uma série para salvar o total de cada cliente por coorte\n",
        "    coorte_grupo = cohorts['Total_clientes'].groupby(level=0).first()\n",
        "\n",
        "    # calculando o total de retenção dos clientes por cada grupo de coorte\n",
        "    retencao_clientes = cohorts['Total_clientes'].unstack(0).divide(coorte_grupo, axis=1)\n",
        "    return retencao_clientes\n",
        "\n",
        "# calculando a retenção dos clientes com a função criando_coorte\n",
        "retencao_clientes = criando_coorte(df_ecommerce)\n",
        "\n",
        "#Aplicando o gráfico no dataframe gerado para visualizar a retenção\n",
        "sns.color_palette(\"rocket\", as_cmap=True)\n",
        "plt.figure(figsize=(15,8))\n",
        "plt.title('Análise de Coorte para avaliação de retenção de clientes')\n",
        "sns.heatmap(retencao_clientes.T,\n",
        "            mask=retencao_clientes.T.isnull(),\n",
        "            annot=True,\n",
        "            fmt='.0%')"
      ]
    },
    {
      "cell_type": "code",
      "execution_count": null,
      "metadata": {
        "_cell_guid": "4f891f71-34b5-4211-8121-618aac4f00bc",
        "_uuid": "91fd0aea-30b4-470c-b369-12b71f931132",
        "execution": {
          "iopub.execute_input": "2022-07-15T19:01:31.105622Z",
          "iopub.status.busy": "2022-07-15T19:01:31.105014Z",
          "iopub.status.idle": "2022-07-15T19:01:31.901968Z",
          "shell.execute_reply": "2022-07-15T19:01:31.900978Z",
          "shell.execute_reply.started": "2022-07-15T19:01:31.105588Z"
        },
        "jupyter": {
          "source_hidden": true
        },
        "colab": {
          "base_uri": "https://localhost:8080/",
          "height": 535
        },
        "id": "5_m_YHexkpn6",
        "outputId": "0e8b1b45-99d4-4af7-850b-f8d8f2430890"
      },
      "outputs": [
        {
          "output_type": "execute_result",
          "data": {
            "text/plain": [
              "<matplotlib.axes._subplots.AxesSubplot at 0x7f0e2c8630d0>"
            ]
          },
          "metadata": {},
          "execution_count": 155
        },
        {
          "output_type": "display_data",
          "data": {
            "text/plain": [
              "<Figure size 1080x576 with 2 Axes>"
            ],
            "image/png": "[encoded data removed]"
          },
          "metadata": {}
        }
      ],
      "source": [
        "# copiando os dados das faturas pertencentes ao Reino Unido\n",
        "df_coorte_UK = df_ecommerce[df_ecommerce['Pertence_UK']=='SIM'].copy()\n",
        "\n",
        "# calculando a retenção dos clientes com a função criando_coorte\n",
        "retencao_clientes_UK = criando_coorte(df_coorte_UK)\n",
        "\n",
        "#Aplicando o gráfico no dataframe gerado para visualizar a retenção\n",
        "sns.color_palette(\"rocket\", as_cmap=True)\n",
        "plt.figure(figsize=(15,8))\n",
        "plt.title('Análise de Coorte para avaliação de retenção de clientes que são do Reino Unido')\n",
        "sns.heatmap(retencao_clientes_UK.T,\n",
        "            mask=retencao_clientes_UK.T.isnull(),\n",
        "            annot=True,\n",
        "            fmt='.0%')"
      ]
    },
    {
      "cell_type": "code",
      "execution_count": null,
      "metadata": {
        "_cell_guid": "cdfd143f-3d48-4ab8-b053-df21c6be97ab",
        "_uuid": "3bc68be7-9293-4e16-8195-17e643c23832",
        "execution": {
          "iopub.execute_input": "2022-07-15T19:01:31.904536Z",
          "iopub.status.busy": "2022-07-15T19:01:31.903716Z",
          "iopub.status.idle": "2022-07-15T19:01:32.651853Z",
          "shell.execute_reply": "2022-07-15T19:01:32.650513Z",
          "shell.execute_reply.started": "2022-07-15T19:01:31.904499Z"
        },
        "jupyter": {
          "source_hidden": true
        },
        "colab": {
          "base_uri": "https://localhost:8080/",
          "height": 535
        },
        "id": "zs0ukeBikpn7",
        "outputId": "ea038b51-1270-451a-facb-8c9397d60fda"
      },
      "outputs": [
        {
          "output_type": "execute_result",
          "data": {
            "text/plain": [
              "<matplotlib.axes._subplots.AxesSubplot at 0x7f0e2a70f490>"
            ]
          },
          "metadata": {},
          "execution_count": 156
        },
        {
          "output_type": "display_data",
          "data": {
            "text/plain": [
              "<Figure size 1080x576 with 2 Axes>"
            ],
            "image/png": "[encoded data removed]"
          },
          "metadata": {}
        }
      ],
      "source": [
        "# copiando os dados das faturas que não pertencem ao Reino Unido\n",
        "df_coorte_nao_UK = df_ecommerce[df_ecommerce['Pertence_UK']=='NÃO'].copy()\n",
        "\n",
        "# calculando a retenção dos clientes com a função criando_coorte\n",
        "retencao_clientes_nao_UK = criando_coorte(df_coorte_nao_UK)\n",
        "\n",
        "#Aplicando o gráfico no dataframe gerado para visualizar a retenção\n",
        "sns.color_palette(\"rocket\", as_cmap=True)\n",
        "plt.figure(figsize=(15,8))\n",
        "plt.title('Análise de Coorte para avaliação de retenção de clientes que não são do Reino Unido')\n",
        "sns.heatmap(retencao_clientes_nao_UK.T,\n",
        "            mask=retencao_clientes_nao_UK.T.isnull(),\n",
        "            annot=True,\n",
        "            fmt='.0%')"
      ]
    },
    {
      "cell_type": "markdown",
      "metadata": {
        "_cell_guid": "7d45a0cf-be50-429c-9870-9f1b0dcad680",
        "_uuid": "44b14611-77e3-4953-8f2f-144c12d77c53",
        "id": "QImxdWxfkpn7"
      },
      "source": [
        "<a id='segmentacao'></a>\n",
        "# <font color=\"#ff009e\"> 5 - Segmentação de Clientes usando RFM </font>\n",
        "<hr color=\"#F5F5F5\" size=\"1\">\n",
        "\n",
        "A análise de RFM (Recência, Frequência e Valor Monetário) é baseada no **Princípio de Pareto** e é utilizado no  diz que 80% dos resultados vêm de 20% das causas. Da mesma forma, 20% dos clientes contribuem com 80% da sua receita total.\n",
        "\n",
        "O RFM pode ser representado assim:\n",
        "\n",
        "- **Recência:** quais são os clientes realizaram compras mais recentemente?;\n",
        "- **Frequência:** quais são os clientes que mais comparar mais?; e\n",
        "- **Valor monetário:** quais clientes realizaram as maiores compradas somadas ao total?\n",
        "\n",
        "Após categorizar e classificar cada cliente pelos resultados de encontrados é possível **determinar qual tipo de segmento que cada cliente** será definido, e após isso, **quais estratégia será aplicada para cada cliente**. \n",
        "\n",
        "A partir de agora iremos preparar e calcular o RFM dos clientes.\n",
        "\n",
        "\n",
        "<a id='preparando-segmentacao'></a>\n",
        "## <font color=\"#ff009e\"> 5.1 Preparar um novo conjunto de dados para gerar segmentação dos clientes </font>\n",
        "<hr color=\"#F5F5F5\" size=\"1\">\n",
        "\n",
        "\n",
        "<div class=\"alert alert-info\"> \n",
        "<strong><div style=\"color: rgb(0, 0, 0);\">✨  Como obter:</div></strong> <br>\n",
        "    <div style=\"color: rgb(0, 0, 0);\"> → <strong>Recência:</strong>  calculamos quantos dias foram desde a compra mais recente do cliente;</div>\n",
        "    <div style=\"color: rgb(0, 0, 0);\"> → <strong>Frequência:</strong> calculamos quantas compras o cliente já realizou; e</div>\n",
        "    <div style=\"color: rgb(0, 0, 0);\"> → <strong>Monetário:</strong> calculamos a soma de todas as compras realizadas pelo cliente.</div>\n",
        "</div>"
      ]
    },
    {
      "cell_type": "code",
      "execution_count": null,
      "metadata": {
        "_cell_guid": "9907f4a8-c47c-421b-a764-288a5ab166b4",
        "_uuid": "0d2ebac7-46e5-406c-8b1e-6b9a05a2e00b",
        "execution": {
          "iopub.execute_input": "2022-07-15T19:01:32.654207Z",
          "iopub.status.busy": "2022-07-15T19:01:32.653836Z",
          "iopub.status.idle": "2022-07-15T19:01:33.248191Z",
          "shell.execute_reply": "2022-07-15T19:01:33.246925Z",
          "shell.execute_reply.started": "2022-07-15T19:01:32.654174Z"
        },
        "jupyter": {
          "source_hidden": true
        },
        "colab": {
          "base_uri": "https://localhost:8080/",
          "height": 206
        },
        "id": "QDKL9X15kpn7",
        "outputId": "b15f4320-290c-4508-93cc-bad5021bdf11"
      },
      "outputs": [
        {
          "output_type": "execute_result",
          "data": {
            "text/plain": [
              "   Cliente            País Pertence_UK   Coorte  Data_ultima_compra  Recencia  \\\n",
              "0  17850.0  United Kingdom         SIM  2020-12 2020-12-02 15:27:00       371   \n",
              "1  13047.0  United Kingdom         SIM  2020-12 2021-11-08 12:06:00        31   \n",
              "2  12583.0          France         NÃO  2020-12 2021-12-07 08:07:00         2   \n",
              "3  13748.0  United Kingdom         SIM  2020-12 2021-09-05 09:45:00        95   \n",
              "4  15100.0  United Kingdom         SIM  2020-12 2021-01-10 10:35:00       333   \n",
              "\n",
              "   Frequencia  Monetario  \n",
              "0          34    5391.21  \n",
              "1          10    3237.54  \n",
              "2          15    7281.38  \n",
              "3           5     948.25  \n",
              "4           3     876.00  "
            ],
            "text/html": [
              "\n",
              "  <div id=\"df-848353d2-fea2-4ebc-8c59-342557adf6ea\">\n",
              "    <div class=\"colab-df-container\">\n",
              "      <div>\n",
              "<style scoped>\n",
              "    .dataframe tbody tr th:only-of-type {\n",
              "        vertical-align: middle;\n",
              "    }\n",
              "\n",
              "    .dataframe tbody tr th {\n",
              "        vertical-align: top;\n",
              "    }\n",
              "\n",
              "    .dataframe thead th {\n",
              "        text-align: right;\n",
              "    }\n",
              "</style>\n",
              "<table border=\"1\" class=\"dataframe\">\n",
              "  <thead>\n",
              "    <tr style=\"text-align: right;\">\n",
              "      <th></th>\n",
              "      <th>Cliente</th>\n",
              "      <th>País</th>\n",
              "      <th>Pertence_UK</th>\n",
              "      <th>Coorte</th>\n",
              "      <th>Data_ultima_compra</th>\n",
              "      <th>Recencia</th>\n",
              "      <th>Frequencia</th>\n",
              "      <th>Monetario</th>\n",
              "    </tr>\n",
              "  </thead>\n",
              "  <tbody>\n",
              "    <tr>\n",
              "      <th>0</th>\n",
              "      <td>17850.0</td>\n",
              "      <td>United Kingdom</td>\n",
              "      <td>SIM</td>\n",
              "      <td>2020-12</td>\n",
              "      <td>2020-12-02 15:27:00</td>\n",
              "      <td>371</td>\n",
              "      <td>34</td>\n",
              "      <td>5391.21</td>\n",
              "    </tr>\n",
              "    <tr>\n",
              "      <th>1</th>\n",
              "      <td>13047.0</td>\n",
              "      <td>United Kingdom</td>\n",
              "      <td>SIM</td>\n",
              "      <td>2020-12</td>\n",
              "      <td>2021-11-08 12:06:00</td>\n",
              "      <td>31</td>\n",
              "      <td>10</td>\n",
              "      <td>3237.54</td>\n",
              "    </tr>\n",
              "    <tr>\n",
              "      <th>2</th>\n",
              "      <td>12583.0</td>\n",
              "      <td>France</td>\n",
              "      <td>NÃO</td>\n",
              "      <td>2020-12</td>\n",
              "      <td>2021-12-07 08:07:00</td>\n",
              "      <td>2</td>\n",
              "      <td>15</td>\n",
              "      <td>7281.38</td>\n",
              "    </tr>\n",
              "    <tr>\n",
              "      <th>3</th>\n",
              "      <td>13748.0</td>\n",
              "      <td>United Kingdom</td>\n",
              "      <td>SIM</td>\n",
              "      <td>2020-12</td>\n",
              "      <td>2021-09-05 09:45:00</td>\n",
              "      <td>95</td>\n",
              "      <td>5</td>\n",
              "      <td>948.25</td>\n",
              "    </tr>\n",
              "    <tr>\n",
              "      <th>4</th>\n",
              "      <td>15100.0</td>\n",
              "      <td>United Kingdom</td>\n",
              "      <td>SIM</td>\n",
              "      <td>2020-12</td>\n",
              "      <td>2021-01-10 10:35:00</td>\n",
              "      <td>333</td>\n",
              "      <td>3</td>\n",
              "      <td>876.00</td>\n",
              "    </tr>\n",
              "  </tbody>\n",
              "</table>\n",
              "</div>\n",
              "      <button class=\"colab-df-convert\" onclick=\"convertToInteractive('df-848353d2-fea2-4ebc-8c59-342557adf6ea')\"\n",
              "              title=\"Convert this dataframe to an interactive table.\"\n",
              "              style=\"display:none;\">\n",
              "        \n",
              "  <svg xmlns=\"http://www.w3.org/2000/svg\" height=\"24px\"viewBox=\"0 0 24 24\"\n",
              "       width=\"24px\">\n",
              "    <path d=\"M0 0h24v24H0V0z\" fill=\"none\"/>\n",
              "    <path d=\"M18.56 5.44l.94 2.06.94-2.06 2.06-.94-2.06-.94-.94-2.06-.94 2.06-2.06.94zm-11 1L8.5 8.5l.94-2.06 2.06-.94-2.06-.94L8.5 2.5l-.94 2.06-2.06.94zm10 10l.94 2.06.94-2.06 2.06-.94-2.06-.94-.94-2.06-.94 2.06-2.06.94z\"/><path d=\"M17.41 7.96l-1.37-1.37c-.4-.4-.92-.59-1.43-.59-.52 0-1.04.2-1.43.59L10.3 9.45l-7.72 7.72c-.78.78-.78 2.05 0 2.83L4 21.41c.39.39.9.59 1.41.59.51 0 1.02-.2 1.41-.59l7.78-7.78 2.81-2.81c.8-.78.8-2.07 0-2.86zM5.41 20L4 18.59l7.72-7.72 1.47 1.35L5.41 20z\"/>\n",
              "  </svg>\n",
              "      </button>\n",
              "      \n",
              "  <style>\n",
              "    .colab-df-container {\n",
              "      display:flex;\n",
              "      flex-wrap:wrap;\n",
              "      gap: 12px;\n",
              "    }\n",
              "\n",
              "    .colab-df-convert {\n",
              "      background-color: #E8F0FE;\n",
              "      border: none;\n",
              "      border-radius: 50%;\n",
              "      cursor: pointer;\n",
              "      display: none;\n",
              "      fill: #1967D2;\n",
              "      height: 32px;\n",
              "      padding: 0 0 0 0;\n",
              "      width: 32px;\n",
              "    }\n",
              "\n",
              "    .colab-df-convert:hover {\n",
              "      background-color: #E2EBFA;\n",
              "      box-shadow: 0px 1px 2px rgba(60, 64, 67, 0.3), 0px 1px 3px 1px rgba(60, 64, 67, 0.15);\n",
              "      fill: #174EA6;\n",
              "    }\n",
              "\n",
              "    [theme=dark] .colab-df-convert {\n",
              "      background-color: #3B4455;\n",
              "      fill: #D2E3FC;\n",
              "    }\n",
              "\n",
              "    [theme=dark] .colab-df-convert:hover {\n",
              "      background-color: #434B5C;\n",
              "      box-shadow: 0px 1px 3px 1px rgba(0, 0, 0, 0.15);\n",
              "      filter: drop-shadow(0px 1px 2px rgba(0, 0, 0, 0.3));\n",
              "      fill: #FFFFFF;\n",
              "    }\n",
              "  </style>\n",
              "\n",
              "      <script>\n",
              "        const buttonEl =\n",
              "          document.querySelector('#df-848353d2-fea2-4ebc-8c59-342557adf6ea button.colab-df-convert');\n",
              "        buttonEl.style.display =\n",
              "          google.colab.kernel.accessAllowed ? 'block' : 'none';\n",
              "\n",
              "        async function convertToInteractive(key) {\n",
              "          const element = document.querySelector('#df-848353d2-fea2-4ebc-8c59-342557adf6ea');\n",
              "          const dataTable =\n",
              "            await google.colab.kernel.invokeFunction('convertToInteractive',\n",
              "                                                     [key], {});\n",
              "          if (!dataTable) return;\n",
              "\n",
              "          const docLinkHtml = 'Like what you see? Visit the ' +\n",
              "            '<a target=\"_blank\" href=https://colab.research.google.com/notebooks/data_table.ipynb>data table notebook</a>'\n",
              "            + ' to learn more about interactive tables.';\n",
              "          element.innerHTML = '';\n",
              "          dataTable['output_type'] = 'display_data';\n",
              "          await google.colab.output.renderOutput(dataTable, element);\n",
              "          const docLink = document.createElement('div');\n",
              "          docLink.innerHTML = docLinkHtml;\n",
              "          element.appendChild(docLink);\n",
              "        }\n",
              "      </script>\n",
              "    </div>\n",
              "  </div>\n",
              "  "
            ]
          },
          "metadata": {},
          "execution_count": 157
        }
      ],
      "source": [
        "# Calculando a recencia\n",
        "df_recencia = df_ecommerce.groupby(by='ID_Cliente',\n",
        "                                   as_index=False)['Data_da_fatura'].max()\n",
        "df_recencia.columns = ['Cliente', 'Data_ultima_compra']\n",
        "\n",
        "data_recencia = df_recencia['Data_ultima_compra'].max()\n",
        "df_recencia['Recencia'] = df_recencia['Data_ultima_compra'].apply(lambda x:\n",
        "                                                                  (data_recencia - x).days)\n",
        "\n",
        "# calculando a frequencia\n",
        "df_frequencia = df_ecommerce.drop_duplicates().groupby(\n",
        "                    by=['ID_Cliente'],as_index=False)['Data_da_fatura'].count()\n",
        "df_frequencia.columns = ['Cliente', 'Frequencia']\n",
        "\n",
        "# calculando o monetário\n",
        "df_monetario = df_ecommerce.groupby(by='ID_Cliente',\n",
        "                                    as_index=False)['Valor'].sum()\n",
        "df_monetario.columns = ['Cliente', 'Monetario']\n",
        "\n",
        "# criando dataframe com os dados calculados já unidos\n",
        "df_rfm = df_recencia.merge(df_frequencia, on='Cliente')\n",
        "df_rfm = df_rfm.merge(df_monetario, on='Cliente')\n",
        "\n",
        "df_ecommerce_segmentacao = df_ecommerce.copy()\n",
        "df_ecommerce_segmentacao.drop(columns=['N°_da_fatura',\n",
        "                                       'Data_da_fatura',\n",
        "                                       'Quantidade',\n",
        "                                       'Valor',\n",
        "                                       'Ano_mes'],\n",
        "                                inplace=True)\n",
        "\n",
        "# removendo duplicados\n",
        "df_ecommerce_segmentacao.drop_duplicates(inplace=True)\n",
        "df_ecommerce_segmentacao.rename(columns={'ID_Cliente':'Cliente'}, inplace=True)\n",
        "\n",
        "# unindo os DataFrames pelo ID do Cliente\n",
        "df_rfm = df_ecommerce_segmentacao.merge(df_rfm, on='Cliente')\n",
        "df_rfm.head()"
      ]
    },
    {
      "cell_type": "markdown",
      "metadata": {
        "_cell_guid": "a3b59ab3-9049-43fc-8ff9-75b9fd77240b",
        "_uuid": "d98c5871-de65-4872-abc0-3fd7f2826b5f",
        "id": "ZJTh1qXnkpn7"
      },
      "source": [
        "<a id='criar-quartis'></a>\n",
        "## <font color=\"#ff009e\"> 5.2 - Criando o quartil para realizar a classificação do cliente </font>\n",
        "<hr color=\"#F5F5F5\" size=\"1\">"
      ]
    },
    {
      "cell_type": "markdown",
      "metadata": {
        "_cell_guid": "46b9c9de-5716-4bbc-b0c7-0972ce659e03",
        "_uuid": "dd8b0fda-80bc-4acc-90bf-4acf9f83ff60",
        "id": "FWDbU9kLkpn7"
      },
      "source": [
        "Para gerar os quartis necessários iremos analisar como é a distribuição dos dados de Recência, Frequência e Valor Monetário."
      ]
    },
    {
      "cell_type": "code",
      "execution_count": null,
      "metadata": {
        "_cell_guid": "32f2fcad-fe50-44c2-a725-7893993d9d88",
        "_uuid": "a97239c7-6710-4d3c-a3a2-6945cf22a9b4",
        "execution": {
          "iopub.execute_input": "2022-07-15T19:01:33.250047Z",
          "iopub.status.busy": "2022-07-15T19:01:33.249705Z",
          "iopub.status.idle": "2022-07-15T19:01:33.268457Z",
          "shell.execute_reply": "2022-07-15T19:01:33.267075Z",
          "shell.execute_reply.started": "2022-07-15T19:01:33.250017Z"
        },
        "jupyter": {
          "source_hidden": true
        },
        "colab": {
          "base_uri": "https://localhost:8080/"
        },
        "id": "rM6B41C2kpn7",
        "outputId": "c459ea47-0d67-46ea-ad92-1b63e63a0d78"
      },
      "outputs": [
        {
          "output_type": "stream",
          "name": "stdout",
          "text": [
            "Recencia\n",
            "Média:  91.43961352657004\n",
            "Mediana:  50.0\n",
            "Moda:  0    3\n",
            "dtype: int64\n",
            "Frequência\n",
            "Média:  4.2824936737980215\n",
            "Mediana:  2.0\n",
            "Moda:  0    1\n",
            "dtype: int64\n",
            "Monetário\n",
            "Média:  2055.612300437083\n",
            "Mediana:  675.27\n",
            "Moda:  0    76.32\n",
            "dtype: float64\n"
          ]
        }
      ],
      "source": [
        "# gerando Média, Mediana e Moda da Recencia\n",
        "print('Recencia')\n",
        "print('Média: ' ,df_rfm['Recencia'].mean())\n",
        "print('Mediana: ' ,df_rfm['Recencia'].median())\n",
        "print('Moda: ', df_rfm['Recencia'].mode())\n",
        "\n",
        "# gerando Média, Mediana e Moda da Recencia\n",
        "print('Frequência')\n",
        "print('Média: ' ,df_rfm['Frequencia'].mean())\n",
        "print('Mediana: ' ,df_rfm['Frequencia'].median())\n",
        "print('Moda: ', df_rfm['Frequencia'].mode())\n",
        "\n",
        "# gerando Média, Mediana e Moda do Monetário\n",
        "print('Monetário')\n",
        "print('Média: ' ,df_rfm['Monetario'].mean())\n",
        "print('Mediana: ' ,df_rfm['Monetario'].median())\n",
        "print('Moda: ', df_rfm['Monetario'].mode())"
      ]
    },
    {
      "cell_type": "code",
      "execution_count": null,
      "metadata": {
        "_cell_guid": "4aa7830e-c1e6-40ad-9518-79d50791a314",
        "_uuid": "9a04dbfd-58d1-45df-8b58-9636e4cf6aa7",
        "execution": {
          "iopub.execute_input": "2022-07-15T19:01:33.270834Z",
          "iopub.status.busy": "2022-07-15T19:01:33.270341Z",
          "iopub.status.idle": "2022-07-15T19:01:34.031093Z",
          "shell.execute_reply": "2022-07-15T19:01:34.029966Z",
          "shell.execute_reply.started": "2022-07-15T19:01:33.270787Z"
        },
        "jupyter": {
          "source_hidden": true
        },
        "colab": {
          "base_uri": "https://localhost:8080/",
          "height": 612
        },
        "id": "cflD6xPVkpn7",
        "outputId": "13a98c9f-2e0a-4664-c8a5-dcf919e5abf7"
      },
      "outputs": [
        {
          "output_type": "display_data",
          "data": {
            "text/plain": [
              "<Figure size 864x720 with 3 Axes>"
            ],
            "image/png": "[encoded data removed]"
          },
          "metadata": {}
        }
      ],
      "source": [
        "# Plot das distribuições de RFM\n",
        "plt.figure(figsize=(12,10))\n",
        "\n",
        "# Distribuição da Recência\n",
        "plt.subplot(3, 1, 1); sns.distplot(df_rfm['Recencia'])\n",
        "\n",
        "# Distribuição da Frequência\n",
        "plt.subplot(3, 1, 2); sns.distplot(df_rfm['Frequencia'])\n",
        "\n",
        "# Distribuição do Monetário\n",
        "plt.subplot(3, 1, 3); sns.distplot(df_rfm['Monetario'])\n",
        "\n",
        "plt.show()"
      ]
    },
    {
      "cell_type": "markdown",
      "metadata": {
        "_cell_guid": "cebb541f-ba66-4b1e-9549-d47507400e1e",
        "_uuid": "ef4179d5-b999-4c4a-9f3d-3b6eec56b3d7",
        "id": "gXA7Fs4okpn8"
      },
      "source": [
        "Podemos perceber que eles podem ser classificados como uma distribuição normal assimétrica a direita."
      ]
    },
    {
      "cell_type": "code",
      "execution_count": null,
      "metadata": {
        "_cell_guid": "8a5bfbad-e008-412f-bd6a-cddeb9f6c328",
        "_uuid": "91f721e5-da09-451e-b7b0-c321cee60add",
        "execution": {
          "iopub.execute_input": "2022-07-15T19:01:34.033748Z",
          "iopub.status.busy": "2022-07-15T19:01:34.032695Z",
          "iopub.status.idle": "2022-07-15T19:01:34.060654Z",
          "shell.execute_reply": "2022-07-15T19:01:34.059314Z",
          "shell.execute_reply.started": "2022-07-15T19:01:34.033703Z"
        },
        "jupyter": {
          "source_hidden": true
        },
        "colab": {
          "base_uri": "https://localhost:8080/",
          "height": 300
        },
        "id": "-bsbVHobkpn8",
        "outputId": "0b3f564f-c5ce-4385-e99f-7f9630197c99"
      },
      "outputs": [
        {
          "output_type": "execute_result",
          "data": {
            "text/plain": [
              "            Cliente     Recencia   Frequencia      Monetario\n",
              "count   4347.000000  4347.000000  4347.000000    4347.000000\n",
              "mean   15294.640212    91.439614     4.282494    2055.612300\n",
              "std     1724.722441    99.942744     7.722808    8980.352817\n",
              "min    12346.000000     0.000000     1.000000       0.000000\n",
              "25%    13806.500000    17.000000     1.000000     307.470000\n",
              "50%    15292.000000    50.000000     2.000000     675.270000\n",
              "75%    16776.500000   141.000000     5.000000    1671.330000\n",
              "max    18287.000000   373.000000   211.000000  280206.020000"
            ],
            "text/html": [
              "\n",
              "  <div id=\"df-55f09bee-05aa-4c0b-8116-3c0b7d745a31\">\n",
              "    <div class=\"colab-df-container\">\n",
              "      <div>\n",
              "<style scoped>\n",
              "    .dataframe tbody tr th:only-of-type {\n",
              "        vertical-align: middle;\n",
              "    }\n",
              "\n",
              "    .dataframe tbody tr th {\n",
              "        vertical-align: top;\n",
              "    }\n",
              "\n",
              "    .dataframe thead th {\n",
              "        text-align: right;\n",
              "    }\n",
              "</style>\n",
              "<table border=\"1\" class=\"dataframe\">\n",
              "  <thead>\n",
              "    <tr style=\"text-align: right;\">\n",
              "      <th></th>\n",
              "      <th>Cliente</th>\n",
              "      <th>Recencia</th>\n",
              "      <th>Frequencia</th>\n",
              "      <th>Monetario</th>\n",
              "    </tr>\n",
              "  </thead>\n",
              "  <tbody>\n",
              "    <tr>\n",
              "      <th>count</th>\n",
              "      <td>4347.000000</td>\n",
              "      <td>4347.000000</td>\n",
              "      <td>4347.000000</td>\n",
              "      <td>4347.000000</td>\n",
              "    </tr>\n",
              "    <tr>\n",
              "      <th>mean</th>\n",
              "      <td>15294.640212</td>\n",
              "      <td>91.439614</td>\n",
              "      <td>4.282494</td>\n",
              "      <td>2055.612300</td>\n",
              "    </tr>\n",
              "    <tr>\n",
              "      <th>std</th>\n",
              "      <td>1724.722441</td>\n",
              "      <td>99.942744</td>\n",
              "      <td>7.722808</td>\n",
              "      <td>8980.352817</td>\n",
              "    </tr>\n",
              "    <tr>\n",
              "      <th>min</th>\n",
              "      <td>12346.000000</td>\n",
              "      <td>0.000000</td>\n",
              "      <td>1.000000</td>\n",
              "      <td>0.000000</td>\n",
              "    </tr>\n",
              "    <tr>\n",
              "      <th>25%</th>\n",
              "      <td>13806.500000</td>\n",
              "      <td>17.000000</td>\n",
              "      <td>1.000000</td>\n",
              "      <td>307.470000</td>\n",
              "    </tr>\n",
              "    <tr>\n",
              "      <th>50%</th>\n",
              "      <td>15292.000000</td>\n",
              "      <td>50.000000</td>\n",
              "      <td>2.000000</td>\n",
              "      <td>675.270000</td>\n",
              "    </tr>\n",
              "    <tr>\n",
              "      <th>75%</th>\n",
              "      <td>16776.500000</td>\n",
              "      <td>141.000000</td>\n",
              "      <td>5.000000</td>\n",
              "      <td>1671.330000</td>\n",
              "    </tr>\n",
              "    <tr>\n",
              "      <th>max</th>\n",
              "      <td>18287.000000</td>\n",
              "      <td>373.000000</td>\n",
              "      <td>211.000000</td>\n",
              "      <td>280206.020000</td>\n",
              "    </tr>\n",
              "  </tbody>\n",
              "</table>\n",
              "</div>\n",
              "      <button class=\"colab-df-convert\" onclick=\"convertToInteractive('df-55f09bee-05aa-4c0b-8116-3c0b7d745a31')\"\n",
              "              title=\"Convert this dataframe to an interactive table.\"\n",
              "              style=\"display:none;\">\n",
              "        \n",
              "  <svg xmlns=\"http://www.w3.org/2000/svg\" height=\"24px\"viewBox=\"0 0 24 24\"\n",
              "       width=\"24px\">\n",
              "    <path d=\"M0 0h24v24H0V0z\" fill=\"none\"/>\n",
              "    <path d=\"M18.56 5.44l.94 2.06.94-2.06 2.06-.94-2.06-.94-.94-2.06-.94 2.06-2.06.94zm-11 1L8.5 8.5l.94-2.06 2.06-.94-2.06-.94L8.5 2.5l-.94 2.06-2.06.94zm10 10l.94 2.06.94-2.06 2.06-.94-2.06-.94-.94-2.06-.94 2.06-2.06.94z\"/><path d=\"M17.41 7.96l-1.37-1.37c-.4-.4-.92-.59-1.43-.59-.52 0-1.04.2-1.43.59L10.3 9.45l-7.72 7.72c-.78.78-.78 2.05 0 2.83L4 21.41c.39.39.9.59 1.41.59.51 0 1.02-.2 1.41-.59l7.78-7.78 2.81-2.81c.8-.78.8-2.07 0-2.86zM5.41 20L4 18.59l7.72-7.72 1.47 1.35L5.41 20z\"/>\n",
              "  </svg>\n",
              "      </button>\n",
              "      \n",
              "  <style>\n",
              "    .colab-df-container {\n",
              "      display:flex;\n",
              "      flex-wrap:wrap;\n",
              "      gap: 12px;\n",
              "    }\n",
              "\n",
              "    .colab-df-convert {\n",
              "      background-color: #E8F0FE;\n",
              "      border: none;\n",
              "      border-radius: 50%;\n",
              "      cursor: pointer;\n",
              "      display: none;\n",
              "      fill: #1967D2;\n",
              "      height: 32px;\n",
              "      padding: 0 0 0 0;\n",
              "      width: 32px;\n",
              "    }\n",
              "\n",
              "    .colab-df-convert:hover {\n",
              "      background-color: #E2EBFA;\n",
              "      box-shadow: 0px 1px 2px rgba(60, 64, 67, 0.3), 0px 1px 3px 1px rgba(60, 64, 67, 0.15);\n",
              "      fill: #174EA6;\n",
              "    }\n",
              "\n",
              "    [theme=dark] .colab-df-convert {\n",
              "      background-color: #3B4455;\n",
              "      fill: #D2E3FC;\n",
              "    }\n",
              "\n",
              "    [theme=dark] .colab-df-convert:hover {\n",
              "      background-color: #434B5C;\n",
              "      box-shadow: 0px 1px 3px 1px rgba(0, 0, 0, 0.15);\n",
              "      filter: drop-shadow(0px 1px 2px rgba(0, 0, 0, 0.3));\n",
              "      fill: #FFFFFF;\n",
              "    }\n",
              "  </style>\n",
              "\n",
              "      <script>\n",
              "        const buttonEl =\n",
              "          document.querySelector('#df-55f09bee-05aa-4c0b-8116-3c0b7d745a31 button.colab-df-convert');\n",
              "        buttonEl.style.display =\n",
              "          google.colab.kernel.accessAllowed ? 'block' : 'none';\n",
              "\n",
              "        async function convertToInteractive(key) {\n",
              "          const element = document.querySelector('#df-55f09bee-05aa-4c0b-8116-3c0b7d745a31');\n",
              "          const dataTable =\n",
              "            await google.colab.kernel.invokeFunction('convertToInteractive',\n",
              "                                                     [key], {});\n",
              "          if (!dataTable) return;\n",
              "\n",
              "          const docLinkHtml = 'Like what you see? Visit the ' +\n",
              "            '<a target=\"_blank\" href=https://colab.research.google.com/notebooks/data_table.ipynb>data table notebook</a>'\n",
              "            + ' to learn more about interactive tables.';\n",
              "          element.innerHTML = '';\n",
              "          dataTable['output_type'] = 'display_data';\n",
              "          await google.colab.output.renderOutput(dataTable, element);\n",
              "          const docLink = document.createElement('div');\n",
              "          docLink.innerHTML = docLinkHtml;\n",
              "          element.appendChild(docLink);\n",
              "        }\n",
              "      </script>\n",
              "    </div>\n",
              "  </div>\n",
              "  "
            ]
          },
          "metadata": {},
          "execution_count": 160
        }
      ],
      "source": [
        "df_rfm.describe()"
      ]
    },
    {
      "cell_type": "markdown",
      "metadata": {
        "_cell_guid": "5b34c9b6-2102-44c5-b5bd-f90a3d9a9f36",
        "_uuid": "9cfc8ca4-8cc5-4cf6-8605-31c8c3a33ee6",
        "id": "npUJfDuekpn8"
      },
      "source": [
        "<div class=\"alert alert-warning\"> \n",
        "<strong><div style=\"color: rgb(0, 0, 0);\">💭  Importante:</div></strong> <br>\n",
        "    <div style=\"color: rgb(0, 0, 0);\"> → Para facilitar a nossa criação dos quartis necessários para realizarmos a segmentação, iremos identificar as faturas que tiveram valor total igual a £0,00 e classificar que elas tiveram Frequência igual a 0 também. </div>\n",
        "</div>"
      ]
    },
    {
      "cell_type": "code",
      "execution_count": null,
      "metadata": {
        "_cell_guid": "5197c4eb-d5f4-45b4-b34c-6a8447a667f2",
        "_uuid": "947db4be-7855-4aea-a52d-dceba27a1c91",
        "execution": {
          "iopub.execute_input": "2022-07-15T19:01:34.064233Z",
          "iopub.status.busy": "2022-07-15T19:01:34.062449Z",
          "iopub.status.idle": "2022-07-15T19:01:34.115577Z",
          "shell.execute_reply": "2022-07-15T19:01:34.113897Z",
          "shell.execute_reply.started": "2022-07-15T19:01:34.064182Z"
        },
        "jupyter": {
          "source_hidden": true
        },
        "colab": {
          "base_uri": "https://localhost:8080/"
        },
        "id": "mgaEUoB4kpn8",
        "outputId": "a1487ce8-2c41-4c88-ba36-f156525c4dec"
      },
      "outputs": [
        {
          "output_type": "stream",
          "name": "stderr",
          "text": [
            "/usr/local/lib/python3.7/dist-packages/ipykernel_launcher.py:4: SettingWithCopyWarning:\n",
            "\n",
            "\n",
            "A value is trying to be set on a copy of a slice from a DataFrame\n",
            "\n",
            "See the caveats in the documentation: https://pandas.pydata.org/pandas-docs/stable/user_guide/indexing.html#returning-a-view-versus-a-copy\n",
            "\n"
          ]
        }
      ],
      "source": [
        "# deixando frequencia igual 0 quando monetário for igual a 0.\n",
        "for i in df_rfm.index:\n",
        "    if df_rfm['Monetario'][i] == 0:\n",
        "        df_rfm['Frequencia'][i] = 0"
      ]
    },
    {
      "cell_type": "code",
      "execution_count": null,
      "metadata": {
        "_cell_guid": "4b5fb5dd-3bf2-4eb2-a2cc-4202c0343b1a",
        "_uuid": "dc74a4b6-00dd-4ff6-9d1a-0d10cd69c29b",
        "execution": {
          "iopub.execute_input": "2022-07-15T19:01:34.118471Z",
          "iopub.status.busy": "2022-07-15T19:01:34.117850Z",
          "iopub.status.idle": "2022-07-15T19:01:34.149122Z",
          "shell.execute_reply": "2022-07-15T19:01:34.147960Z",
          "shell.execute_reply.started": "2022-07-15T19:01:34.118414Z"
        },
        "jupyter": {
          "source_hidden": true
        },
        "colab": {
          "base_uri": "https://localhost:8080/",
          "height": 300
        },
        "id": "wjHP9I29kpn8",
        "outputId": "da9ba1e9-8c78-4438-a11b-744cc3b21759"
      },
      "outputs": [
        {
          "output_type": "execute_result",
          "data": {
            "text/plain": [
              "            Cliente     Recencia   Frequencia      Monetario\n",
              "count   4347.000000  4347.000000  4347.000000    4347.000000\n",
              "mean   15294.640212    91.439614     4.282264    2055.612300\n",
              "std     1724.722441    99.942744     7.722921    8980.352817\n",
              "min    12346.000000     0.000000     0.000000       0.000000\n",
              "25%    13806.500000    17.000000     1.000000     307.470000\n",
              "50%    15292.000000    50.000000     2.000000     675.270000\n",
              "75%    16776.500000   141.000000     5.000000    1671.330000\n",
              "max    18287.000000   373.000000   211.000000  280206.020000"
            ],
            "text/html": [
              "\n",
              "  <div id=\"df-efc88ed2-8e46-4edc-a40b-820a4e462820\">\n",
              "    <div class=\"colab-df-container\">\n",
              "      <div>\n",
              "<style scoped>\n",
              "    .dataframe tbody tr th:only-of-type {\n",
              "        vertical-align: middle;\n",
              "    }\n",
              "\n",
              "    .dataframe tbody tr th {\n",
              "        vertical-align: top;\n",
              "    }\n",
              "\n",
              "    .dataframe thead th {\n",
              "        text-align: right;\n",
              "    }\n",
              "</style>\n",
              "<table border=\"1\" class=\"dataframe\">\n",
              "  <thead>\n",
              "    <tr style=\"text-align: right;\">\n",
              "      <th></th>\n",
              "      <th>Cliente</th>\n",
              "      <th>Recencia</th>\n",
              "      <th>Frequencia</th>\n",
              "      <th>Monetario</th>\n",
              "    </tr>\n",
              "  </thead>\n",
              "  <tbody>\n",
              "    <tr>\n",
              "      <th>count</th>\n",
              "      <td>4347.000000</td>\n",
              "      <td>4347.000000</td>\n",
              "      <td>4347.000000</td>\n",
              "      <td>4347.000000</td>\n",
              "    </tr>\n",
              "    <tr>\n",
              "      <th>mean</th>\n",
              "      <td>15294.640212</td>\n",
              "      <td>91.439614</td>\n",
              "      <td>4.282264</td>\n",
              "      <td>2055.612300</td>\n",
              "    </tr>\n",
              "    <tr>\n",
              "      <th>std</th>\n",
              "      <td>1724.722441</td>\n",
              "      <td>99.942744</td>\n",
              "      <td>7.722921</td>\n",
              "      <td>8980.352817</td>\n",
              "    </tr>\n",
              "    <tr>\n",
              "      <th>min</th>\n",
              "      <td>12346.000000</td>\n",
              "      <td>0.000000</td>\n",
              "      <td>0.000000</td>\n",
              "      <td>0.000000</td>\n",
              "    </tr>\n",
              "    <tr>\n",
              "      <th>25%</th>\n",
              "      <td>13806.500000</td>\n",
              "      <td>17.000000</td>\n",
              "      <td>1.000000</td>\n",
              "      <td>307.470000</td>\n",
              "    </tr>\n",
              "    <tr>\n",
              "      <th>50%</th>\n",
              "      <td>15292.000000</td>\n",
              "      <td>50.000000</td>\n",
              "      <td>2.000000</td>\n",
              "      <td>675.270000</td>\n",
              "    </tr>\n",
              "    <tr>\n",
              "      <th>75%</th>\n",
              "      <td>16776.500000</td>\n",
              "      <td>141.000000</td>\n",
              "      <td>5.000000</td>\n",
              "      <td>1671.330000</td>\n",
              "    </tr>\n",
              "    <tr>\n",
              "      <th>max</th>\n",
              "      <td>18287.000000</td>\n",
              "      <td>373.000000</td>\n",
              "      <td>211.000000</td>\n",
              "      <td>280206.020000</td>\n",
              "    </tr>\n",
              "  </tbody>\n",
              "</table>\n",
              "</div>\n",
              "      <button class=\"colab-df-convert\" onclick=\"convertToInteractive('df-efc88ed2-8e46-4edc-a40b-820a4e462820')\"\n",
              "              title=\"Convert this dataframe to an interactive table.\"\n",
              "              style=\"display:none;\">\n",
              "        \n",
              "  <svg xmlns=\"http://www.w3.org/2000/svg\" height=\"24px\"viewBox=\"0 0 24 24\"\n",
              "       width=\"24px\">\n",
              "    <path d=\"M0 0h24v24H0V0z\" fill=\"none\"/>\n",
              "    <path d=\"M18.56 5.44l.94 2.06.94-2.06 2.06-.94-2.06-.94-.94-2.06-.94 2.06-2.06.94zm-11 1L8.5 8.5l.94-2.06 2.06-.94-2.06-.94L8.5 2.5l-.94 2.06-2.06.94zm10 10l.94 2.06.94-2.06 2.06-.94-2.06-.94-.94-2.06-.94 2.06-2.06.94z\"/><path d=\"M17.41 7.96l-1.37-1.37c-.4-.4-.92-.59-1.43-.59-.52 0-1.04.2-1.43.59L10.3 9.45l-7.72 7.72c-.78.78-.78 2.05 0 2.83L4 21.41c.39.39.9.59 1.41.59.51 0 1.02-.2 1.41-.59l7.78-7.78 2.81-2.81c.8-.78.8-2.07 0-2.86zM5.41 20L4 18.59l7.72-7.72 1.47 1.35L5.41 20z\"/>\n",
              "  </svg>\n",
              "      </button>\n",
              "      \n",
              "  <style>\n",
              "    .colab-df-container {\n",
              "      display:flex;\n",
              "      flex-wrap:wrap;\n",
              "      gap: 12px;\n",
              "    }\n",
              "\n",
              "    .colab-df-convert {\n",
              "      background-color: #E8F0FE;\n",
              "      border: none;\n",
              "      border-radius: 50%;\n",
              "      cursor: pointer;\n",
              "      display: none;\n",
              "      fill: #1967D2;\n",
              "      height: 32px;\n",
              "      padding: 0 0 0 0;\n",
              "      width: 32px;\n",
              "    }\n",
              "\n",
              "    .colab-df-convert:hover {\n",
              "      background-color: #E2EBFA;\n",
              "      box-shadow: 0px 1px 2px rgba(60, 64, 67, 0.3), 0px 1px 3px 1px rgba(60, 64, 67, 0.15);\n",
              "      fill: #174EA6;\n",
              "    }\n",
              "\n",
              "    [theme=dark] .colab-df-convert {\n",
              "      background-color: #3B4455;\n",
              "      fill: #D2E3FC;\n",
              "    }\n",
              "\n",
              "    [theme=dark] .colab-df-convert:hover {\n",
              "      background-color: #434B5C;\n",
              "      box-shadow: 0px 1px 3px 1px rgba(0, 0, 0, 0.15);\n",
              "      filter: drop-shadow(0px 1px 2px rgba(0, 0, 0, 0.3));\n",
              "      fill: #FFFFFF;\n",
              "    }\n",
              "  </style>\n",
              "\n",
              "      <script>\n",
              "        const buttonEl =\n",
              "          document.querySelector('#df-efc88ed2-8e46-4edc-a40b-820a4e462820 button.colab-df-convert');\n",
              "        buttonEl.style.display =\n",
              "          google.colab.kernel.accessAllowed ? 'block' : 'none';\n",
              "\n",
              "        async function convertToInteractive(key) {\n",
              "          const element = document.querySelector('#df-efc88ed2-8e46-4edc-a40b-820a4e462820');\n",
              "          const dataTable =\n",
              "            await google.colab.kernel.invokeFunction('convertToInteractive',\n",
              "                                                     [key], {});\n",
              "          if (!dataTable) return;\n",
              "\n",
              "          const docLinkHtml = 'Like what you see? Visit the ' +\n",
              "            '<a target=\"_blank\" href=https://colab.research.google.com/notebooks/data_table.ipynb>data table notebook</a>'\n",
              "            + ' to learn more about interactive tables.';\n",
              "          element.innerHTML = '';\n",
              "          dataTable['output_type'] = 'display_data';\n",
              "          await google.colab.output.renderOutput(dataTable, element);\n",
              "          const docLink = document.createElement('div');\n",
              "          docLink.innerHTML = docLinkHtml;\n",
              "          element.appendChild(docLink);\n",
              "        }\n",
              "      </script>\n",
              "    </div>\n",
              "  </div>\n",
              "  "
            ]
          },
          "metadata": {},
          "execution_count": 162
        }
      ],
      "source": [
        "df_rfm.describe()"
      ]
    },
    {
      "cell_type": "markdown",
      "metadata": {
        "_cell_guid": "b02bedec-ee24-4c3c-bb5e-19a19648db51",
        "_uuid": "7a1f443c-f0bd-4384-b930-6d2c3030d74f",
        "id": "LNu3SrMIkpn8"
      },
      "source": [
        "Assim, agora temos os quartis definidos:\n",
        "\n",
        "| Categoria | Recência | Frequência | Monetário |\n",
        "| --- | --- | --- | --- |\n",
        "| **Min** | 0 | 0 | £0,00 |\n",
        "| **25%** | 17 | 1 | £307,47 |\n",
        "| **50%** | 50 | 2 | £675,27 |\n",
        "| **75%** | 141 | 5 | £1671,33 |\n",
        "| **Máx** | 373 | 211 | £280.206,02 |\n",
        "\n",
        "Com eles definidos, agora iremos criá-los no dataset."
      ]
    },
    {
      "cell_type": "code",
      "execution_count": null,
      "metadata": {
        "_cell_guid": "f8e80fb9-9ea8-44d2-b4b4-875cb3807c3b",
        "_uuid": "5de0eee7-cff5-44eb-95d0-1a4ac6048f6d",
        "execution": {
          "iopub.execute_input": "2022-07-15T19:01:34.151269Z",
          "iopub.status.busy": "2022-07-15T19:01:34.150802Z",
          "iopub.status.idle": "2022-07-15T19:01:34.190723Z",
          "shell.execute_reply": "2022-07-15T19:01:34.189217Z",
          "shell.execute_reply.started": "2022-07-15T19:01:34.151235Z"
        },
        "jupyter": {
          "source_hidden": true
        },
        "colab": {
          "base_uri": "https://localhost:8080/",
          "height": 206
        },
        "id": "i3rGx3dRkpn8",
        "outputId": "7df57b37-422d-4c70-b777-4dd63156d612"
      },
      "outputs": [
        {
          "output_type": "execute_result",
          "data": {
            "text/plain": [
              "   Cliente            País Pertence_UK   Coorte  Data_ultima_compra  Recencia  \\\n",
              "0  17850.0  United Kingdom         SIM  2020-12 2020-12-02 15:27:00       371   \n",
              "1  13047.0  United Kingdom         SIM  2020-12 2021-11-08 12:06:00        31   \n",
              "2  12583.0          France         NÃO  2020-12 2021-12-07 08:07:00         2   \n",
              "3  13748.0  United Kingdom         SIM  2020-12 2021-09-05 09:45:00        95   \n",
              "4  15100.0  United Kingdom         SIM  2020-12 2021-01-10 10:35:00       333   \n",
              "\n",
              "   Frequencia  Monetario r_quartil f_quartil m_quartil  RFM  \n",
              "0          34    5391.21         4         4         4  444  \n",
              "1          10    3237.54         2         4         4  244  \n",
              "2          15    7281.38         1         4         4  144  \n",
              "3           5     948.25         3         3         3  333  \n",
              "4           3     876.00         4         3         3  433  "
            ],
            "text/html": [
              "\n",
              "  <div id=\"df-88fbd5e7-82c3-48fe-89b6-e1cea4d7a5f5\">\n",
              "    <div class=\"colab-df-container\">\n",
              "      <div>\n",
              "<style scoped>\n",
              "    .dataframe tbody tr th:only-of-type {\n",
              "        vertical-align: middle;\n",
              "    }\n",
              "\n",
              "    .dataframe tbody tr th {\n",
              "        vertical-align: top;\n",
              "    }\n",
              "\n",
              "    .dataframe thead th {\n",
              "        text-align: right;\n",
              "    }\n",
              "</style>\n",
              "<table border=\"1\" class=\"dataframe\">\n",
              "  <thead>\n",
              "    <tr style=\"text-align: right;\">\n",
              "      <th></th>\n",
              "      <th>Cliente</th>\n",
              "      <th>País</th>\n",
              "      <th>Pertence_UK</th>\n",
              "      <th>Coorte</th>\n",
              "      <th>Data_ultima_compra</th>\n",
              "      <th>Recencia</th>\n",
              "      <th>Frequencia</th>\n",
              "      <th>Monetario</th>\n",
              "      <th>r_quartil</th>\n",
              "      <th>f_quartil</th>\n",
              "      <th>m_quartil</th>\n",
              "      <th>RFM</th>\n",
              "    </tr>\n",
              "  </thead>\n",
              "  <tbody>\n",
              "    <tr>\n",
              "      <th>0</th>\n",
              "      <td>17850.0</td>\n",
              "      <td>United Kingdom</td>\n",
              "      <td>SIM</td>\n",
              "      <td>2020-12</td>\n",
              "      <td>2020-12-02 15:27:00</td>\n",
              "      <td>371</td>\n",
              "      <td>34</td>\n",
              "      <td>5391.21</td>\n",
              "      <td>4</td>\n",
              "      <td>4</td>\n",
              "      <td>4</td>\n",
              "      <td>444</td>\n",
              "    </tr>\n",
              "    <tr>\n",
              "      <th>1</th>\n",
              "      <td>13047.0</td>\n",
              "      <td>United Kingdom</td>\n",
              "      <td>SIM</td>\n",
              "      <td>2020-12</td>\n",
              "      <td>2021-11-08 12:06:00</td>\n",
              "      <td>31</td>\n",
              "      <td>10</td>\n",
              "      <td>3237.54</td>\n",
              "      <td>2</td>\n",
              "      <td>4</td>\n",
              "      <td>4</td>\n",
              "      <td>244</td>\n",
              "    </tr>\n",
              "    <tr>\n",
              "      <th>2</th>\n",
              "      <td>12583.0</td>\n",
              "      <td>France</td>\n",
              "      <td>NÃO</td>\n",
              "      <td>2020-12</td>\n",
              "      <td>2021-12-07 08:07:00</td>\n",
              "      <td>2</td>\n",
              "      <td>15</td>\n",
              "      <td>7281.38</td>\n",
              "      <td>1</td>\n",
              "      <td>4</td>\n",
              "      <td>4</td>\n",
              "      <td>144</td>\n",
              "    </tr>\n",
              "    <tr>\n",
              "      <th>3</th>\n",
              "      <td>13748.0</td>\n",
              "      <td>United Kingdom</td>\n",
              "      <td>SIM</td>\n",
              "      <td>2020-12</td>\n",
              "      <td>2021-09-05 09:45:00</td>\n",
              "      <td>95</td>\n",
              "      <td>5</td>\n",
              "      <td>948.25</td>\n",
              "      <td>3</td>\n",
              "      <td>3</td>\n",
              "      <td>3</td>\n",
              "      <td>333</td>\n",
              "    </tr>\n",
              "    <tr>\n",
              "      <th>4</th>\n",
              "      <td>15100.0</td>\n",
              "      <td>United Kingdom</td>\n",
              "      <td>SIM</td>\n",
              "      <td>2020-12</td>\n",
              "      <td>2021-01-10 10:35:00</td>\n",
              "      <td>333</td>\n",
              "      <td>3</td>\n",
              "      <td>876.00</td>\n",
              "      <td>4</td>\n",
              "      <td>3</td>\n",
              "      <td>3</td>\n",
              "      <td>433</td>\n",
              "    </tr>\n",
              "  </tbody>\n",
              "</table>\n",
              "</div>\n",
              "      <button class=\"colab-df-convert\" onclick=\"convertToInteractive('df-88fbd5e7-82c3-48fe-89b6-e1cea4d7a5f5')\"\n",
              "              title=\"Convert this dataframe to an interactive table.\"\n",
              "              style=\"display:none;\">\n",
              "        \n",
              "  <svg xmlns=\"http://www.w3.org/2000/svg\" height=\"24px\"viewBox=\"0 0 24 24\"\n",
              "       width=\"24px\">\n",
              "    <path d=\"M0 0h24v24H0V0z\" fill=\"none\"/>\n",
              "    <path d=\"M18.56 5.44l.94 2.06.94-2.06 2.06-.94-2.06-.94-.94-2.06-.94 2.06-2.06.94zm-11 1L8.5 8.5l.94-2.06 2.06-.94-2.06-.94L8.5 2.5l-.94 2.06-2.06.94zm10 10l.94 2.06.94-2.06 2.06-.94-2.06-.94-.94-2.06-.94 2.06-2.06.94z\"/><path d=\"M17.41 7.96l-1.37-1.37c-.4-.4-.92-.59-1.43-.59-.52 0-1.04.2-1.43.59L10.3 9.45l-7.72 7.72c-.78.78-.78 2.05 0 2.83L4 21.41c.39.39.9.59 1.41.59.51 0 1.02-.2 1.41-.59l7.78-7.78 2.81-2.81c.8-.78.8-2.07 0-2.86zM5.41 20L4 18.59l7.72-7.72 1.47 1.35L5.41 20z\"/>\n",
              "  </svg>\n",
              "      </button>\n",
              "      \n",
              "  <style>\n",
              "    .colab-df-container {\n",
              "      display:flex;\n",
              "      flex-wrap:wrap;\n",
              "      gap: 12px;\n",
              "    }\n",
              "\n",
              "    .colab-df-convert {\n",
              "      background-color: #E8F0FE;\n",
              "      border: none;\n",
              "      border-radius: 50%;\n",
              "      cursor: pointer;\n",
              "      display: none;\n",
              "      fill: #1967D2;\n",
              "      height: 32px;\n",
              "      padding: 0 0 0 0;\n",
              "      width: 32px;\n",
              "    }\n",
              "\n",
              "    .colab-df-convert:hover {\n",
              "      background-color: #E2EBFA;\n",
              "      box-shadow: 0px 1px 2px rgba(60, 64, 67, 0.3), 0px 1px 3px 1px rgba(60, 64, 67, 0.15);\n",
              "      fill: #174EA6;\n",
              "    }\n",
              "\n",
              "    [theme=dark] .colab-df-convert {\n",
              "      background-color: #3B4455;\n",
              "      fill: #D2E3FC;\n",
              "    }\n",
              "\n",
              "    [theme=dark] .colab-df-convert:hover {\n",
              "      background-color: #434B5C;\n",
              "      box-shadow: 0px 1px 3px 1px rgba(0, 0, 0, 0.15);\n",
              "      filter: drop-shadow(0px 1px 2px rgba(0, 0, 0, 0.3));\n",
              "      fill: #FFFFFF;\n",
              "    }\n",
              "  </style>\n",
              "\n",
              "      <script>\n",
              "        const buttonEl =\n",
              "          document.querySelector('#df-88fbd5e7-82c3-48fe-89b6-e1cea4d7a5f5 button.colab-df-convert');\n",
              "        buttonEl.style.display =\n",
              "          google.colab.kernel.accessAllowed ? 'block' : 'none';\n",
              "\n",
              "        async function convertToInteractive(key) {\n",
              "          const element = document.querySelector('#df-88fbd5e7-82c3-48fe-89b6-e1cea4d7a5f5');\n",
              "          const dataTable =\n",
              "            await google.colab.kernel.invokeFunction('convertToInteractive',\n",
              "                                                     [key], {});\n",
              "          if (!dataTable) return;\n",
              "\n",
              "          const docLinkHtml = 'Like what you see? Visit the ' +\n",
              "            '<a target=\"_blank\" href=https://colab.research.google.com/notebooks/data_table.ipynb>data table notebook</a>'\n",
              "            + ' to learn more about interactive tables.';\n",
              "          element.innerHTML = '';\n",
              "          dataTable['output_type'] = 'display_data';\n",
              "          await google.colab.output.renderOutput(dataTable, element);\n",
              "          const docLink = document.createElement('div');\n",
              "          docLink.innerHTML = docLinkHtml;\n",
              "          element.appendChild(docLink);\n",
              "        }\n",
              "      </script>\n",
              "    </div>\n",
              "  </div>\n",
              "  "
            ]
          },
          "metadata": {},
          "execution_count": 163
        }
      ],
      "source": [
        "# Criando os quartis para Recência, Frequência e Monetário\n",
        "df_rfm['r_quartil'] = pd.qcut(df_rfm['Recencia'], 4, ['1','2','3','4'])\n",
        "df_rfm['f_quartil'] = pd.qcut(df_rfm['Frequencia'], 4, ['1','2','3','4'])\n",
        "df_rfm['m_quartil'] = pd.qcut(df_rfm['Monetario'], 4, ['1','2','3','4'])\n",
        "\n",
        "# Criando coluna \"RFM\" com a junção dos valores de Recência, Frequência e Monetário\n",
        "df_rfm['RFM'] = df_rfm.r_quartil.astype(str) + df_rfm.f_quartil.astype(str) + df_rfm.m_quartil.astype(str)\n",
        "df_rfm.head()"
      ]
    },
    {
      "cell_type": "markdown",
      "metadata": {
        "_cell_guid": "1c7734b8-fbe7-4f46-9693-6330a4dcb7af",
        "_uuid": "d850382e-4995-4750-b459-410868dea7f8",
        "id": "EaSNztuMkpn9"
      },
      "source": [
        "<a id='categorizando-dataset'></a>\n",
        "## <font color=\"#ff009e\"> 5.3 Categorizando cada segmento de cliente de acordo com RFM gerado </font>\n",
        "<hr color=\"#F5F5F5\" size=\"1\">\n",
        "\n",
        "De acordo com o **[artigo da Puttler](https://www.putler.com/rfm-analysis/)** podemos utilizar as 11 seguintes descrições para cada categoria de clientes. Baseado nisso, já inclui a coluna \"RFM\" contendo os valores que utilizarei para identificar cada tipo:\n",
        "\n",
        "| Categoria | Descrição | RFM |\n",
        "| --- |--- |--- |\n",
        "| **Campeões** | compraram recentemente, compram com frequência e gastam mais | 144 |\n",
        "| **Clientes fiéis** | gastam bem e com boa frequência. São responsivos a promoções | 134, 143, 133 |\n",
        "| **Fiéis em potencial** | clientes recentes, mas que gastaram um bom dinheiro e já compraram mais de uma vez | 123 e 124 |\n",
        "| **Novos clientes** | compraram recentemente, mas não com frequência | 111, 112, 113 e 114 |\n",
        "| **Promessas** | compradores recentes, mas que não gastaram muito | 121, 122, 212 e 222 |\n",
        "| **Clientes precisando de atenção** | recência, frequência e valor monetário acima da curva, mas podem não ter comprado tão recentemente assim | 244 e 344 |\n",
        "| **Quase dormentes** | recência, frequência e valor monetário abaixo da média. Tendem a se perder se não forem reativados | 232, 322, 323 e 332 |\n",
        "| **Em risco** | gastaram bastante dinheiro e compraram com frequência, mas já há bastante tempo. Precisam retornar à base de clientes | 333, 334, 343 e 433 |\n",
        "| **Não pode perder** | fizeram compras grandes e frequentes, mas não voltaram por muito tempo | 243, 344, 434, 443 e 444 |\n",
        "| **Hibernando** | a última compra foi há muito tempo. Gastam pouco e fazem poucos pedidos | 311, 312, 321, 412, 421 e 422 |\n",
        "| **Perdidos** | a menor recência, frequência e valor monetário entre todos | 411 |"
      ]
    },
    {
      "cell_type": "code",
      "execution_count": null,
      "metadata": {
        "_cell_guid": "6cd01d5f-761b-44fe-a1e1-6c728087c019",
        "_uuid": "b1ad2f91-75bd-4bae-a234-c35b0fbb3edc",
        "execution": {
          "iopub.execute_input": "2022-07-15T19:01:34.193935Z",
          "iopub.status.busy": "2022-07-15T19:01:34.193246Z",
          "iopub.status.idle": "2022-07-15T19:01:34.628612Z",
          "shell.execute_reply": "2022-07-15T19:01:34.627317Z",
          "shell.execute_reply.started": "2022-07-15T19:01:34.193862Z"
        },
        "jupyter": {
          "source_hidden": true
        },
        "colab": {
          "base_uri": "https://localhost:8080/"
        },
        "id": "6MKNo3zIkpn9",
        "outputId": "2f68dcb4-f9a1-473d-fc6d-d8308fd8f891"
      },
      "outputs": [
        {
          "output_type": "stream",
          "name": "stderr",
          "text": [
            "/usr/local/lib/python3.7/dist-packages/ipykernel_launcher.py:77: SettingWithCopyWarning:\n",
            "\n",
            "\n",
            "A value is trying to be set on a copy of a slice from a DataFrame\n",
            "\n",
            "See the caveats in the documentation: https://pandas.pydata.org/pandas-docs/stable/user_guide/indexing.html#returning-a-view-versus-a-copy\n",
            "\n"
          ]
        }
      ],
      "source": [
        "# Criando dicionário para facilitar a categorização no Dataframe\n",
        "categorias_dict = {'144':'Campeões',\n",
        "              '133':'Clientes Fiéis',\n",
        "              '134':'Clientes Fiéis',\n",
        "              '143':'Clientes Fiéis',\n",
        "              '234':'Clientes Fiéis',\n",
        "              '243':'Clientes Fiéis',\n",
        "              '244':'Clientes Fiéis',\n",
        "              '123':'Fiéis em Potencial',\n",
        "              '213':'Fiéis em Potencial',\n",
        "              '214':'Fiéis em Potencial',\n",
        "              '223':'Fiéis em Potencial', \n",
        "              '224':'Fiéis em Potencial', \n",
        "              '233':'Fiéis em Potencial',             \n",
        "              '111':'Novos Clientes',\n",
        "              '112':'Novos Clientes', \n",
        "              '113':'Novos Clientes',\n",
        "              '114':'Novos Clientes',              \n",
        "              '124':'Novos Clientes',             \n",
        "              '121':'Promessas',\n",
        "              '211':'Promessas',\n",
        "              '122':'Promessas',\n",
        "              '212':'Promessas',\n",
        "              '221':'Promessas', \n",
        "              '222':'Promessas',              \n",
        "              '131':'Promessas',\n",
        "              '132':'Promessas',\n",
        "              '141':'Promessas',\n",
        "              '142':'Promessas',\n",
        "              '231':'Promessas',              \n",
        "              '334':'Clientes Precisando de Atenção', \n",
        "              '333':'Clientes Precisando de Atenção',           \n",
        "              '344':'Clientes Precisando de Atenção',\n",
        "              '423':'Clientes Precisando de Atenção',\n",
        "              '432':'Quase Dormentes',\n",
        "              '232':'Quase Dormentes',\n",
        "              '313':'Quase Dormentes',\n",
        "              '314':'Quase Dormentes',\n",
        "              '331':'Quase Dormentes',\n",
        "              '332':'Quase Dormentes',\n",
        "              '322':'Quase Dormentes',\n",
        "              '323':'Quase Dormentes',\n",
        "              '342':'Quase Dormentes',\n",
        "              '343':'Quase Dormentes',              \n",
        "              '333':'Em Risco',\n",
        "              '334':'Em Risco',\n",
        "              '343':'Em Risco',\n",
        "              '433':'Em Risco', \n",
        "              '243':'Não Pode Perder',\n",
        "              '324':'Não Pode Perder',\n",
        "              '344':'Não Pode Perder',\n",
        "              '443':'Não Pode Perder',\n",
        "              '434':'Não Pode Perder',\n",
        "              '444':'Não Pode Perder',             \n",
        "              '311':'Hibernando',\n",
        "              '312':'Hibernando',             \n",
        "              '321':'Hibernando',              \n",
        "              '413':'Hibernando',\n",
        "              '414':'Hibernando',\n",
        "              '412':'Hibernando',\n",
        "              '421':'Hibernando',\n",
        "              '422':'Hibernando',\n",
        "              '424':'Hibernando',\n",
        "              '431':'Hibernando',\n",
        "              '441':'Hibernando',\n",
        "              '442':'Hibernando',\n",
        "              '411':'Perdidos'              \n",
        "}   \n",
        "\n",
        "# Criando coluna \"Categoria\" que irá salvar a classificação\n",
        "df_rfm['Categoria'] = ''\n",
        "\n",
        "# atribuindo a classificação para o cliente\n",
        "for i in df_rfm.index:\n",
        "    if df_rfm['RFM'][i] in categorias_dict:\n",
        "        item = df_rfm['RFM'][i]\n",
        "        df_rfm['Categoria'][i] = categorias_dict[item]"
      ]
    },
    {
      "cell_type": "code",
      "execution_count": null,
      "metadata": {
        "_cell_guid": "85485ae0-7b62-4d21-ad84-5f6b61afa90e",
        "_uuid": "7555b7e1-cdae-4120-ba81-441f82a851b8",
        "execution": {
          "iopub.execute_input": "2022-07-15T19:01:34.631090Z",
          "iopub.status.busy": "2022-07-15T19:01:34.630740Z",
          "iopub.status.idle": "2022-07-15T19:01:34.863162Z",
          "shell.execute_reply": "2022-07-15T19:01:34.861767Z",
          "shell.execute_reply.started": "2022-07-15T19:01:34.631061Z"
        },
        "jupyter": {
          "source_hidden": true
        },
        "colab": {
          "base_uri": "https://localhost:8080/",
          "height": 725
        },
        "id": "9Hcz73n6kpn9",
        "outputId": "4dab9825-b078-412d-c444-22e2ea667c22"
      },
      "outputs": [
        {
          "output_type": "display_data",
          "data": {
            "text/plain": [
              "<Figure size 1296x720 with 1 Axes>"
            ],
            "image/png": "[encoded data removed]"
          },
          "metadata": {}
        }
      ],
      "source": [
        "# calculando a quantidade de clientes em cada categoria\n",
        "df_categorias = df_rfm.groupby(['Categoria'], as_index=False)['RFM'].count()\n",
        "df_categorias.rename(columns={'RFM':'Quantidade'}, inplace=True)\n",
        "\n",
        "# definindo uma paleta de cores\n",
        "colors = [\n",
        "'#6D214F', #mangenta purple\n",
        "'#FC427B', #sasquatch socks\n",
        "'#FD7272', #georgia peach\n",
        "'#F97F51', #rich gardenia\n",
        "'#25CCF7', #spiro disco ball\n",
        "'#EAB543', #honey glow\n",
        "'#55E6C1', #sweet garden\n",
        "'#58B19F', #keppel\n",
        "'#D6A2E8', #bright ubbe\n",
        "'#82589F', #highlighter lavender\n",
        "'#CAD3C8', #falling star\n",
        "'#BDC581', #pine glade\n",
        "'#F8EFBA', #sarawak white pepper\n",
        "]\n",
        "\n",
        "# criando gráfico de segmentacao\n",
        "fig, ax = plt.subplots(figsize=(18,10))\n",
        "squarify.plot(sizes=df_categorias['Quantidade'],\n",
        "              label=df_categorias['Categoria'],\n",
        "              color=colors,\n",
        "              pad=True,\n",
        "              alpha=0.6,\n",
        "              text_kwargs={'fontsize': 14})\n",
        "\n",
        "# Adicionando um título\n",
        "plt.title('Segmentação dos Clientes',\n",
        "          fontsize=24,\n",
        "          fontweight=\"bold\")\n",
        "\n",
        "# Removendo os eixos\n",
        "plt.axis('off')\n",
        "\n",
        "# Ajustando o gráfico\n",
        "plt.tight_layout()\n",
        "\n",
        "plt.show()"
      ]
    },
    {
      "cell_type": "markdown",
      "metadata": {
        "_cell_guid": "d42eed32-dac9-4ee9-98fb-5e4b5f2fbbc2",
        "_uuid": "2e96ddec-05d0-47b5-933b-58caf7fde50f",
        "id": "rHh3Dmzvkpn9"
      },
      "source": [
        "## Segmentação de Clientes por Categorias"
      ]
    },
    {
      "cell_type": "code",
      "execution_count": null,
      "metadata": {
        "_cell_guid": "6122451c-a994-41c7-ac26-ad0a3f984627",
        "_uuid": "23e8fef3-5ec2-4eab-b46d-f54a7e5b9277",
        "execution": {
          "iopub.execute_input": "2022-07-15T19:01:34.864661Z",
          "iopub.status.busy": "2022-07-15T19:01:34.864338Z",
          "iopub.status.idle": "2022-07-15T19:01:35.150460Z",
          "shell.execute_reply": "2022-07-15T19:01:35.149241Z",
          "shell.execute_reply.started": "2022-07-15T19:01:34.864631Z"
        },
        "jupyter": {
          "source_hidden": true
        },
        "colab": {
          "base_uri": "https://localhost:8080/",
          "height": 518
        },
        "id": "c2TGa68Gkpn9",
        "outputId": "765051ab-2d06-4c6b-e6d1-c74234f998c9"
      },
      "outputs": [
        {
          "output_type": "execute_result",
          "data": {
            "text/plain": [
              "Text(0, 0.5, 'Quantidade')"
            ]
          },
          "metadata": {},
          "execution_count": 166
        },
        {
          "output_type": "display_data",
          "data": {
            "text/plain": [
              "<Figure size 1440x576 with 1 Axes>"
            ],
            "image/png": "[encoded data removed]"
          },
          "metadata": {}
        }
      ],
      "source": [
        "# selecionando o valor mínimo dos 3 maiores Montantes totais de vendas\n",
        "minimo = min(df_categorias['Quantidade'].nlargest(n=5))\n",
        "\n",
        "# colorindo de azul os 3 maiores e colorindo de cinza o restante\n",
        "clrs = ['grey' if (x < minimo) else 'blue' for x in df_categorias['Quantidade']]\n",
        "\n",
        "# criando o gráfico de barras\n",
        "sns.set_theme(style=\"white\", palette=None)\n",
        "plt.figure(figsize = (20,8))\n",
        "ax = sns.barplot(y=\"Categoria\",\n",
        "                 x=\"Quantidade\",\n",
        "                 data=df_categorias,\n",
        "                 ci=False,\n",
        "                 palette=clrs)\n",
        "\n",
        "ax.set_title('Segmentação de Clientes por Categorias')\n",
        "ax.set_xlabel('', fontsize=14, labelpad=10)\n",
        "ax.set_ylabel('Quantidade', fontsize=14, labelpad=10)"
      ]
    },
    {
      "cell_type": "markdown",
      "metadata": {
        "_cell_guid": "ba7bd969-9f8d-4cf5-95eb-59a5f7b9161b",
        "_uuid": "55a14821-a950-481e-b982-d3afbf0fe44b",
        "id": "EQ2aIwPMkpn9"
      },
      "source": [
        "Os cinco maiores segmentos são: **Hibernando**, **Clientes Fiéis**, **Promessas**, **Campeões** e **Quase Dormentes**."
      ]
    },
    {
      "cell_type": "code",
      "execution_count": null,
      "metadata": {
        "_cell_guid": "3bd35e28-beb1-4ae9-b372-58284bae63ab",
        "_uuid": "a5a4e1a3-bb9a-46af-86b5-f917fe075f93",
        "execution": {
          "iopub.execute_input": "2022-07-15T19:01:35.152806Z",
          "iopub.status.busy": "2022-07-15T19:01:35.152143Z",
          "iopub.status.idle": "2022-07-15T19:01:36.247493Z",
          "shell.execute_reply": "2022-07-15T19:01:36.246077Z",
          "shell.execute_reply.started": "2022-07-15T19:01:35.152761Z"
        },
        "jupyter": {
          "outputs_hidden": false
        },
        "colab": {
          "base_uri": "https://localhost:8080/",
          "height": 542
        },
        "id": "njvn5yiYkpn-",
        "outputId": "0c93e065-ecea-43e3-8bd8-adad1efb0269"
      },
      "outputs": [
        {
          "output_type": "display_data",
          "data": {
            "text/html": [
              "<html>\n",
              "<head><meta charset=\"utf-8\" /></head>\n",
              "<body>\n",
              "    <div>            <script src=\"https://cdnjs.cloudflare.com/ajax/libs/mathjax/2.7.5/MathJax.js?config=TeX-AMS-MML_SVG\"></script><script type=\"text/javascript\">if (window.MathJax) {MathJax.Hub.Config({SVG: {font: \"STIX-Web\"}});}</script>                <script type=\"text/javascript\">window.PlotlyConfig = {MathJaxConfig: 'local'};</script>\n",
              "        <script src=\"https://cdn.plot.ly/plotly-2.8.3.min.js\"></script>                <div id=\"5d0ef3f4-ab5f-41ba-97c6-d71f8d70c728\" class=\"plotly-graph-div\" style=\"height:525px; width:100%;\"></div>            <script type=\"text/javascript\">                                    window.PLOTLYENV=window.PLOTLYENV || {};                                    if (document.getElementById(\"5d0ef3f4-ab5f-41ba-97c6-d71f8d70c728\")) {                    Plotly.newPlot(                        \"5d0ef3f4-ab5f-41ba-97c6-d71f8d70c728\",                        [{\"alignmentgroup\":\"True\",\"hovertemplate\":\"Pertence ao Reino Unido?=SIM<br>Quantidade=%{x}<br>Categoria=%{y}<extra></extra>\",\"legendgroup\":\"SIM\",\"marker\":{\"color\":\"#FF0092\",\"pattern\":{\"shape\":\"\"}},\"name\":\"SIM\",\"offsetgroup\":\"SIM\",\"orientation\":\"h\",\"showlegend\":true,\"textposition\":\"auto\",\"x\":[397,521,416,142,97,760,299,288,50,532,419],\"xaxis\":\"x\",\"y\":[\"Quase Dormentes\",\"Promessas\",\"Perdidos\",\"N\\u00e3o Pode Perder\",\"Novos Clientes\",\"Hibernando\",\"Fi\\u00e9is em Potencial\",\"Em Risco\",\"Clientes Precisando de Aten\\u00e7\\u00e3o\",\"Clientes Fi\\u00e9is\",\"Campe\\u00f5es\"],\"yaxis\":\"y\",\"type\":\"bar\"},{\"alignmentgroup\":\"True\",\"hovertemplate\":\"Pertence ao Reino Unido?=N\\u00c3O<br>Quantidade=%{x}<br>Categoria=%{y}<extra></extra>\",\"legendgroup\":\"N\\u00c3O\",\"marker\":{\"color\":\"#00B5F7\",\"pattern\":{\"shape\":\"\"}},\"name\":\"N\\u00c3O\",\"offsetgroup\":\"N\\u00c3O\",\"orientation\":\"h\",\"showlegend\":true,\"textposition\":\"auto\",\"x\":[52,38,28,22,13,81,29,32,9,80,42],\"xaxis\":\"x\",\"y\":[\"Quase Dormentes\",\"Promessas\",\"Perdidos\",\"N\\u00e3o Pode Perder\",\"Novos Clientes\",\"Hibernando\",\"Fi\\u00e9is em Potencial\",\"Em Risco\",\"Clientes Precisando de Aten\\u00e7\\u00e3o\",\"Clientes Fi\\u00e9is\",\"Campe\\u00f5es\"],\"yaxis\":\"y\",\"type\":\"bar\"}],                        {\"template\":{\"data\":{\"bar\":[{\"error_x\":{\"color\":\"#2a3f5f\"},\"error_y\":{\"color\":\"#2a3f5f\"},\"marker\":{\"line\":{\"color\":\"#E5ECF6\",\"width\":0.5},\"pattern\":{\"fillmode\":\"overlay\",\"size\":10,\"solidity\":0.2}},\"type\":\"bar\"}],\"barpolar\":[{\"marker\":{\"line\":{\"color\":\"#E5ECF6\",\"width\":0.5},\"pattern\":{\"fillmode\":\"overlay\",\"size\":10,\"solidity\":0.2}},\"type\":\"barpolar\"}],\"carpet\":[{\"aaxis\":{\"endlinecolor\":\"#2a3f5f\",\"gridcolor\":\"white\",\"linecolor\":\"white\",\"minorgridcolor\":\"white\",\"startlinecolor\":\"#2a3f5f\"},\"baxis\":{\"endlinecolor\":\"#2a3f5f\",\"gridcolor\":\"white\",\"linecolor\":\"white\",\"minorgridcolor\":\"white\",\"startlinecolor\":\"#2a3f5f\"},\"type\":\"carpet\"}],\"choropleth\":[{\"colorbar\":{\"outlinewidth\":0,\"ticks\":\"\"},\"type\":\"choropleth\"}],\"contour\":[{\"colorbar\":{\"outlinewidth\":0,\"ticks\":\"\"},\"colorscale\":[[0.0,\"#0d0887\"],[0.1111111111111111,\"#46039f\"],[0.2222222222222222,\"#7201a8\"],[0.3333333333333333,\"#9c179e\"],[0.4444444444444444,\"#bd3786\"],[0.5555555555555556,\"#d8576b\"],[0.6666666666666666,\"#ed7953\"],[0.7777777777777778,\"#fb9f3a\"],[0.8888888888888888,\"#fdca26\"],[1.0,\"#f0f921\"]],\"type\":\"contour\"}],\"contourcarpet\":[{\"colorbar\":{\"outlinewidth\":0,\"ticks\":\"\"},\"type\":\"contourcarpet\"}],\"heatmap\":[{\"colorbar\":{\"outlinewidth\":0,\"ticks\":\"\"},\"colorscale\":[[0.0,\"#0d0887\"],[0.1111111111111111,\"#46039f\"],[0.2222222222222222,\"#7201a8\"],[0.3333333333333333,\"#9c179e\"],[0.4444444444444444,\"#bd3786\"],[0.5555555555555556,\"#d8576b\"],[0.6666666666666666,\"#ed7953\"],[0.7777777777777778,\"#fb9f3a\"],[0.8888888888888888,\"#fdca26\"],[1.0,\"#f0f921\"]],\"type\":\"heatmap\"}],\"heatmapgl\":[{\"colorbar\":{\"outlinewidth\":0,\"ticks\":\"\"},\"colorscale\":[[0.0,\"#0d0887\"],[0.1111111111111111,\"#46039f\"],[0.2222222222222222,\"#7201a8\"],[0.3333333333333333,\"#9c179e\"],[0.4444444444444444,\"#bd3786\"],[0.5555555555555556,\"#d8576b\"],[0.6666666666666666,\"#ed7953\"],[0.7777777777777778,\"#fb9f3a\"],[0.8888888888888888,\"#fdca26\"],[1.0,\"#f0f921\"]],\"type\":\"heatmapgl\"}],\"histogram\":[{\"marker\":{\"pattern\":{\"fillmode\":\"overlay\",\"size\":10,\"solidity\":0.2}},\"type\":\"histogram\"}],\"histogram2d\":[{\"colorbar\":{\"outlinewidth\":0,\"ticks\":\"\"},\"colorscale\":[[0.0,\"#0d0887\"],[0.1111111111111111,\"#46039f\"],[0.2222222222222222,\"#7201a8\"],[0.3333333333333333,\"#9c179e\"],[0.4444444444444444,\"#bd3786\"],[0.5555555555555556,\"#d8576b\"],[0.6666666666666666,\"#ed7953\"],[0.7777777777777778,\"#fb9f3a\"],[0.8888888888888888,\"#fdca26\"],[1.0,\"#f0f921\"]],\"type\":\"histogram2d\"}],\"histogram2dcontour\":[{\"colorbar\":{\"outlinewidth\":0,\"ticks\":\"\"},\"colorscale\":[[0.0,\"#0d0887\"],[0.1111111111111111,\"#46039f\"],[0.2222222222222222,\"#7201a8\"],[0.3333333333333333,\"#9c179e\"],[0.4444444444444444,\"#bd3786\"],[0.5555555555555556,\"#d8576b\"],[0.6666666666666666,\"#ed7953\"],[0.7777777777777778,\"#fb9f3a\"],[0.8888888888888888,\"#fdca26\"],[1.0,\"#f0f921\"]],\"type\":\"histogram2dcontour\"}],\"mesh3d\":[{\"colorbar\":{\"outlinewidth\":0,\"ticks\":\"\"},\"type\":\"mesh3d\"}],\"parcoords\":[{\"line\":{\"colorbar\":{\"outlinewidth\":0,\"ticks\":\"\"}},\"type\":\"parcoords\"}],\"pie\":[{\"automargin\":true,\"type\":\"pie\"}],\"scatter\":[{\"marker\":{\"colorbar\":{\"outlinewidth\":0,\"ticks\":\"\"}},\"type\":\"scatter\"}],\"scatter3d\":[{\"line\":{\"colorbar\":{\"outlinewidth\":0,\"ticks\":\"\"}},\"marker\":{\"colorbar\":{\"outlinewidth\":0,\"ticks\":\"\"}},\"type\":\"scatter3d\"}],\"scattercarpet\":[{\"marker\":{\"colorbar\":{\"outlinewidth\":0,\"ticks\":\"\"}},\"type\":\"scattercarpet\"}],\"scattergeo\":[{\"marker\":{\"colorbar\":{\"outlinewidth\":0,\"ticks\":\"\"}},\"type\":\"scattergeo\"}],\"scattergl\":[{\"marker\":{\"colorbar\":{\"outlinewidth\":0,\"ticks\":\"\"}},\"type\":\"scattergl\"}],\"scattermapbox\":[{\"marker\":{\"colorbar\":{\"outlinewidth\":0,\"ticks\":\"\"}},\"type\":\"scattermapbox\"}],\"scatterpolar\":[{\"marker\":{\"colorbar\":{\"outlinewidth\":0,\"ticks\":\"\"}},\"type\":\"scatterpolar\"}],\"scatterpolargl\":[{\"marker\":{\"colorbar\":{\"outlinewidth\":0,\"ticks\":\"\"}},\"type\":\"scatterpolargl\"}],\"scatterternary\":[{\"marker\":{\"colorbar\":{\"outlinewidth\":0,\"ticks\":\"\"}},\"type\":\"scatterternary\"}],\"surface\":[{\"colorbar\":{\"outlinewidth\":0,\"ticks\":\"\"},\"colorscale\":[[0.0,\"#0d0887\"],[0.1111111111111111,\"#46039f\"],[0.2222222222222222,\"#7201a8\"],[0.3333333333333333,\"#9c179e\"],[0.4444444444444444,\"#bd3786\"],[0.5555555555555556,\"#d8576b\"],[0.6666666666666666,\"#ed7953\"],[0.7777777777777778,\"#fb9f3a\"],[0.8888888888888888,\"#fdca26\"],[1.0,\"#f0f921\"]],\"type\":\"surface\"}],\"table\":[{\"cells\":{\"fill\":{\"color\":\"#EBF0F8\"},\"line\":{\"color\":\"white\"}},\"header\":{\"fill\":{\"color\":\"#C8D4E3\"},\"line\":{\"color\":\"white\"}},\"type\":\"table\"}]},\"layout\":{\"annotationdefaults\":{\"arrowcolor\":\"#2a3f5f\",\"arrowhead\":0,\"arrowwidth\":1},\"autotypenumbers\":\"strict\",\"coloraxis\":{\"colorbar\":{\"outlinewidth\":0,\"ticks\":\"\"}},\"colorscale\":{\"diverging\":[[0,\"#8e0152\"],[0.1,\"#c51b7d\"],[0.2,\"#de77ae\"],[0.3,\"#f1b6da\"],[0.4,\"#fde0ef\"],[0.5,\"#f7f7f7\"],[0.6,\"#e6f5d0\"],[0.7,\"#b8e186\"],[0.8,\"#7fbc41\"],[0.9,\"#4d9221\"],[1,\"#276419\"]],\"sequential\":[[0.0,\"#0d0887\"],[0.1111111111111111,\"#46039f\"],[0.2222222222222222,\"#7201a8\"],[0.3333333333333333,\"#9c179e\"],[0.4444444444444444,\"#bd3786\"],[0.5555555555555556,\"#d8576b\"],[0.6666666666666666,\"#ed7953\"],[0.7777777777777778,\"#fb9f3a\"],[0.8888888888888888,\"#fdca26\"],[1.0,\"#f0f921\"]],\"sequentialminus\":[[0.0,\"#0d0887\"],[0.1111111111111111,\"#46039f\"],[0.2222222222222222,\"#7201a8\"],[0.3333333333333333,\"#9c179e\"],[0.4444444444444444,\"#bd3786\"],[0.5555555555555556,\"#d8576b\"],[0.6666666666666666,\"#ed7953\"],[0.7777777777777778,\"#fb9f3a\"],[0.8888888888888888,\"#fdca26\"],[1.0,\"#f0f921\"]]},\"colorway\":[\"#636efa\",\"#EF553B\",\"#00cc96\",\"#ab63fa\",\"#FFA15A\",\"#19d3f3\",\"#FF6692\",\"#B6E880\",\"#FF97FF\",\"#FECB52\"],\"font\":{\"color\":\"#2a3f5f\"},\"geo\":{\"bgcolor\":\"white\",\"lakecolor\":\"white\",\"landcolor\":\"#E5ECF6\",\"showlakes\":true,\"showland\":true,\"subunitcolor\":\"white\"},\"hoverlabel\":{\"align\":\"left\"},\"hovermode\":\"closest\",\"mapbox\":{\"style\":\"light\"},\"paper_bgcolor\":\"white\",\"plot_bgcolor\":\"#E5ECF6\",\"polar\":{\"angularaxis\":{\"gridcolor\":\"white\",\"linecolor\":\"white\",\"ticks\":\"\"},\"bgcolor\":\"#E5ECF6\",\"radialaxis\":{\"gridcolor\":\"white\",\"linecolor\":\"white\",\"ticks\":\"\"}},\"scene\":{\"xaxis\":{\"backgroundcolor\":\"#E5ECF6\",\"gridcolor\":\"white\",\"gridwidth\":2,\"linecolor\":\"white\",\"showbackground\":true,\"ticks\":\"\",\"zerolinecolor\":\"white\"},\"yaxis\":{\"backgroundcolor\":\"#E5ECF6\",\"gridcolor\":\"white\",\"gridwidth\":2,\"linecolor\":\"white\",\"showbackground\":true,\"ticks\":\"\",\"zerolinecolor\":\"white\"},\"zaxis\":{\"backgroundcolor\":\"#E5ECF6\",\"gridcolor\":\"white\",\"gridwidth\":2,\"linecolor\":\"white\",\"showbackground\":true,\"ticks\":\"\",\"zerolinecolor\":\"white\"}},\"shapedefaults\":{\"line\":{\"color\":\"#2a3f5f\"}},\"ternary\":{\"aaxis\":{\"gridcolor\":\"white\",\"linecolor\":\"white\",\"ticks\":\"\"},\"baxis\":{\"gridcolor\":\"white\",\"linecolor\":\"white\",\"ticks\":\"\"},\"bgcolor\":\"#E5ECF6\",\"caxis\":{\"gridcolor\":\"white\",\"linecolor\":\"white\",\"ticks\":\"\"}},\"title\":{\"x\":0.05},\"xaxis\":{\"automargin\":true,\"gridcolor\":\"white\",\"linecolor\":\"white\",\"ticks\":\"\",\"title\":{\"standoff\":15},\"zerolinecolor\":\"white\",\"zerolinewidth\":2},\"yaxis\":{\"automargin\":true,\"gridcolor\":\"white\",\"linecolor\":\"white\",\"ticks\":\"\",\"title\":{\"standoff\":15},\"zerolinecolor\":\"white\",\"zerolinewidth\":2}}},\"xaxis\":{\"anchor\":\"y\",\"domain\":[0.0,1.0],\"title\":{\"text\":\"Quantidade\"}},\"yaxis\":{\"anchor\":\"x\",\"domain\":[0.0,1.0],\"title\":{\"text\":\"Categoria\"}},\"legend\":{\"title\":{\"text\":\"Pertence ao Reino Unido?\"},\"tracegroupgap\":0},\"title\":{\"text\":\"Segmenta\\u00e7\\u00e3o dos clientes da UK Merch divididos em se pertence ou n\\u00e3o ao Reino Unido\"},\"barmode\":\"relative\"},                        {\"responsive\": true}                    ).then(function(){\n",
              "                            \n",
              "var gd = document.getElementById('5d0ef3f4-ab5f-41ba-97c6-d71f8d70c728');\n",
              "var x = new MutationObserver(function (mutations, observer) {{\n",
              "        var display = window.getComputedStyle(gd).display;\n",
              "        if (!display || display === 'none') {{\n",
              "            console.log([gd, 'removed!']);\n",
              "            Plotly.purge(gd);\n",
              "            observer.disconnect();\n",
              "        }}\n",
              "}});\n",
              "\n",
              "// Listen for the removal of the full notebook cells\n",
              "var notebookContainer = gd.closest('#notebook-container');\n",
              "if (notebookContainer) {{\n",
              "    x.observe(notebookContainer, {childList: true});\n",
              "}}\n",
              "\n",
              "// Listen for the clearing of the current output cell\n",
              "var outputEl = gd.closest('.output');\n",
              "if (outputEl) {{\n",
              "    x.observe(outputEl, {childList: true});\n",
              "}}\n",
              "\n",
              "                        })                };                            </script>        </div>\n",
              "</body>\n",
              "</html>"
            ]
          },
          "metadata": {}
        }
      ],
      "source": [
        "clientes = df_rfm.groupby(['Categoria','Pertence_UK'],\n",
        "                                   as_index=False)['Cliente'].count()\n",
        "clientes.rename(columns={'Pertence_UK':'Pertence ao Reino Unido?','Cliente':'Quantidade'}, inplace=True)\n",
        "clientes.sort_values(by='Categoria', ascending=False, inplace=True)\n",
        "\n",
        "fig = px.bar(clientes,\n",
        "             x=\"Quantidade\",\n",
        "             y=\"Categoria\",\n",
        "             color=\"Pertence ao Reino Unido?\",\n",
        "             title=\"Segmentação dos clientes da UK Merch divididos em se pertence ou não ao Reino Unido\",\n",
        "             orientation='h',\n",
        "            color_discrete_sequence=[\n",
        "                  px.colors.qualitative.Light24[16],\n",
        "                  px.colors.qualitative.Light24[13]])\n",
        "fig.show()"
      ]
    },
    {
      "cell_type": "code",
      "execution_count": null,
      "metadata": {
        "_cell_guid": "7ff1dce6-a02c-4954-a58c-caf63ab004df",
        "_uuid": "6ce8b5e6-a777-410f-ac8c-ea3db3000f71",
        "execution": {
          "iopub.execute_input": "2022-07-15T19:01:36.249465Z",
          "iopub.status.busy": "2022-07-15T19:01:36.249134Z",
          "iopub.status.idle": "2022-07-15T19:01:36.321122Z",
          "shell.execute_reply": "2022-07-15T19:01:36.319985Z",
          "shell.execute_reply.started": "2022-07-15T19:01:36.249428Z"
        },
        "jupyter": {
          "outputs_hidden": false
        },
        "colab": {
          "base_uri": "https://localhost:8080/",
          "height": 542
        },
        "id": "5bttD6t7kpn-",
        "outputId": "5d0ce98a-eae9-4f31-c313-6bc0eabcd87d"
      },
      "outputs": [
        {
          "output_type": "display_data",
          "data": {
            "text/html": [
              "<html>\n",
              "<head><meta charset=\"utf-8\" /></head>\n",
              "<body>\n",
              "    <div>            <script src=\"https://cdnjs.cloudflare.com/ajax/libs/mathjax/2.7.5/MathJax.js?config=TeX-AMS-MML_SVG\"></script><script type=\"text/javascript\">if (window.MathJax) {MathJax.Hub.Config({SVG: {font: \"STIX-Web\"}});}</script>                <script type=\"text/javascript\">window.PlotlyConfig = {MathJaxConfig: 'local'};</script>\n",
              "        <script src=\"https://cdn.plot.ly/plotly-2.8.3.min.js\"></script>                <div id=\"1baf070d-b47a-4bd6-8bb1-a6e427bdd067\" class=\"plotly-graph-div\" style=\"height:525px; width:100%;\"></div>            <script type=\"text/javascript\">                                    window.PLOTLYENV=window.PLOTLYENV || {};                                    if (document.getElementById(\"1baf070d-b47a-4bd6-8bb1-a6e427bdd067\")) {                    Plotly.newPlot(                        \"1baf070d-b47a-4bd6-8bb1-a6e427bdd067\",                        [{\"alignmentgroup\":\"True\",\"hovertemplate\":\"Total de Vendas=%{x}<br>Categoria=%{y}<extra></extra>\",\"legendgroup\":\"\",\"marker\":{\"color\":\"#FF0092\",\"pattern\":{\"shape\":\"\"}},\"name\":\"\",\"offsetgroup\":\"\",\"orientation\":\"h\",\"showlegend\":false,\"textposition\":\"auto\",\"x\":[59080.93,73556.11,195935.89,213283.47,323283.09,365370.04,430221.8,493613.52999999997,535067.86,1876815.57,4369518.38],\"xaxis\":\"x\",\"y\":[\"Clientes Precisando de Aten\\u00e7\\u00e3o\",\"Perdidos\",\"Promessas\",\"Novos Clientes\",\"Quase Dormentes\",\"Fi\\u00e9is em Potencial\",\"Hibernando\",\"Em Risco\",\"N\\u00e3o Pode Perder\",\"Clientes Fi\\u00e9is\",\"Campe\\u00f5es\"],\"yaxis\":\"y\",\"type\":\"bar\"}],                        {\"template\":{\"data\":{\"bar\":[{\"error_x\":{\"color\":\"#2a3f5f\"},\"error_y\":{\"color\":\"#2a3f5f\"},\"marker\":{\"line\":{\"color\":\"#E5ECF6\",\"width\":0.5},\"pattern\":{\"fillmode\":\"overlay\",\"size\":10,\"solidity\":0.2}},\"type\":\"bar\"}],\"barpolar\":[{\"marker\":{\"line\":{\"color\":\"#E5ECF6\",\"width\":0.5},\"pattern\":{\"fillmode\":\"overlay\",\"size\":10,\"solidity\":0.2}},\"type\":\"barpolar\"}],\"carpet\":[{\"aaxis\":{\"endlinecolor\":\"#2a3f5f\",\"gridcolor\":\"white\",\"linecolor\":\"white\",\"minorgridcolor\":\"white\",\"startlinecolor\":\"#2a3f5f\"},\"baxis\":{\"endlinecolor\":\"#2a3f5f\",\"gridcolor\":\"white\",\"linecolor\":\"white\",\"minorgridcolor\":\"white\",\"startlinecolor\":\"#2a3f5f\"},\"type\":\"carpet\"}],\"choropleth\":[{\"colorbar\":{\"outlinewidth\":0,\"ticks\":\"\"},\"type\":\"choropleth\"}],\"contour\":[{\"colorbar\":{\"outlinewidth\":0,\"ticks\":\"\"},\"colorscale\":[[0.0,\"#0d0887\"],[0.1111111111111111,\"#46039f\"],[0.2222222222222222,\"#7201a8\"],[0.3333333333333333,\"#9c179e\"],[0.4444444444444444,\"#bd3786\"],[0.5555555555555556,\"#d8576b\"],[0.6666666666666666,\"#ed7953\"],[0.7777777777777778,\"#fb9f3a\"],[0.8888888888888888,\"#fdca26\"],[1.0,\"#f0f921\"]],\"type\":\"contour\"}],\"contourcarpet\":[{\"colorbar\":{\"outlinewidth\":0,\"ticks\":\"\"},\"type\":\"contourcarpet\"}],\"heatmap\":[{\"colorbar\":{\"outlinewidth\":0,\"ticks\":\"\"},\"colorscale\":[[0.0,\"#0d0887\"],[0.1111111111111111,\"#46039f\"],[0.2222222222222222,\"#7201a8\"],[0.3333333333333333,\"#9c179e\"],[0.4444444444444444,\"#bd3786\"],[0.5555555555555556,\"#d8576b\"],[0.6666666666666666,\"#ed7953\"],[0.7777777777777778,\"#fb9f3a\"],[0.8888888888888888,\"#fdca26\"],[1.0,\"#f0f921\"]],\"type\":\"heatmap\"}],\"heatmapgl\":[{\"colorbar\":{\"outlinewidth\":0,\"ticks\":\"\"},\"colorscale\":[[0.0,\"#0d0887\"],[0.1111111111111111,\"#46039f\"],[0.2222222222222222,\"#7201a8\"],[0.3333333333333333,\"#9c179e\"],[0.4444444444444444,\"#bd3786\"],[0.5555555555555556,\"#d8576b\"],[0.6666666666666666,\"#ed7953\"],[0.7777777777777778,\"#fb9f3a\"],[0.8888888888888888,\"#fdca26\"],[1.0,\"#f0f921\"]],\"type\":\"heatmapgl\"}],\"histogram\":[{\"marker\":{\"pattern\":{\"fillmode\":\"overlay\",\"size\":10,\"solidity\":0.2}},\"type\":\"histogram\"}],\"histogram2d\":[{\"colorbar\":{\"outlinewidth\":0,\"ticks\":\"\"},\"colorscale\":[[0.0,\"#0d0887\"],[0.1111111111111111,\"#46039f\"],[0.2222222222222222,\"#7201a8\"],[0.3333333333333333,\"#9c179e\"],[0.4444444444444444,\"#bd3786\"],[0.5555555555555556,\"#d8576b\"],[0.6666666666666666,\"#ed7953\"],[0.7777777777777778,\"#fb9f3a\"],[0.8888888888888888,\"#fdca26\"],[1.0,\"#f0f921\"]],\"type\":\"histogram2d\"}],\"histogram2dcontour\":[{\"colorbar\":{\"outlinewidth\":0,\"ticks\":\"\"},\"colorscale\":[[0.0,\"#0d0887\"],[0.1111111111111111,\"#46039f\"],[0.2222222222222222,\"#7201a8\"],[0.3333333333333333,\"#9c179e\"],[0.4444444444444444,\"#bd3786\"],[0.5555555555555556,\"#d8576b\"],[0.6666666666666666,\"#ed7953\"],[0.7777777777777778,\"#fb9f3a\"],[0.8888888888888888,\"#fdca26\"],[1.0,\"#f0f921\"]],\"type\":\"histogram2dcontour\"}],\"mesh3d\":[{\"colorbar\":{\"outlinewidth\":0,\"ticks\":\"\"},\"type\":\"mesh3d\"}],\"parcoords\":[{\"line\":{\"colorbar\":{\"outlinewidth\":0,\"ticks\":\"\"}},\"type\":\"parcoords\"}],\"pie\":[{\"automargin\":true,\"type\":\"pie\"}],\"scatter\":[{\"marker\":{\"colorbar\":{\"outlinewidth\":0,\"ticks\":\"\"}},\"type\":\"scatter\"}],\"scatter3d\":[{\"line\":{\"colorbar\":{\"outlinewidth\":0,\"ticks\":\"\"}},\"marker\":{\"colorbar\":{\"outlinewidth\":0,\"ticks\":\"\"}},\"type\":\"scatter3d\"}],\"scattercarpet\":[{\"marker\":{\"colorbar\":{\"outlinewidth\":0,\"ticks\":\"\"}},\"type\":\"scattercarpet\"}],\"scattergeo\":[{\"marker\":{\"colorbar\":{\"outlinewidth\":0,\"ticks\":\"\"}},\"type\":\"scattergeo\"}],\"scattergl\":[{\"marker\":{\"colorbar\":{\"outlinewidth\":0,\"ticks\":\"\"}},\"type\":\"scattergl\"}],\"scattermapbox\":[{\"marker\":{\"colorbar\":{\"outlinewidth\":0,\"ticks\":\"\"}},\"type\":\"scattermapbox\"}],\"scatterpolar\":[{\"marker\":{\"colorbar\":{\"outlinewidth\":0,\"ticks\":\"\"}},\"type\":\"scatterpolar\"}],\"scatterpolargl\":[{\"marker\":{\"colorbar\":{\"outlinewidth\":0,\"ticks\":\"\"}},\"type\":\"scatterpolargl\"}],\"scatterternary\":[{\"marker\":{\"colorbar\":{\"outlinewidth\":0,\"ticks\":\"\"}},\"type\":\"scatterternary\"}],\"surface\":[{\"colorbar\":{\"outlinewidth\":0,\"ticks\":\"\"},\"colorscale\":[[0.0,\"#0d0887\"],[0.1111111111111111,\"#46039f\"],[0.2222222222222222,\"#7201a8\"],[0.3333333333333333,\"#9c179e\"],[0.4444444444444444,\"#bd3786\"],[0.5555555555555556,\"#d8576b\"],[0.6666666666666666,\"#ed7953\"],[0.7777777777777778,\"#fb9f3a\"],[0.8888888888888888,\"#fdca26\"],[1.0,\"#f0f921\"]],\"type\":\"surface\"}],\"table\":[{\"cells\":{\"fill\":{\"color\":\"#EBF0F8\"},\"line\":{\"color\":\"white\"}},\"header\":{\"fill\":{\"color\":\"#C8D4E3\"},\"line\":{\"color\":\"white\"}},\"type\":\"table\"}]},\"layout\":{\"annotationdefaults\":{\"arrowcolor\":\"#2a3f5f\",\"arrowhead\":0,\"arrowwidth\":1},\"autotypenumbers\":\"strict\",\"coloraxis\":{\"colorbar\":{\"outlinewidth\":0,\"ticks\":\"\"}},\"colorscale\":{\"diverging\":[[0,\"#8e0152\"],[0.1,\"#c51b7d\"],[0.2,\"#de77ae\"],[0.3,\"#f1b6da\"],[0.4,\"#fde0ef\"],[0.5,\"#f7f7f7\"],[0.6,\"#e6f5d0\"],[0.7,\"#b8e186\"],[0.8,\"#7fbc41\"],[0.9,\"#4d9221\"],[1,\"#276419\"]],\"sequential\":[[0.0,\"#0d0887\"],[0.1111111111111111,\"#46039f\"],[0.2222222222222222,\"#7201a8\"],[0.3333333333333333,\"#9c179e\"],[0.4444444444444444,\"#bd3786\"],[0.5555555555555556,\"#d8576b\"],[0.6666666666666666,\"#ed7953\"],[0.7777777777777778,\"#fb9f3a\"],[0.8888888888888888,\"#fdca26\"],[1.0,\"#f0f921\"]],\"sequentialminus\":[[0.0,\"#0d0887\"],[0.1111111111111111,\"#46039f\"],[0.2222222222222222,\"#7201a8\"],[0.3333333333333333,\"#9c179e\"],[0.4444444444444444,\"#bd3786\"],[0.5555555555555556,\"#d8576b\"],[0.6666666666666666,\"#ed7953\"],[0.7777777777777778,\"#fb9f3a\"],[0.8888888888888888,\"#fdca26\"],[1.0,\"#f0f921\"]]},\"colorway\":[\"#636efa\",\"#EF553B\",\"#00cc96\",\"#ab63fa\",\"#FFA15A\",\"#19d3f3\",\"#FF6692\",\"#B6E880\",\"#FF97FF\",\"#FECB52\"],\"font\":{\"color\":\"#2a3f5f\"},\"geo\":{\"bgcolor\":\"white\",\"lakecolor\":\"white\",\"landcolor\":\"#E5ECF6\",\"showlakes\":true,\"showland\":true,\"subunitcolor\":\"white\"},\"hoverlabel\":{\"align\":\"left\"},\"hovermode\":\"closest\",\"mapbox\":{\"style\":\"light\"},\"paper_bgcolor\":\"white\",\"plot_bgcolor\":\"#E5ECF6\",\"polar\":{\"angularaxis\":{\"gridcolor\":\"white\",\"linecolor\":\"white\",\"ticks\":\"\"},\"bgcolor\":\"#E5ECF6\",\"radialaxis\":{\"gridcolor\":\"white\",\"linecolor\":\"white\",\"ticks\":\"\"}},\"scene\":{\"xaxis\":{\"backgroundcolor\":\"#E5ECF6\",\"gridcolor\":\"white\",\"gridwidth\":2,\"linecolor\":\"white\",\"showbackground\":true,\"ticks\":\"\",\"zerolinecolor\":\"white\"},\"yaxis\":{\"backgroundcolor\":\"#E5ECF6\",\"gridcolor\":\"white\",\"gridwidth\":2,\"linecolor\":\"white\",\"showbackground\":true,\"ticks\":\"\",\"zerolinecolor\":\"white\"},\"zaxis\":{\"backgroundcolor\":\"#E5ECF6\",\"gridcolor\":\"white\",\"gridwidth\":2,\"linecolor\":\"white\",\"showbackground\":true,\"ticks\":\"\",\"zerolinecolor\":\"white\"}},\"shapedefaults\":{\"line\":{\"color\":\"#2a3f5f\"}},\"ternary\":{\"aaxis\":{\"gridcolor\":\"white\",\"linecolor\":\"white\",\"ticks\":\"\"},\"baxis\":{\"gridcolor\":\"white\",\"linecolor\":\"white\",\"ticks\":\"\"},\"bgcolor\":\"#E5ECF6\",\"caxis\":{\"gridcolor\":\"white\",\"linecolor\":\"white\",\"ticks\":\"\"}},\"title\":{\"x\":0.05},\"xaxis\":{\"automargin\":true,\"gridcolor\":\"white\",\"linecolor\":\"white\",\"ticks\":\"\",\"title\":{\"standoff\":15},\"zerolinecolor\":\"white\",\"zerolinewidth\":2},\"yaxis\":{\"automargin\":true,\"gridcolor\":\"white\",\"linecolor\":\"white\",\"ticks\":\"\",\"title\":{\"standoff\":15},\"zerolinecolor\":\"white\",\"zerolinewidth\":2}}},\"xaxis\":{\"anchor\":\"y\",\"domain\":[0.0,1.0],\"title\":{\"text\":\"Total de Vendas\"}},\"yaxis\":{\"anchor\":\"x\",\"domain\":[0.0,1.0],\"title\":{\"text\":\"Categoria\"}},\"legend\":{\"tracegroupgap\":0},\"title\":{\"text\":\"Total de Vendas por Categoria\"},\"barmode\":\"relative\"},                        {\"responsive\": true}                    ).then(function(){\n",
              "                            \n",
              "var gd = document.getElementById('1baf070d-b47a-4bd6-8bb1-a6e427bdd067');\n",
              "var x = new MutationObserver(function (mutations, observer) {{\n",
              "        var display = window.getComputedStyle(gd).display;\n",
              "        if (!display || display === 'none') {{\n",
              "            console.log([gd, 'removed!']);\n",
              "            Plotly.purge(gd);\n",
              "            observer.disconnect();\n",
              "        }}\n",
              "}});\n",
              "\n",
              "// Listen for the removal of the full notebook cells\n",
              "var notebookContainer = gd.closest('#notebook-container');\n",
              "if (notebookContainer) {{\n",
              "    x.observe(notebookContainer, {childList: true});\n",
              "}}\n",
              "\n",
              "// Listen for the clearing of the current output cell\n",
              "var outputEl = gd.closest('.output');\n",
              "if (outputEl) {{\n",
              "    x.observe(outputEl, {childList: true});\n",
              "}}\n",
              "\n",
              "                        })                };                            </script>        </div>\n",
              "</body>\n",
              "</html>"
            ]
          },
          "metadata": {}
        }
      ],
      "source": [
        "montante = df_rfm.groupby(['Categoria'],as_index=False)['Monetario'].sum()\n",
        "montante.rename(columns={'Monetario':'Total de Vendas'}, inplace=True)\n",
        "montante.sort_values(by='Total de Vendas', ascending=True, inplace=True)\n",
        "\n",
        "fig = px.bar(montante,\n",
        "             x=\"Total de Vendas\",\n",
        "             y=\"Categoria\",\n",
        "             title=\"Total de Vendas por Categoria\",\n",
        "             orientation='h',\n",
        "            color_discrete_sequence=[\n",
        "                  px.colors.qualitative.Light24[16]])\n",
        "fig.show()"
      ]
    },
    {
      "cell_type": "code",
      "execution_count": null,
      "metadata": {
        "_cell_guid": "4e666cf3-9279-45db-867d-f6603518c26a",
        "_uuid": "666ff2a7-6a92-41e0-b642-ac4717035a08",
        "execution": {
          "iopub.execute_input": "2022-07-15T19:01:36.323535Z",
          "iopub.status.busy": "2022-07-15T19:01:36.322898Z",
          "iopub.status.idle": "2022-07-15T19:01:36.329092Z",
          "shell.execute_reply": "2022-07-15T19:01:36.328193Z",
          "shell.execute_reply.started": "2022-07-15T19:01:36.323481Z"
        },
        "jupyter": {
          "source_hidden": true
        },
        "colab": {
          "base_uri": "https://localhost:8080/"
        },
        "id": "Yeu6JxjTkpn-",
        "outputId": "9c05e2bd-3c06-4480-d776-0b1313ec2297"
      },
      "outputs": [
        {
          "output_type": "stream",
          "name": "stdout",
          "text": [
            "Total de Vendas:  8935746.67\n"
          ]
        }
      ],
      "source": [
        "print('Total de Vendas: ', montante['Total de Vendas'].sum())"
      ]
    },
    {
      "cell_type": "code",
      "execution_count": null,
      "metadata": {
        "_cell_guid": "b71b34ab-4a72-40b9-9c52-2c0b9c5a4aa4",
        "_uuid": "b87dd9e2-ed68-4b9f-9bf2-2aca1740bcfb",
        "execution": {
          "iopub.execute_input": "2022-07-15T19:01:36.331516Z",
          "iopub.status.busy": "2022-07-15T19:01:36.330194Z",
          "iopub.status.idle": "2022-07-15T19:01:36.342827Z",
          "shell.execute_reply": "2022-07-15T19:01:36.341968Z",
          "shell.execute_reply.started": "2022-07-15T19:01:36.331481Z"
        },
        "jupyter": {
          "source_hidden": true
        },
        "colab": {
          "base_uri": "https://localhost:8080/"
        },
        "id": "a9XRaqTQkpn-",
        "outputId": "e9f34edc-1419-4275-ddd5-16b3665188ef"
      },
      "outputs": [
        {
          "output_type": "stream",
          "name": "stdout",
          "text": [
            "O faturamento da categoria Campeão:  4369518.38\n",
            "O faturamento das outras categorias:  4566228.29\n",
            "Percentual:  0.488993090490109\n"
          ]
        }
      ],
      "source": [
        "clientes_campeoes = montante['Total de Vendas'][0]\n",
        "print(\"O faturamento da categoria Campeão: \",clientes_campeoes)\n",
        "print(\"O faturamento das outras categorias: \",montante['Total de Vendas'].sum()-clientes_campeoes)\n",
        "print(\"Percentual: \",clientes_campeoes/montante['Total de Vendas'].sum())"
      ]
    },
    {
      "cell_type": "code",
      "execution_count": null,
      "metadata": {
        "_cell_guid": "696bf21d-e4e2-4c8c-9b36-892cb7436d9d",
        "_uuid": "43cdd519-2c11-4917-8ea4-136f3b7246ef",
        "execution": {
          "iopub.execute_input": "2022-07-15T19:01:36.345437Z",
          "iopub.status.busy": "2022-07-15T19:01:36.344209Z",
          "iopub.status.idle": "2022-07-15T19:01:36.355415Z",
          "shell.execute_reply": "2022-07-15T19:01:36.354369Z",
          "shell.execute_reply.started": "2022-07-15T19:01:36.345404Z"
        },
        "jupyter": {
          "source_hidden": true
        },
        "colab": {
          "base_uri": "https://localhost:8080/"
        },
        "id": "0wRE9FcPkpn-",
        "outputId": "8d6d9206-b711-420a-d671-7a2ae7e7ea8b"
      },
      "outputs": [
        {
          "output_type": "stream",
          "name": "stdout",
          "text": [
            "O faturamento da categoria Clientes Fiéis:  1876815.57\n",
            "Percentual:  0.21003455439275565\n"
          ]
        }
      ],
      "source": [
        "clientes_fieis = montante['Total de Vendas'][1]\n",
        "print(\"O faturamento da categoria Clientes Fiéis: \",clientes_fieis)\n",
        "print(\"Percentual: \",clientes_fieis/(montante['Total de Vendas'].sum()))"
      ]
    },
    {
      "cell_type": "markdown",
      "metadata": {
        "_cell_guid": "7886e20c-4847-4e4d-ba89-9f2cbfc12efe",
        "_uuid": "b913ba04-5d89-494b-be95-09ba814967e1",
        "id": "1ibgZuOFkpn-"
      },
      "source": [
        "<a id='recomendacoes'></a>\n",
        "# <font color=\"#ff009e\"> Recomendações a UK Merch </font>\n",
        "<hr color=\"#F5F5F5\" size=\"1\">\n",
        "\n",
        "* Considerando o Princípio de Pareto que diz que precisamos concentrar nossos esforços em <font color=\"#ff009e\"><strong>20% das atividades que geram 80% de retorno</strong></font>, então devemos avaliar quais segmentos dos clientes que causam mais retorno a UK Merch.\n",
        "* A categoria **Campeões gerou £4.369.518,38** e isso representa **48,90% do faturamento total** que é de £8.935.746,67. \n",
        "* Apenas **461 clientes** estão classificados como Campeões, representando em torno de **10,60% da quantidade total de clientes**.\n",
        "* A segunda maior categoria em faturamento é **Clientes Fiéis** e **gerou £1.876.815,57**, o que dá **21% do faturamento**. Ela possui **612 clientes** ou **14,08%** dos clientes totais.\n",
        "\n",
        "<div class=\"alert alert-success\"> \n",
        "<strong><div style=\"color: rgb(0, 0, 0);\">💡 O que fazer?</div></strong> <br>\n",
        "     <div style=\"color: rgb(0, 0, 0);\">  → Podemos concluir que <strong>principais esforços devam ser concentrados</strong> nos clientes classificados como <strong>Campeões</strong>, pois apenas <mark><strong>10,60% dos clientes</strong></mark> foi responsável por <strong><mark>gerar quase 50% do faturamento</mark></strong>.</div>         \n",
        "     <div style=\"color: rgb(0, 0, 0);\">  → Os esforços empregados na segunda maior categoria precisam ser bem avaliados, pois o seu faturamento é baixo se comparado ao faturamento da categoria Campeões.</div>\n",
        "    <div style=\"color: rgb(0, 0, 0);\">  → Também podemos reforçar que a análise de <strong>retenção de clientes por coorte</strong> possui melhor desempenho para clientes que <strong>moram no Reino Unido e indico que esses clientes sejam priorizados</strong>.</div>\n",
        "</div>"
      ]
    },
    {
      "cell_type": "markdown",
      "metadata": {
        "_cell_guid": "3f234ae9-dc42-4e07-9860-3d9c47a4a789",
        "_uuid": "af45ae78-f9ab-4a3e-93de-f1816b0a10f2",
        "id": "v40PmXC1kpn-"
      },
      "source": [
        "## <font color=\"#ff009e\"> Recomendações adicionais para cada categoria de cliente </font>\n",
        "<hr color=\"#F5F5F5\" size=\"1\">\n",
        "\n",
        "As recomendações de ações indicadas pela [Putler](https://www.putler.com/rfm-analysis/) a serem adotadas para cada categoria de clientes podem ser resumidas principalmente em:\n",
        "\n",
        "| Categoria | Recomendação | \n",
        "|--- |--- |\n",
        "| **Campeões** | Recompense-os. Os campeões podem ser _early adopters_ de novos produtos e promoverão a marca. |\n",
        "| **Clientes fiéis** | Ofereça produtos de maior valor. Peça por reviews nos produtos e faça o possível para engajá-los. | \n",
        "| **Fiéis em potencial** | Ofereça programas de membros ou de lealdade, além de recomendar outros produtos. |\n",
        "| **Novos clientes** | Dê todo o suporte que precisam no onboarding, de modo que o sucesso seja atingido mais rapidamente. Comece a construir um relacionamento. |\n",
        "| **Promessas** | Crie _awareness_ para a sua marca e ofereça testes ou avaliações gratuitas. |\n",
        "| **Clientes precisando de atenção** | Ofereça ofertas por tempo limitado, recomendadas de acordo com compras anteriores. Assim, eles podem ser reativados. |\n",
        "| **Quase dormentes** | Compartilhe recursos valiosos, recomende produtos ou renovações populares com desconto e reconecte-se com eles. |\n",
        "| **Em risco** | Envie e-mails personalizados para se reconectar com eles. Ofereça renovações e proporcione recursos úteis. |\n",
        "| **Não pode perder** | Conquiste-os novamente por meio de renovações ou de novos produtos. Converse com eles para evitar que reforcem a concorrência. |\n",
        "| **Hibernando** | Ofereça outros produtos relevantes e descontos especiais. Assim, torna-se possível recriar o valor da marca para tais clientes. |\n",
        "| **Perdidos** | Tente reviver seu interesse com campanhas. Se não funcionar, ignore. |"
      ]
    },
    {
      "cell_type": "markdown",
      "metadata": {
        "_cell_guid": "31dcb74a-0c66-415b-a6dd-ca6d1a7d824a",
        "_uuid": "0e4f72c6-668e-4ce5-85d5-385906b1084b",
        "id": "zNsRkuchkpn_"
      },
      "source": [
        "<a id='referencias'></a>\n",
        "# <font color=\"#ff009e\"> Referências importantes para o desenvolvimento deste projeto </font>\n",
        "<hr color=\"#F5F5F5\" size=\"1\">\n",
        "\n",
        "[Como fazer Análise Cohort e por que ela é importante para PMs](https://www.cursospm3.com.br/blog/como-fazer-analise-cohort-e-por-que-ela-e-importante-para-pms/)\n",
        "\n",
        "[Como fazer: Análise Cohort com Google Colab, Pandas e Seaborn em 5 passos](https://dataholds.com/como-fazer-analise-cohort-com-google-colab-pandas-e-seaborn-em-5-passos/)\n",
        "\n",
        "[RFM Analysis For Sucessful Customer Segmentation](https://www.putler.com/rfm-analysis/)\n",
        "\n",
        "[A análise RFM para segmentação de clientes](https://vidadeproduto.com.br/analise-rfm/)\n",
        "\n",
        "[Introduction to Customer Segmentation in Python](https://www.datacamp.com/tutorial/introduction-customer-segmentation-python)"
      ]
    }
  ],
  "metadata": {
    "kernelspec": {
      "display_name": "Python 3 (ipykernel)",
      "language": "python",
      "name": "python3"
    },
    "language_info": {
      "codemirror_mode": {
        "name": "ipython",
        "version": 3
      },
      "file_extension": ".py",
      "mimetype": "text/x-python",
      "name": "python",
      "nbconvert_exporter": "python",
      "pygments_lexer": "ipython3",
      "version": "3.9.7"
    },
    "vscode": {
      "interpreter": {
        "hash": "749c1fa42b8e77c9a897cb355f30513a81f4759733e4abb52f463cfc3ac7781a"
      }
    },
    "colab": {
      "name": "Análise de Segmentação de Clientes no e-commerce.ipynb",
      "provenance": [],
      "include_colab_link": true
    }
  },
  "nbformat": 4,
  "nbformat_minor": 0
}